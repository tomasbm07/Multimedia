{
 "cells": [
  {
   "cell_type": "code",
   "execution_count": null,
   "id": "7e5e494f",
   "metadata": {},
   "outputs": [],
   "source": [
    "import librosa #https://librosa.org/\n",
    "import librosa.display\n",
    "import librosa.beat\n",
    "import sounddevice as sd  #https://anaconda.org/conda-forge/python-sounddevice\n",
    "import warnings\n",
    "import numpy as np\n",
    "import pandas as pd\n",
    "import matplotlib.pyplot as plt\n",
    "import os\n",
    "import scipy.stats as scs\n",
    "import scipy.fft as scf\n",
    "import scipy.signal as scsg\n",
    "from sys import getsizeof as sizeof\n",
    "\n",
    "sr = 22050\n",
    "mono = True\n",
    "warnings.filterwarnings(\"ignore\")"
   ]
  },
  {
   "cell_type": "code",
   "execution_count": null,
   "id": "e4a6e970",
   "metadata": {},
   "outputs": [],
   "source": [
    "fName = \"Queries/MT0000202045.mp3\""
   ]
  },
  {
   "cell_type": "code",
   "execution_count": null,
   "id": "ca1b7b6e",
   "metadata": {},
   "outputs": [],
   "source": [
    "y, fs = librosa.load(fName, sr=sr, mono = mono)\n",
    "print(y.shape)\n",
    "print(fs)"
   ]
  },
  {
   "cell_type": "code",
   "execution_count": null,
   "id": "dfe23112",
   "metadata": {},
   "outputs": [],
   "source": [
    "sd.play(y, sr, blocking=False)"
   ]
  },
  {
   "cell_type": "code",
   "execution_count": null,
   "id": "4dbb1165",
   "metadata": {},
   "outputs": [],
   "source": [
    "plt.figure()\n",
    "librosa.display.waveshow(y)"
   ]
  },
  {
   "cell_type": "code",
   "execution_count": null,
   "id": "b4bd2c14",
   "metadata": {},
   "outputs": [],
   "source": [
    "Y = np.abs(librosa.stft(y))\n",
    "Ydb = librosa.amplitude_to_db(Y, ref=np.max)\n",
    "fig, ax = plt.subplots()\n",
    "img = librosa.display.specshow(Ydb, y_axis='linear', x_axis='time', ax=ax)\n",
    "ax.set_title('Power spectrogram')\n",
    "fig.colorbar(img, ax=ax, format=\"%+2.0f dB\")"
   ]
  },
  {
   "cell_type": "code",
   "execution_count": null,
   "id": "3f745c8d",
   "metadata": {},
   "outputs": [],
   "source": [
    "rms = librosa.feature.rms(y = y)\n",
    "rms = rms[0, :]\n",
    "print(rms.shape)\n",
    "times = librosa.times_like(rms)\n",
    "plt.figure(), plt.plot(times, rms)\n",
    "plt.xlabel('Time (s)')\n",
    "plt.title('RMS')"
   ]
  },
  {
   "cell_type": "markdown",
   "id": "d9e70aa7",
   "metadata": {},
   "source": [
    "# Semana 2"
   ]
  },
  {
   "cell_type": "code",
   "execution_count": null,
   "id": "b60651a2",
   "metadata": {},
   "outputs": [],
   "source": [
    "features = pd.read_csv(\"dataset/Features - Audio MER/features.csv\", delimiter=';')\n",
    "features"
   ]
  },
  {
   "cell_type": "code",
   "execution_count": null,
   "id": "6c83ac4e",
   "metadata": {
    "scrolled": true
   },
   "outputs": [],
   "source": [
    "top_100 = pd.read_csv(\"dataset/Features - Audio MER/top100_features.csv\")\n",
    "top_100.head()"
   ]
  },
  {
   "cell_type": "code",
   "execution_count": null,
   "id": "cf433d81",
   "metadata": {},
   "outputs": [],
   "source": [
    "top_100.shape"
   ]
  },
  {
   "cell_type": "code",
   "execution_count": null,
   "id": "16430c8a",
   "metadata": {},
   "outputs": [],
   "source": [
    "#get columns that represent the value of a feature\n",
    "filtered_columns = list(filter(lambda col: col[0]==\"F\", top_100.columns))\n",
    "#normalize those columns values with the librosa library\n",
    "top_100[filtered_columns] = librosa.util.normalize(top_100[filtered_columns].to_numpy())"
   ]
  },
  {
   "cell_type": "code",
   "execution_count": null,
   "id": "3bc57a2c",
   "metadata": {},
   "outputs": [],
   "source": [
    "top_100.to_csv(\"top_100_extracted_features.csv\", sep = \";\", index = False)"
   ]
  },
  {
   "cell_type": "code",
   "execution_count": null,
   "id": "970428c5",
   "metadata": {},
   "outputs": [],
   "source": [
    "#Receives uniform signal and extracts features\n",
    "def extract_features(signal : np.array):\n",
    "    mean = signal.mean()\n",
    "    stdDev = signal.std()\n",
    "    skewness = scs.skew(signal)\n",
    "    kurtosis = scs.kurtosis(signal)\n",
    "    median = np.median(signal)\n",
    "    max_value = signal.max()\n",
    "    min_value = signal.min()\n",
    "    return (mean, stdDev, skewness, kurtosis, median, max_value, min_value)"
   ]
  },
  {
   "cell_type": "code",
   "execution_count": null,
   "id": "0e6e68ee",
   "metadata": {},
   "outputs": [],
   "source": [
    "path = \"dataset/MER_audio_taffc_dataset/Q\"\n",
    "#910x190\n",
    "feature_matrix = np.zeros((910, 190))\n",
    "index=0\n",
    "for i in range(1,5):\n",
    "    for audio in os.listdir(f\"{path}{i}\"):\n",
    "        print(index)\n",
    "        y, fs = librosa.load(f\"{path}{i}/{audio}\", sr=sr, mono = mono)\n",
    "        #Spectral features extraction\n",
    "        mfcc = np.apply_along_axis(extract_features, 1, librosa.feature.mfcc(y=y, n_mfcc=13)).flatten()\n",
    "        spc_centroid= np.apply_along_axis(extract_features, 1, librosa.feature.spectral_centroid(y=y)).flatten()\n",
    "        spc_bdwth = np.apply_along_axis(extract_features, 1, librosa.feature.spectral_bandwidth(y=y)).flatten()\n",
    "        spc_contrast = np.apply_along_axis(extract_features, 1, librosa.feature.spectral_contrast(y=y)).flatten()\n",
    "        spc_flatness = np.apply_along_axis(extract_features, 1, librosa.feature.spectral_flatness(y=y)).flatten()\n",
    "        spc_rollof = np.apply_along_axis(extract_features, 1, librosa.feature.spectral_rolloff(y=y)).flatten()\n",
    "        f0 = np.apply_along_axis(extract_features, 0, librosa.yin(y, 20, 11025))\n",
    "        f0[f0==11025] = 0;\n",
    "        rms = np.apply_along_axis(extract_features, 1, librosa.feature.rms(y=y)).flatten()\n",
    "        zcr = np.apply_along_axis(extract_features, 1, librosa.feature.zero_crossing_rate(y=y)).flatten()\n",
    "        tempo = librosa.beat.tempo(y=y)\n",
    "        \n",
    "        feature_vector = np.concatenate((mfcc,spc_centroid, spc_bdwth, spc_contrast, spc_flatness, spc_rollof,\n",
    "                                        f0, rms, zcr, tempo))\n",
    "        \n",
    "        feature_matrix[index]=feature_vector;\n",
    "        index+=1;\n",
    "\n",
    "np.apply_along_axis(librosa.util.normalize, 1, feature_matrix)\n",
    "feature_matrix.tofile(\"exercise2_features.csv\", sep = \";\")\n",
    "del feature_matrix"
   ]
  },
  {
   "cell_type": "code",
   "execution_count": null,
   "id": "9c066839",
   "metadata": {},
   "outputs": [],
   "source": [
    "def vectorDiff(music, feature_matrix):\n",
    "    features = np.genfromtxt(\"top_100_features_normalized.csv\")\n",
    "    musics = np.zeros(900,2)\n",
    "    music_sorted = np.zeros(20)\n",
    "    for i in range(900):\n",
    "        difference = music - feature_matrix[i]\n",
    "        if(difference!=0):\n",
    "            musics[i][0] = i\n",
    "            musics[i][1] = difference\n",
    "        sort = musics[musics[:, 1].argsort()]\n",
    "        \n",
    "    for i in range(20):\n",
    "        music_sorted[i] = features[sort[i],[0],0]\n",
    "        \n",
    "    np.savetxt(\"best_musics_recomendations\", music_sorted, delimiter=\";\")"
   ]
  }
 ],
 "metadata": {
  "kernelspec": {
   "display_name": "Python 3 (ipykernel)",
   "language": "python",
   "name": "python3"
  },
  "language_info": {
   "codemirror_mode": {
    "name": "ipython",
    "version": 3
   },
   "file_extension": ".py",
   "mimetype": "text/x-python",
   "name": "python",
   "nbconvert_exporter": "python",
   "pygments_lexer": "ipython3",
   "version": "3.9.7"
  }
 },
 "nbformat": 4,
 "nbformat_minor": 5
}
