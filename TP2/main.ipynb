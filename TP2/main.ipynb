{
 "cells": [
  {
   "cell_type": "code",
   "execution_count": 1,
   "id": "94cfed9c",
   "metadata": {},
   "outputs": [],
   "source": [
    "import librosa #https://librosa.org/\n",
    "import librosa.display\n",
    "import librosa.beat\n",
    "import sounddevice as sd  #https://anaconda.org/conda-forge/python-sounddevice\n",
    "import warnings\n",
    "import numpy as np\n",
    "import pandas as pd\n",
    "import matplotlib.pyplot as plt\n",
    "import os\n",
    "import scipy.stats as scs\n",
    "import scipy.fft as scf\n",
    "import scipy.signal as scsg\n",
    "from sys import getsizeof as sizeof\n",
    "from scipy.spatial.distance import  euclidean, cosine, cityblock\n",
    "from pprint import pprint\n",
    "from IPython.display import display\n",
    "\n",
    "sr = 22050\n",
    "mono = True\n",
    "warnings.filterwarnings(\"ignore\")"
   ]
  },
  {
   "cell_type": "code",
   "execution_count": 2,
   "id": "5550bf9b",
   "metadata": {},
   "outputs": [],
   "source": [
    "# Alterar o valor de run para 1 ou True, para calcular as várias matrizes com os features e distâncias\n",
    "run = 0"
   ]
  },
  {
   "cell_type": "markdown",
   "id": "a4b67ce9",
   "metadata": {},
   "source": [
    "## Semana 2\n",
    "### *Exercicio 2.1*"
   ]
  },
  {
   "cell_type": "code",
   "execution_count": 3,
   "id": "257180ea",
   "metadata": {},
   "outputs": [],
   "source": [
    "feat = pd.read_csv(\"dataset/Features - Audio MER/top100_features.csv\", index_col=0)"
   ]
  },
  {
   "cell_type": "code",
   "execution_count": 4,
   "id": "4a998f81",
   "metadata": {},
   "outputs": [],
   "source": [
    "def min_max_scale(y):\n",
    "    min_v = y.min()\n",
    "    max_v = y.max()\n",
    "    \n",
    "    up = (y - min_v)\n",
    "    down = (max_v - min_v)\n",
    "    return  up/down if down!=0 else 0 "
   ]
  },
  {
   "cell_type": "code",
   "execution_count": 5,
   "id": "b9fdfe1d",
   "metadata": {},
   "outputs": [],
   "source": [
    "def standardization(y):\n",
    "    return (y - y.mean())/y.std()"
   ]
  },
  {
   "cell_type": "code",
   "execution_count": 6,
   "id": "92d3b8a0",
   "metadata": {},
   "outputs": [],
   "source": [
    "feat = feat.drop(columns=[\"Quadrant\"])"
   ]
  },
  {
   "cell_type": "code",
   "execution_count": 7,
   "id": "a136a3e9",
   "metadata": {},
   "outputs": [],
   "source": [
    "feat = feat.apply(lambda col: min_max_scale(col), axis = 0)"
   ]
  },
  {
   "cell_type": "code",
   "execution_count": 8,
   "id": "693470f5",
   "metadata": {},
   "outputs": [],
   "source": [
    "feat = feat.to_numpy()"
   ]
  },
  {
   "cell_type": "code",
   "execution_count": 9,
   "id": "11267864",
   "metadata": {},
   "outputs": [],
   "source": [
    "if run: np.savetxt(\"dataset/Features - Audio MER/top100_features_normalized.csv\", feat)"
   ]
  },
  {
   "cell_type": "markdown",
   "id": "8a5b23fc",
   "metadata": {},
   "source": [
    "### *Exercicio 2.2*"
   ]
  },
  {
   "cell_type": "code",
   "execution_count": 10,
   "id": "4aa87f09",
   "metadata": {},
   "outputs": [],
   "source": [
    "y,fs = librosa.load(\"dataset/MER_audio_taffc_dataset/Q1/MT0000040632.mp3\", sr=sr, mono = mono)"
   ]
  },
  {
   "cell_type": "code",
   "execution_count": 11,
   "id": "8b02d7b1",
   "metadata": {},
   "outputs": [],
   "source": [
    "def extract_features(signal : np.array):\n",
    "    mean = signal.mean()\n",
    "    stdDev = signal.std()\n",
    "    skewness = scs.skew(signal)\n",
    "    kurtosis = scs.kurtosis(signal)\n",
    "    median = np.median(signal)\n",
    "    max_value = signal.max()\n",
    "    min_value = signal.min()\n",
    "    return (mean, stdDev, skewness, kurtosis, median, max_value, min_value)"
   ]
  },
  {
   "cell_type": "code",
   "execution_count": 12,
   "id": "34e6696e",
   "metadata": {},
   "outputs": [
    {
     "name": "stdout",
     "output_type": "stream",
     "text": [
      "\n",
      "    mfcc = (91,)\n",
      "    centroid = (7,)\n",
      "    bdwth = (7,)\n",
      "    contrast = (49,)\n",
      "    flatness = (7,)\n",
      "    rollof = (7,)\n",
      "    f0 = (7,)\n",
      "    rms = (7,)\n",
      "    zcr = (7,)\n",
      "    tempo = [99.38401442]\n",
      "    \n"
     ]
    }
   ],
   "source": [
    "mfcc = np.apply_along_axis(extract_features, 1, librosa.feature.mfcc(y=y, n_mfcc=13)).flatten()\n",
    "spc_centroid= np.apply_along_axis(extract_features, 1, librosa.feature.spectral_centroid(y=y)).flatten()\n",
    "spc_bdwth = np.apply_along_axis(extract_features, 1, librosa.feature.spectral_bandwidth(y=y)).flatten()\n",
    "spc_contrast = np.apply_along_axis(extract_features, 1, librosa.feature.spectral_contrast(y=y)).flatten()\n",
    "spc_flatness = np.apply_along_axis(extract_features, 1, librosa.feature.spectral_flatness(y=y)).flatten()\n",
    "spc_rollof = np.apply_along_axis(extract_features, 1, librosa.feature.spectral_rolloff(y=y)).flatten()\n",
    "f0 = np.apply_along_axis(extract_features, 0, librosa.yin(y, 20, 11025))\n",
    "f0[f0==11025] = 0;\n",
    "rms = np.apply_along_axis(extract_features, 1, librosa.feature.rms(y=y)).flatten()\n",
    "zcr = np.apply_along_axis(extract_features, 1, librosa.feature.zero_crossing_rate(y=y)).flatten()\n",
    "tempo = librosa.beat.tempo(y=y)\n",
    "\n",
    "print(\n",
    "    f\"\"\"\n",
    "    mfcc = {mfcc.shape}\n",
    "    centroid = {spc_centroid.shape}\n",
    "    bdwth = {spc_bdwth.shape}\n",
    "    contrast = {spc_contrast.shape}\n",
    "    flatness = {spc_flatness.shape}\n",
    "    rollof = {spc_rollof.shape}\n",
    "    f0 = {f0.shape}\n",
    "    rms = {rms.shape}\n",
    "    zcr = {zcr.shape}\n",
    "    tempo = {tempo}\n",
    "    \"\"\"\n",
    ")"
   ]
  },
  {
   "cell_type": "code",
   "execution_count": 13,
   "id": "e4c01573",
   "metadata": {},
   "outputs": [],
   "source": [
    "feature_vector = np.concatenate((mfcc,spc_centroid, spc_bdwth, spc_contrast, spc_flatness, spc_rollof,\n",
    "                                    f0, rms, zcr, tempo))"
   ]
  },
  {
   "cell_type": "code",
   "execution_count": 14,
   "id": "f82e863a",
   "metadata": {},
   "outputs": [
    {
     "data": {
      "text/plain": [
       "(190,)"
      ]
     },
     "execution_count": 14,
     "metadata": {},
     "output_type": "execute_result"
    }
   ],
   "source": [
    "feature_vector.shape"
   ]
  },
  {
   "cell_type": "code",
   "execution_count": 15,
   "id": "9c465689",
   "metadata": {},
   "outputs": [],
   "source": [
    "if run:\n",
    "    path = \"dataset/MER_audio_taffc_dataset/Q\"\n",
    "    #910x190\n",
    "    feature_matrix = np.zeros((900, 190))\n",
    "    index=0\n",
    "    for audio in sorted(os.listdir(path)):\n",
    "        print(index)\n",
    "        y, fs = librosa.load(f\"{path}/{audio}\", sr=sr, mono = mono)\n",
    "        #Spectral features extraction\n",
    "        mfcc = np.apply_along_axis(extract_features, 1, librosa.feature.mfcc(y=y, n_mfcc=13)).flatten()\n",
    "        spc_centroid= np.apply_along_axis(extract_features, 1, librosa.feature.spectral_centroid(y=y)).flatten()\n",
    "        spc_bdwth = np.apply_along_axis(extract_features, 1, librosa.feature.spectral_bandwidth(y=y)).flatten()\n",
    "        spc_contrast = np.apply_along_axis(extract_features, 1, librosa.feature.spectral_contrast(y=y)).flatten()\n",
    "        spc_flatness = np.apply_along_axis(extract_features, 1, librosa.feature.spectral_flatness(y=y)).flatten()\n",
    "        spc_rollof = np.apply_along_axis(extract_features, 1, librosa.feature.spectral_rolloff(y=y)).flatten()\n",
    "        f0 = librosa.yin(y, 20, 11025)\n",
    "        f0[f0==11025] = 0\n",
    "        f0 = np.apply_along_axis(extract_features, 0, f0)\n",
    "        rms = np.apply_along_axis(extract_features, 1, librosa.feature.rms(y=y)).flatten()\n",
    "        zcr = np.apply_along_axis(extract_features, 1, librosa.feature.zero_crossing_rate(y=y)).flatten()\n",
    "        tempo = librosa.beat.tempo(y=y)\n",
    "\n",
    "        feature_vector = np.concatenate((mfcc,spc_centroid, spc_bdwth, spc_contrast, spc_flatness, spc_rollof,\n",
    "                                        f0, rms, zcr, tempo))\n",
    "\n",
    "        feature_matrix[index]=feature_vector;\n",
    "        index+=1;\n",
    "\n",
    "#np.apply_along_axis(librosa.util.normalize, 1, feature_matrix)\n",
    "#feature_matrix.tofile(\"exercise2_features.csv\", sep = \";\")\n",
    "#del feature_matrix"
   ]
  },
  {
   "cell_type": "code",
   "execution_count": 16,
   "id": "c22f2a9d",
   "metadata": {},
   "outputs": [],
   "source": [
    "if run: np.savetxt(\"dataset/Features - Audio MER/extracted_features.csv\", feature_matrix)"
   ]
  },
  {
   "cell_type": "code",
   "execution_count": 17,
   "id": "48f6f312",
   "metadata": {},
   "outputs": [],
   "source": [
    "if run: feature_matrix.shape"
   ]
  },
  {
   "cell_type": "code",
   "execution_count": 18,
   "id": "d6f2d735",
   "metadata": {},
   "outputs": [],
   "source": [
    "if run: feat_matrix_norm = np.apply_along_axis(min_max_scale, 0, feature_matrix)"
   ]
  },
  {
   "cell_type": "code",
   "execution_count": 19,
   "id": "38353502",
   "metadata": {},
   "outputs": [],
   "source": [
    "if run: np.savetxt(\"dataset/Features - Audio MER/extracted_features_normalized.csv\", feat_matrix_norm)"
   ]
  },
  {
   "cell_type": "code",
   "execution_count": 20,
   "id": "4e512c38",
   "metadata": {},
   "outputs": [],
   "source": [
    "feature_matrix = np.loadtxt(\"dataset/Features - Audio MER/extracted_features.csv\")\n",
    "feat_matrix_norm = np.loadtxt(\"dataset/Features - Audio MER/extracted_features_normalized.csv\")"
   ]
  },
  {
   "cell_type": "markdown",
   "id": "d4d8265a",
   "metadata": {},
   "source": [
    "### *Exercicio 2.3*\n",
    "> Referências: <br>\n",
    "    - https://stackoverflow.com/questions/37963042/python-librosa-what-is-the-default-frame-size-used-to-compute-the-mfcc-feature <br>\n",
    "    - https://en.wikipedia.org/wiki/Mel_scale <br>\n",
    "    - https://haythamfayek.com/2016/04/21/speech-processing-for-machine-learning.html <br>\n",
    "    - https://gist.github.com/bmcfee/746e572232be36f3bd462749fb1796da <br>\n",
    "    - https://github.com/librosa/librosa <br>\n",
    "    - https://www.researchgate.net/publication/220723537_Finding_An_Optimal_Segmentation_for_Audio_Genre_Classification#pf2 <br>\n",
    "    - https://en.wikipedia.org/wiki/Octave_band <br>\n",
    "    - https://en.wikipedia.org/wiki/Spectral_flatness <br>\n",
    "    - https://en.wikipedia.org/wiki/Root_mean_square <br>\n",
    "    - https://github.com/scipy/scipy <br>\n",
    "    - http://practicalcryptography.com/miscellaneous/machine-learning/guide-mel-frequency-cepstral-coefficients-mfccs/"
   ]
  },
  {
   "cell_type": "code",
   "execution_count": 21,
   "id": "3f2de7d6",
   "metadata": {},
   "outputs": [],
   "source": [
    "y,fs = librosa.load(\"dataset/MER_audio_taffc_dataset/Q1/MT0000040632.mp3\", sr=sr, mono = mono)"
   ]
  },
  {
   "cell_type": "code",
   "execution_count": 22,
   "id": "53a465a8",
   "metadata": {},
   "outputs": [],
   "source": [
    "def hz2mel(f):\n",
    "    return 2595 * np.log10(1 + f / 700)"
   ]
  },
  {
   "cell_type": "code",
   "execution_count": 23,
   "id": "4872fcf9",
   "metadata": {},
   "outputs": [],
   "source": [
    "def mel2hz(m):\n",
    "    return 700 * (10 ** (m / 2595) - 1)"
   ]
  },
  {
   "cell_type": "code",
   "execution_count": 24,
   "id": "c9c20dbe",
   "metadata": {},
   "outputs": [],
   "source": [
    "def get_time_frames(y, nperseg, noverlap):\n",
    "    #from numpy/librosa\n",
    "    step = nperseg - noverlap\n",
    "    shape = y.shape[:-1] + ((y.shape[-1] - noverlap) // step, nperseg)\n",
    "    strides = y.strides[:-1] + (step * y.strides[-1], y.strides[-1])\n",
    "    result = np.lib.stride_tricks.as_strided(\n",
    "        y, shape=shape, strides=strides, writeable=True\n",
    "    )\n",
    "    result = result.swapaxes(0, 1)\n",
    "    return result"
   ]
  },
  {
   "cell_type": "code",
   "execution_count": 25,
   "id": "c92c04a3",
   "metadata": {},
   "outputs": [],
   "source": [
    "def mel_filterbank(sr, n_fft, frame_length, n=40, fmin=20, fmax=None):\n",
    "    if fmax == None:\n",
    "        fmax = sr/2\n",
    "    min_mel, max_mel = hz2mel(fmin), hz2mel(fmax)\n",
    "    \n",
    "    mel_freq = mel2hz(np.linspace(min_mel, max_mel, n+2))\n",
    "    bins = np.floor((n_fft + 1) / sr * mel_freq).astype(int)\n",
    "    \n",
    "    filterbank = np.zeros((n, frame_length))\n",
    "    \n",
    "    for i in range(1, n+1):\n",
    "        left_pos = bins[i-1]\n",
    "        center_pos = bins[i]\n",
    "        right_pos = bins[i+1]\n",
    "        \n",
    "        up = np.linspace(0, 1, center_pos - left_pos + 1)\n",
    "        down = np.linspace(1, 0, right_pos - center_pos + 1)\n",
    "        \n",
    "        filterbank[i-1, left_pos:(center_pos+1)] = up\n",
    "        filterbank[i-1, center_pos:(right_pos+1)] = down\n",
    "        \n",
    "    return filterbank"
   ]
  },
  {
   "cell_type": "code",
   "execution_count": 26,
   "id": "ac6ddec4",
   "metadata": {},
   "outputs": [],
   "source": [
    "def mfcc(mag, mel_filter, n=13):\n",
    "    filter_coef = (mel_filter * mag).sum(axis = 1)\n",
    "    filter_coef[filter_coef == 0] = 1\n",
    "    logged_coefs = 20*np.log10(filter_coef)\n",
    "    ceps_coefs = scf.dct(logged_coefs)\n",
    "    return ceps_coefs[:n]"
   ]
  },
  {
   "cell_type": "code",
   "execution_count": 27,
   "id": "de148412",
   "metadata": {},
   "outputs": [],
   "source": [
    "def spectral_centroid(mag, freqs, smart=True):\n",
    "    min_value = 1e-40\n",
    "    if smart:\n",
    "        #remove zeros\n",
    "        mag = np.maximum(min_value, mag)\n",
    "        \n",
    "    div = np.sum(mag)\n",
    "    return np.sum(mag * freqs) / div if div != 0 else 0"
   ]
  },
  {
   "cell_type": "code",
   "execution_count": 28,
   "id": "d5667bf1",
   "metadata": {},
   "outputs": [],
   "source": [
    "def spectral_bandwith(mag, freq, p=2):\n",
    "    centroid = spectral_centroid(mag, freq)\n",
    "    return np.sum( mag * (freq - centroid)**p ) ** (1/p)"
   ]
  },
  {
   "cell_type": "code",
   "execution_count": 29,
   "id": "943c1e5c",
   "metadata": {},
   "outputs": [],
   "source": [
    "def spectral_flatness(mag, smart=True):\n",
    "    power_spec=mag**2\n",
    "    min_value = 1e-20\n",
    "    if smart:\n",
    "        #to remove zeros\n",
    "        power_spec = np.maximum(min_value, power_spec)\n",
    "    div = power_spec.mean()\n",
    "    return scs.gmean(power_spec) / div if div!=0 else 0"
   ]
  },
  {
   "cell_type": "code",
   "execution_count": 30,
   "id": "c6cee8ae",
   "metadata": {},
   "outputs": [],
   "source": [
    "def spectral_rollof(mag, freq, perc=0.85):\n",
    "    cumulative_sum = np.cumsum(mag)\n",
    "    threshold = 0.85 * cumulative_sum[-1]\n",
    "    index = len(cumulative_sum[cumulative_sum < threshold])\n",
    "    return freq[index]"
   ]
  },
  {
   "cell_type": "code",
   "execution_count": 31,
   "id": "8bae3206",
   "metadata": {},
   "outputs": [],
   "source": [
    "def root_mean_square(y):\n",
    "    return np.sqrt((y**2).mean())"
   ]
  },
  {
   "cell_type": "code",
   "execution_count": 32,
   "id": "3dc6c2e5",
   "metadata": {},
   "outputs": [],
   "source": [
    "def zero_crossing_rate(y):\n",
    "    y[y<0] = -1\n",
    "    y[y>=0] = 1\n",
    "    return np.mean(np.abs(y[1:] - y[:-1]))/2"
   ]
  },
  {
   "cell_type": "code",
   "execution_count": 33,
   "id": "d2587139",
   "metadata": {},
   "outputs": [],
   "source": [
    "def features(y, sr=22050, hop_length=512, n_mfcc=13, n_fft=2048):\n",
    "    f, t, spec = scsg.stft( y, sr, nperseg=n_fft, noverlap=n_fft - hop_length, window=\"hann\", padded=False )\n",
    "    time_frames = get_time_frames(y, n_fft, n_fft - hop_length)\n",
    "    spec *= n_fft / 2  \n",
    "    mag = np.abs(spec)\n",
    "    \n",
    "    mel_filter = mel_filterbank(sr=sr, n_fft=n_fft, frame_length=len(f))\n",
    "    \n",
    "    mfccs = np.apply_along_axis(mfcc, 0, mag, mel_filter).reshape(13, spec.shape[-1])\n",
    "    centroid = np.apply_along_axis(spectral_centroid, 0, mag, f).reshape(1, spec.shape[-1])\n",
    "    bandwith = np.apply_along_axis(spectral_bandwith, 0, mag, f).reshape(1, spec.shape[-1])\n",
    "    flatness = np.apply_along_axis(spectral_flatness, 0, mag).reshape(1, spec.shape[-1])\n",
    "    rollof = np.apply_along_axis(spectral_rollof, 0, mag, f).reshape(1, spec.shape[-1])\n",
    "    \n",
    "    rms = np.apply_along_axis(root_mean_square, 0, time_frames).reshape(1, time_frames.shape[-1])\n",
    "    zcr = np.apply_along_axis(zero_crossing_rate, 0, time_frames).reshape(1, time_frames.shape[-1])\n",
    "    return (mfccs,\n",
    "            centroid, \n",
    "            bandwith, \n",
    "            flatness,\n",
    "            rollof, \n",
    "            rms, \n",
    "            zcr)"
   ]
  },
  {
   "cell_type": "code",
   "execution_count": 34,
   "id": "a5257626",
   "metadata": {},
   "outputs": [
    {
     "name": "stdout",
     "output_type": "stream",
     "text": [
      "[[ 0.00000000e+00  0.00000000e+00 -3.17948625e+03 ...  1.02451118e+03\n",
      "   5.61967440e+02 -6.74623957e+02]\n",
      " [ 0.00000000e+00  0.00000000e+00  1.40487534e+02 ...  1.08662451e+02\n",
      "   1.08302334e+02  3.62996122e+01]\n",
      " [ 0.00000000e+00  0.00000000e+00  2.11672882e+02 ...  1.38183488e+01\n",
      "   2.35107490e+01  1.43527028e+02]\n",
      " ...\n",
      " [ 0.00000000e+00  0.00000000e+00 -6.07910228e+01 ...  2.09368195e+00\n",
      "   7.23438542e+00 -7.83129299e+00]\n",
      " [ 0.00000000e+00  0.00000000e+00  2.52346272e+01 ...  5.26763021e+01\n",
      "   3.02826056e+01 -3.45040255e+00]\n",
      " [ 0.00000000e+00  0.00000000e+00 -3.21052719e+01 ...  4.70293848e+01\n",
      "   5.20744176e+01  4.09081341e+01]]\n",
      "[[5512.50015073 5512.50015073 2175.56555029 ... 2249.50704408\n",
      "  2293.83838047 2648.2864036 ]]\n",
      "[[    0.             0.          2091.27563384 ... 37097.42202401\n",
      "  26456.05375657 12334.78582425]]\n",
      "[[1.0000014  1.0000014  0.01688097 ... 0.01609812 0.01694409 0.02282196]]\n",
      "False\n",
      "False\n",
      "False\n",
      "\n",
      "False\n",
      "False\n",
      "False\n",
      "False\n",
      "False\n",
      "False\n",
      "False\n",
      "\n"
     ]
    }
   ],
   "source": [
    "songs = sorted(os.listdir(\"dataset/MER_audio_taffc_dataset/Q\"))\n",
    "\n",
    "k=20\n",
    "y,fs = librosa.load(f\"dataset/MER_audio_taffc_dataset/Q/{songs[k]}\", sr=sr, mono = mono)\n",
    "\n",
    "(mfccs,\n",
    " centroid, \n",
    " bandwith,\n",
    " flatness,\n",
    " rollof,\n",
    " rms, \n",
    " zcr) = features(y.copy())\n",
    "\n",
    "print(#np.any((\n",
    "     mfccs,\n",
    "     centroid,\n",
    "     bandwith,\n",
    "     flatness,\n",
    "     np.any(np.isnan(rollof)),\n",
    "     np.any(np.isnan(rms)),\n",
    "     np.any(np.isnan(zcr)),\n",
    "    #)),\n",
    "     sep =\"\\n\",\n",
    "     end=\"\\n\\n\")\n",
    "\n",
    "mfccs = np.apply_along_axis(extract_features, 1, mfccs).flatten()\n",
    "centroid= np.apply_along_axis(extract_features, 1, centroid).flatten()\n",
    "bandwith = np.apply_along_axis(extract_features, 1, bandwith).flatten()\n",
    "flatness = np.apply_along_axis(extract_features, 1, flatness).flatten()\n",
    "rollof = np.apply_along_axis(extract_features, 1, rollof).flatten()\n",
    "rms = np.apply_along_axis(extract_features, 1, rms).flatten()\n",
    "zcr = np.apply_along_axis(extract_features, 1, zcr).flatten()\n",
    "\n",
    "print(#np.any((\n",
    "     np.any(np.isnan(mfccs)),\n",
    "     np.any(np.isnan(centroid)),\n",
    "     np.any(np.isnan(bandwith)),\n",
    "     np.any(np.isnan(flatness)),\n",
    "     np.any(np.isnan(rollof)),\n",
    "     np.any(np.isnan(rms)),\n",
    "     np.any(np.isnan(zcr)),\n",
    "    #)),\n",
    "     sep =\"\\n\",\n",
    "     end=\"\\n\\n\")"
   ]
  },
  {
   "cell_type": "code",
   "execution_count": 35,
   "id": "06382517",
   "metadata": {},
   "outputs": [],
   "source": [
    "if run:\n",
    "    path = \"dataset/MER_audio_taffc_dataset/Q\"\n",
    "    #900x190\n",
    "    feature_matrix2 = np.zeros((900, 133))\n",
    "    index=0\n",
    "    for audio in sorted(os.listdir(path)):\n",
    "        print(index)\n",
    "        y, fs = librosa.load(f\"{path}/{audio}\", sr=sr, mono = mono)\n",
    "\n",
    "        (mfccs,\n",
    "         centroid, \n",
    "         bandwith,\n",
    "         flatness,\n",
    "         rollof,\n",
    "         rms, \n",
    "         zcr) = features(y.copy())\n",
    "\n",
    "        #Spectral features extraction\n",
    "        mfccs = np.apply_along_axis(extract_features, 1, mfccs).flatten()\n",
    "        centroid= np.apply_along_axis(extract_features, 1, centroid).flatten()\n",
    "        bandwith = np.apply_along_axis(extract_features, 1, bandwith).flatten()\n",
    "        flatness = np.apply_along_axis(extract_features, 1, flatness).flatten()\n",
    "        rollof = np.apply_along_axis(extract_features, 1, rollof).flatten()\n",
    "        rms = np.apply_along_axis(extract_features, 1, rms).flatten()\n",
    "        zcr = np.apply_along_axis(extract_features, 1, zcr).flatten()\n",
    "\n",
    "        feature_vector = np.concatenate((mfccs, centroid, bandwith, flatness, rollof, rms, zcr))\n",
    "\n",
    "        feature_matrix2[index]=feature_vector;\n",
    "        index+=1;\n"
   ]
  },
  {
   "cell_type": "code",
   "execution_count": 36,
   "id": "a9d368bc",
   "metadata": {},
   "outputs": [],
   "source": [
    "if run:\n",
    "    np.savetxt(\"dataset/Features - Audio MER/manual_extracted_features.csv\", feature_matrix2)"
   ]
  },
  {
   "cell_type": "code",
   "execution_count": 37,
   "id": "ac3f49a3",
   "metadata": {},
   "outputs": [],
   "source": [
    "if run:\n",
    "    feat_matrix_norm2 = np.apply_along_axis(min_max_scale, 0, feature_matrix2)"
   ]
  },
  {
   "cell_type": "code",
   "execution_count": 38,
   "id": "c1fa85f1",
   "metadata": {},
   "outputs": [],
   "source": [
    "if run:\n",
    "    np.savetxt(\"dataset/Features - Audio MER/manual_extracted_features_normalized.csv\", feat_matrix_norm2)"
   ]
  },
  {
   "cell_type": "code",
   "execution_count": 39,
   "id": "186cffc2",
   "metadata": {},
   "outputs": [],
   "source": [
    "feature_matrix2 = np.loadtxt(\"dataset/Features - Audio MER/manual_extracted_features.csv\")\n",
    "feat_matrix_norm2 = np.loadtxt(\"dataset/Features - Audio MER/manual_extracted_features_normalized.csv\")"
   ]
  },
  {
   "cell_type": "markdown",
   "id": "f14df2ca",
   "metadata": {},
   "source": [
    "Para validar os features calculados manualmente, foram comparados os gráficos resultantes das funções manuais com as funções de librosa, de modo a perceber se existia diferenças significativas e foram ainda comparadas algumas seções das matrizes resultantes de cada função. Foram vistos os valores iniciais e valores numa posição mais interna. Na maioria dos features, as diferenças começavam a verificar-se a partir da 3ª casa decimal, devido a erros de precisão."
   ]
  },
  {
   "cell_type": "markdown",
   "id": "dd9d9106",
   "metadata": {},
   "source": [
    "## Semana 3\n",
    "### Exercicio 3.2"
   ]
  },
  {
   "cell_type": "code",
   "execution_count": 40,
   "id": "d7b91743",
   "metadata": {},
   "outputs": [],
   "source": [
    "def dist(v1, v2, dist_type):\n",
    "    if dist_type == \"e\":\n",
    "        return euclidean(v1, v2)\n",
    "    elif dist_type == \"m\":\n",
    "        return cityblock(v1, v2)\n",
    "    elif dist_type == \"c\":\n",
    "        return cosine(v1, v2)\n",
    "    else:\n",
    "        raise Exception"
   ]
  },
  {
   "cell_type": "markdown",
   "id": "a00f3ea0",
   "metadata": {},
   "source": [
    "### *Exercicio 3.2*"
   ]
  },
  {
   "cell_type": "code",
   "execution_count": 41,
   "id": "6ec63191",
   "metadata": {},
   "outputs": [],
   "source": [
    "if run:\n",
    "    for dist_type in (\"e\", \"m\", \"c\"):\n",
    "        similarity_matrix = np.zeros((900,900))\n",
    "        for i in range(900):\n",
    "            for j in range(i+1, 900):\n",
    "                d = dist(feat_matrix_norm[i, :], feat_matrix_norm[j, :], dist_type)\n",
    "                similarity_matrix[i, j] = d\n",
    "                similarity_matrix[j, i] = d\n",
    "        print(dist_type, \"done\")\n",
    "        np.savetxt(f\"dataset/SimilarityMatrix/d{dist_type}.csv\", similarity_matrix, fmt=\"%f\")\n"
   ]
  },
  {
   "cell_type": "code",
   "execution_count": 42,
   "id": "41f30ad4",
   "metadata": {},
   "outputs": [],
   "source": [
    "if run:\n",
    "    for dist_type in (\"e\", \"m\", \"c\"):\n",
    "        similarity_matrix = np.zeros((900,900))\n",
    "        for i in range(900):\n",
    "            for j in range(i+1, 900):\n",
    "                d = dist(feat[i, :], feat[j, :], dist_type)\n",
    "                similarity_matrix[i, j] = d\n",
    "                similarity_matrix[j, i] = d\n",
    "        print(dist_type, \"done\")\n",
    "        np.savetxt(f\"dataset/SimilarityMatrix/top100{dist_type}.csv\", similarity_matrix, fmt=\"%f\")\n"
   ]
  },
  {
   "cell_type": "code",
   "execution_count": 43,
   "id": "6c7a3104",
   "metadata": {},
   "outputs": [],
   "source": [
    "if run:\n",
    "    for dist_type in (\"e\", \"m\", \"c\"):\n",
    "        similarity_matrix = np.zeros((900,900))\n",
    "        for i in range(900):\n",
    "            for j in range(i+1, 900):\n",
    "                d = dist(feat_matrix_norm2[i, :], feat_matrix_norm2[j, :], dist_type)\n",
    "                similarity_matrix[i, j] = d\n",
    "                similarity_matrix[j, i] = d\n",
    "        print(dist_type, \"done\")\n",
    "        np.savetxt(f\"dataset/SimilarityMatrix/m{dist_type}.csv\", similarity_matrix, fmt=\"%f\")\n"
   ]
  },
  {
   "cell_type": "markdown",
   "id": "fda763ca",
   "metadata": {},
   "source": [
    "### *Exercicio 3.3*"
   ]
  },
  {
   "cell_type": "code",
   "execution_count": 44,
   "id": "f001cfc2",
   "metadata": {},
   "outputs": [],
   "source": [
    "def get_song_index(song_name):\n",
    "    songs = os.listdir(\"dataset/MER_audio_taffc_dataset/Q\")\n",
    "    songs.sort()\n",
    "    return np.where(np.array(songs)==song_name)[0][0]"
   ]
  },
  {
   "cell_type": "code",
   "execution_count": 45,
   "id": "9056e06d",
   "metadata": {},
   "outputs": [],
   "source": [
    "def get_song_name(song_index):\n",
    "    songs = os.listdir(\"dataset/MER_audio_taffc_dataset/Q\")\n",
    "    songs.sort()\n",
    "    return songs[song_index]"
   ]
  },
  {
   "cell_type": "code",
   "execution_count": 46,
   "id": "ac7a775e",
   "metadata": {},
   "outputs": [],
   "source": [
    "if run:\n",
    "    for song in os.listdir(\"Queries/\"):\n",
    "        i = get_song_index(song)\n",
    "        for dist_type in (\"e\", \"m\", \"c\"):\n",
    "            song_row = np.loadtxt(f\"dataset/SimilarityMatrix/d{dist_type}.csv\")[i]\n",
    "            sorted_indexes = np.argsort(song_row)[1:21]\n",
    "            top_songs_names = list(map(lambda song_index: get_song_name(song_index), sorted_indexes))\n",
    "            os.makedirs(f\"dataset/Rankings/{song}\", exist_ok=True)\n",
    "            np.savetxt(f\"dataset/Rankings/{song}/d{dist_type}.csv\", top_songs_names, fmt=\"%s\")"
   ]
  },
  {
   "cell_type": "code",
   "execution_count": 47,
   "id": "92d6a5ba",
   "metadata": {},
   "outputs": [],
   "source": [
    "if run:\n",
    "    for song in os.listdir(\"Queries/\"):\n",
    "        i = get_song_index(song)\n",
    "        for dist_type in (\"e\", \"m\", \"c\"):\n",
    "            song_row = np.loadtxt(f\"dataset/SimilarityMatrix/top100{dist_type}.csv\")[i]\n",
    "            sorted_indexes = np.argsort(song_row)[1:21]\n",
    "            top_songs_names = list(map(lambda song_index: get_song_name(song_index), sorted_indexes))\n",
    "            os.makedirs(f\"dataset/Rankings/{song}\", exist_ok=True)\n",
    "            np.savetxt(f\"dataset/Rankings/{song}/top100{dist_type}.csv\", top_songs_names, fmt=\"%s\")"
   ]
  },
  {
   "cell_type": "code",
   "execution_count": 48,
   "id": "f362049e",
   "metadata": {},
   "outputs": [],
   "source": [
    "if run:\n",
    "    for song in os.listdir(\"Queries/\"):\n",
    "        i = get_song_index(song)\n",
    "        for dist_type in (\"e\", \"m\", \"c\"):\n",
    "            song_row = np.loadtxt(f\"dataset/SimilarityMatrix/m{dist_type}.csv\")[i]\n",
    "            sorted_indexes = np.argsort(song_row)[1:21]\n",
    "            top_songs_names = list(map(lambda song_index: get_song_name(song_index), sorted_indexes))\n",
    "            os.makedirs(f\"dataset/Rankings/{song}\", exist_ok=True)\n",
    "            np.savetxt(f\"dataset/Rankings/{song}/m{dist_type}.csv\", top_songs_names, fmt=\"%s\")"
   ]
  },
  {
   "cell_type": "code",
   "execution_count": 49,
   "id": "622cde40",
   "metadata": {},
   "outputs": [],
   "source": [
    "queries = {\n",
    "    0 : \"MT0000202045.mp3\",\n",
    "    1 : \"MT0000379144.mp3\",\n",
    "    2 : \"MT0000414517.mp3\",\n",
    "    3 : \"MT0000956340.mp3\"\n",
    "}"
   ]
  },
  {
   "cell_type": "code",
   "execution_count": 50,
   "id": "a03d5460",
   "metadata": {},
   "outputs": [
    {
     "name": "stdout",
     "output_type": "stream",
     "text": [
      "Recomendations overlap for song MT0000202045.mp3:\n",
      "75.00 %\n",
      "60.00 %\n",
      "75.00 %\n"
     ]
    }
   ],
   "source": [
    "song_name = queries[0]\n",
    "print(f\"Recomendations overlap for song {song_name}:\")\n",
    "for feat in (\"d\", \"top100\", \"m\"):\n",
    "    path = f\"dataset/Rankings/{song_name}/\"\n",
    "\n",
    "    lib_euc = np.loadtxt(path+f\"{feat}e.csv\", dtype=object)\n",
    "    lib_man = np.loadtxt(path+f\"{feat}c.csv\", dtype=object)\n",
    "    lib_cos = np.loadtxt(path+f\"{feat}m.csv\", dtype=object)\n",
    "\n",
    "    print(\n",
    "        f\"{len(np.intersect1d( np.intersect1d(lib_euc, lib_man), lib_cos )) / len(lib_euc)*100:.2f}\", \"%\"\n",
    "    )"
   ]
  },
  {
   "cell_type": "code",
   "execution_count": 51,
   "id": "d8dfcc33",
   "metadata": {},
   "outputs": [
    {
     "name": "stdout",
     "output_type": "stream",
     "text": [
      "Recomendations overlap for song MT0000379144.mp3:\n",
      "70.00 %\n",
      "75.00 %\n",
      "55.00 %\n"
     ]
    }
   ],
   "source": [
    "song_name = queries[1]\n",
    "print(f\"Recomendations overlap for song {song_name}:\")\n",
    "for feat in (\"d\", \"top100\", \"m\"):\n",
    "    path = f\"dataset/Rankings/{song_name}/\"\n",
    "\n",
    "    lib_euc = np.loadtxt(path+f\"{feat}e.csv\", dtype=object)\n",
    "    lib_man = np.loadtxt(path+f\"{feat}c.csv\", dtype=object)\n",
    "    lib_cos = np.loadtxt(path+f\"{feat}m.csv\", dtype=object)\n",
    "\n",
    "    print(\n",
    "        f\"{len(np.intersect1d( np.intersect1d(lib_euc, lib_man), lib_cos )) / len(lib_euc)*100:.2f}\", \"%\"\n",
    "    )"
   ]
  },
  {
   "cell_type": "code",
   "execution_count": 52,
   "id": "0cff978e",
   "metadata": {},
   "outputs": [
    {
     "name": "stdout",
     "output_type": "stream",
     "text": [
      "Recomendations overlap for song MT0000414517.mp3:\n",
      "55.00 %\n",
      "50.00 %\n",
      "55.00 %\n"
     ]
    }
   ],
   "source": [
    "song_name = queries[2]\n",
    "print(f\"Recomendations overlap for song {song_name}:\")\n",
    "for feat in (\"d\", \"top100\", \"m\"):\n",
    "    path = f\"dataset/Rankings/{song_name}/\"\n",
    "\n",
    "    lib_euc = np.loadtxt(path+f\"{feat}e.csv\", dtype=object)\n",
    "    lib_man = np.loadtxt(path+f\"{feat}c.csv\", dtype=object)\n",
    "    lib_cos = np.loadtxt(path+f\"{feat}m.csv\", dtype=object)\n",
    "\n",
    "    print(\n",
    "        f\"{len(np.intersect1d( np.intersect1d(lib_euc, lib_man), lib_cos )) / len(lib_euc)*100:.2f}\", \"%\"\n",
    "    )"
   ]
  },
  {
   "cell_type": "code",
   "execution_count": 53,
   "id": "ec18e5ff",
   "metadata": {},
   "outputs": [
    {
     "name": "stdout",
     "output_type": "stream",
     "text": [
      "Recomendations overlap for song MT0000956340.mp3:\n",
      "75.00 %\n",
      "80.00 %\n",
      "90.00 %\n"
     ]
    }
   ],
   "source": [
    "song_name = queries[3]\n",
    "print(f\"Recomendations overlap for song {song_name}:\")\n",
    "for feat in (\"d\", \"top100\", \"m\"):\n",
    "    path = f\"dataset/Rankings/{song_name}/\"\n",
    "\n",
    "    lib_euc = np.loadtxt(path+f\"{feat}e.csv\", dtype=object)\n",
    "    lib_man = np.loadtxt(path+f\"{feat}c.csv\", dtype=object)\n",
    "    lib_cos = np.loadtxt(path+f\"{feat}m.csv\", dtype=object)\n",
    "\n",
    "    print(\n",
    "        f\"{len(np.intersect1d( np.intersect1d(lib_euc, lib_man), lib_cos )) / len(lib_euc) * 100:.2f}\", \"%\"\n",
    "    )"
   ]
  },
  {
   "cell_type": "code",
   "execution_count": 54,
   "id": "db4bc52d",
   "metadata": {},
   "outputs": [
    {
     "name": "stdout",
     "output_type": "stream",
     "text": [
      "Recomendations overlap mean: 67.92 %\n"
     ]
    }
   ],
   "source": [
    "total = 0\n",
    "for song in range(4):\n",
    "    song_name = queries[song]\n",
    "    path = f\"dataset/Rankings/{song_name}/\"\n",
    "    for feat in (\"d\", \"top100\", \"m\"):\n",
    "        lib_euc = np.loadtxt(path+f\"{feat}e.csv\", dtype=object)\n",
    "        lib_man = np.loadtxt(path+f\"{feat}c.csv\", dtype=object)\n",
    "        lib_cos = np.loadtxt(path+f\"{feat}m.csv\", dtype=object)\n",
    "\n",
    "        total+=len(np.intersect1d( np.intersect1d(lib_euc, lib_man), lib_cos )) / len(lib_euc)\n",
    "print(f\"Recomendations overlap mean:\", end = \" \")\n",
    "print(f\"{total/4/3*100:.2f}\", \"%\")"
   ]
  },
  {
   "cell_type": "markdown",
   "id": "aaee9aeb",
   "metadata": {},
   "source": [
    "### Exercicio 3.4\n",
    "\n",
    "\n",
    "Os diferentes tipos de distância podem gerar recomendações diferentes, como é possível verificar nas células anteriores, onde se calcula, para cada querie, a percentagem de interceção entre os conjuntos gerados pelas diferentes métricas. <br>\n",
    "Em nenhum caso os conjuntos são coincidentes. No entanto, as interceções são significativas, existindo um mínimo de 50% overlap nos rankings. Isto é, para cada querie, pelo menos 10 musicas surgiram nas 3 diferentes recomendações. <br>\n",
    "\n",
    "Assim, certos tipos de distância podem gerar melhores recomendações que outros. <br>\n",
    "É possivel que a melhor métrica de distância dependa do contexto do problema e dos descritores retirados para o resolver. <br>\n",
    "\n",
    "Deste modo, a melhor medida de distância deve ser inferida retirando partido do dataset que se tem. Através de métodos de validação é possível estimar qual o modelo que obtém melhores classificações. A partir destes resultados são retiradas as conclusões necessárias para apoiar a decisão."
   ]
  },
  {
   "cell_type": "markdown",
   "id": "89b252df",
   "metadata": {},
   "source": [
    "## Semana 4\n"
   ]
  },
  {
   "cell_type": "markdown",
   "id": "e4f22958",
   "metadata": {},
   "source": [
    "### *Exercicio 4.1*"
   ]
  },
  {
   "cell_type": "code",
   "execution_count": 55,
   "id": "7892c268",
   "metadata": {},
   "outputs": [],
   "source": [
    "def get_match_counts(data, index1, index2):\n",
    "    song1 = data.loc[index1]\n",
    "    song2 = data.loc[index2]\n",
    "    \n",
    "    points = 0\n",
    "    for metric in data.columns:\n",
    "        try:\n",
    "            v1 = np.array(list(map(lambda string: string.strip(), song1[metric].split(\";\"))))\n",
    "            v2 = np.array(list(map(lambda string: string.strip(), song2[metric].split(\";\"))))\n",
    "            matches = np.intersect1d(v1, v2, assume_unique=True)\n",
    "            points += len(matches)\n",
    "        except:\n",
    "            points+=0\n",
    "    return points"
   ]
  },
  {
   "cell_type": "code",
   "execution_count": 56,
   "id": "8e571239",
   "metadata": {},
   "outputs": [],
   "source": [
    "cols = [\"Artist\", \"GenresStr\", \"Quadrant\", \"MoodsFoundStr\"]\n",
    "metadata = pd.read_csv(\"dataset/MER_audio_taffc_dataset/panda_dataset_taffc_metadata.csv\", index_col=0)[cols]"
   ]
  },
  {
   "cell_type": "code",
   "execution_count": 57,
   "id": "8575ce7d",
   "metadata": {},
   "outputs": [],
   "source": [
    "if run:\n",
    "    similarity_matrix = np.zeros((900,900))\n",
    "    for song_1 in metadata.index:\n",
    "        i = get_song_index(song_1 + \".mp3\")\n",
    "        for song_2 in metadata.index:\n",
    "            sim_count = get_match_counts(metadata, song_1, song_2)\n",
    "            j = get_song_index(song_2 + \".mp3\")\n",
    "            similarity_matrix[i,j] = sim_count\n",
    "        print(i)\n",
    "\n",
    "    np.savetxt(f\"dataset/SimilarityMatrix/metadata_sim.csv\", similarity_matrix, fmt=\"%d\")"
   ]
  },
  {
   "cell_type": "code",
   "execution_count": 58,
   "id": "c7dfe9bc",
   "metadata": {},
   "outputs": [],
   "source": [
    "similarity_matrix = np.loadtxt(\"dataset/SimilarityMatrix/metadata_sim.csv\")"
   ]
  },
  {
   "cell_type": "code",
   "execution_count": 59,
   "id": "389154ce",
   "metadata": {},
   "outputs": [
    {
     "name": "stdout",
     "output_type": "stream",
     "text": [
      "Music: MT0000202045.mp3\n",
      "\tDistance: dm.csv --> Precision = 0.0\n",
      "\tDistance: dc.csv --> Precision = 0.05\n",
      "\tDistance: top100m.csv --> Precision = 0.0\n",
      "\tDistance: mm.csv --> Precision = 0.0\n",
      "\tDistance: de.csv --> Precision = 0.05\n",
      "\tDistance: mc.csv --> Precision = 0.05\n",
      "\tDistance: me.csv --> Precision = 0.05\n",
      "\tDistance: top100c.csv --> Precision = 0.0\n",
      "\tDistance: top100e.csv --> Precision = 0.0\n",
      "\n",
      "Music: MT0000956340.mp3\n",
      "\tDistance: dm.csv --> Precision = 0.0\n",
      "\tDistance: dc.csv --> Precision = 0.0\n",
      "\tDistance: top100m.csv --> Precision = 0.05\n",
      "\tDistance: mm.csv --> Precision = 0.0\n",
      "\tDistance: de.csv --> Precision = 0.0\n",
      "\tDistance: mc.csv --> Precision = 0.0\n",
      "\tDistance: me.csv --> Precision = 0.0\n",
      "\tDistance: top100c.csv --> Precision = 0.1\n",
      "\tDistance: top100e.csv --> Precision = 0.1\n",
      "\n",
      "Music: MT0000379144.mp3\n",
      "\tDistance: dm.csv --> Precision = 0.0\n",
      "\tDistance: dc.csv --> Precision = 0.0\n",
      "\tDistance: top100m.csv --> Precision = 0.0\n",
      "\tDistance: mm.csv --> Precision = 0.0\n",
      "\tDistance: de.csv --> Precision = 0.0\n",
      "\tDistance: mc.csv --> Precision = 0.0\n",
      "\tDistance: me.csv --> Precision = 0.0\n",
      "\tDistance: top100c.csv --> Precision = 0.0\n",
      "\tDistance: top100e.csv --> Precision = 0.0\n",
      "\n",
      "Music: MT0000414517.mp3\n",
      "\tDistance: dm.csv --> Precision = 0.1\n",
      "\tDistance: dc.csv --> Precision = 0.1\n",
      "\tDistance: top100m.csv --> Precision = 0.1\n",
      "\tDistance: mm.csv --> Precision = 0.1\n",
      "\tDistance: de.csv --> Precision = 0.1\n",
      "\tDistance: mc.csv --> Precision = 0.1\n",
      "\tDistance: me.csv --> Precision = 0.1\n",
      "\tDistance: top100c.csv --> Precision = 0.1\n",
      "\tDistance: top100e.csv --> Precision = 0.05\n",
      "\n"
     ]
    }
   ],
   "source": [
    "for querie in os.listdir(\"dataset/Rankings/\"):\n",
    "    if \"mp3\" in querie:\n",
    "        i = get_song_index(querie)\n",
    "        relevant = (np.argsort(similarity_matrix[i])[::-1])[:21]\n",
    "        relevant = relevant[relevant!=i]\n",
    "        relevant = list(map(lambda song: get_song_name(song), relevant))\n",
    "        \n",
    "        #pprint(relevant)\n",
    "        print(f\"Music: {querie}\")\n",
    "        for rank in os.listdir(f\"dataset/Rankings/{querie}\"):\n",
    "            if \"metadados\" not in rank:\n",
    "                ranking = np.loadtxt(f\"dataset/Rankings/{querie}/{rank}\", dtype=object)\n",
    "                match = np.intersect1d(relevant, ranking)\n",
    "                precision = len(match)/20\n",
    "\n",
    "                print(f\"\\tDistance: {rank} --> Precision = {precision}\")\n",
    "        print()   "
   ]
  },
  {
   "cell_type": "markdown",
   "id": "67e4bad0",
   "metadata": {},
   "source": [
    "### *Exercicio 4.1.4*\n",
    "\n",
    "   É possível verificar que as recomendações feitas pelos metadados e as recomendações feitas pelos top100 features pouco ou nada têm a ver. <br>\n",
    "   As recomendações pelo top100 features têm como base uma procura por emoção. Isto é, pesquisam por músicas que aparentem transmitir uma emoção similar à da querie original. Isto pode traduzir-se uma música auditivamente similar, ou completamente diferente. Por exemplo, o Rap está muitas vezes associado a música agressiva, tal como o Metal, no entanto não são semelhantes. <br>\n",
    "   Por outro lado, as recomendações com base nos metadados são sugestões que se baseiam no conteúdo. No caso específico, a recomendação retira informações sobre: <br>\n",
    "   &nbsp; 1) autor; <br>\n",
    "   &nbsp; 2) Género; <br>\n",
    "   &nbsp; 3) Quadrante; <br>\n",
    "   &nbsp; 4) Emoção. <br>\n",
    "   Constata-se que nos metadados a emoção é também considerada. No entanto, no top 100 features a emoção é definida por um conjunto de descritores. Depois, a recomendação é feita com uma métrica de distância. Nos metadados a emoção está previamente classificada em valores discretos bem definidos. Estes valores são apenas comparados de modo a verificar o tamanho do conjunto da interseção. "
   ]
  },
  {
   "cell_type": "markdown",
   "id": "ae3e00d7",
   "metadata": {},
   "source": [
    "### *Exercicio 4.2.2 - top100*\n",
    "- Avaliação conjunto de 100 features, distância de cosseno"
   ]
  },
  {
   "cell_type": "code",
   "execution_count": 60,
   "id": "d06a774a",
   "metadata": {},
   "outputs": [],
   "source": [
    "song_name = \"MT0014794891.mp3\"\n",
    "y, fs = librosa.load(f\"dataset/MER_audio_taffc_dataset/Q/{song_name}\", sr=sr)\n",
    "#sd.play(y, sr)"
   ]
  },
  {
   "cell_type": "code",
   "execution_count": 61,
   "id": "50f373e5",
   "metadata": {},
   "outputs": [
    {
     "name": "stdout",
     "output_type": "stream",
     "text": [
      "\t-- Querie 1 --\n",
      "-- Estatisticas por utilizador --\n"
     ]
    },
    {
     "data": {
      "text/html": [
       "<div>\n",
       "<style scoped>\n",
       "    .dataframe tbody tr th:only-of-type {\n",
       "        vertical-align: middle;\n",
       "    }\n",
       "\n",
       "    .dataframe tbody tr th {\n",
       "        vertical-align: top;\n",
       "    }\n",
       "\n",
       "    .dataframe thead th {\n",
       "        text-align: right;\n",
       "    }\n",
       "</style>\n",
       "<table border=\"1\" class=\"dataframe\">\n",
       "  <thead>\n",
       "    <tr style=\"text-align: right;\">\n",
       "      <th></th>\n",
       "      <th>Joao</th>\n",
       "      <th>Joel</th>\n",
       "      <th>Tomas</th>\n",
       "    </tr>\n",
       "  </thead>\n",
       "  <tbody>\n",
       "    <tr>\n",
       "      <th>mean</th>\n",
       "      <td>1.400000</td>\n",
       "      <td>1.500000</td>\n",
       "      <td>1.750000</td>\n",
       "    </tr>\n",
       "    <tr>\n",
       "      <th>std</th>\n",
       "      <td>0.820783</td>\n",
       "      <td>1.147079</td>\n",
       "      <td>1.208522</td>\n",
       "    </tr>\n",
       "  </tbody>\n",
       "</table>\n",
       "</div>"
      ],
      "text/plain": [
       "          Joao      Joel     Tomas\n",
       "mean  1.400000  1.500000  1.750000\n",
       "std   0.820783  1.147079  1.208522"
      ]
     },
     "metadata": {},
     "output_type": "display_data"
    },
    {
     "name": "stdout",
     "output_type": "stream",
     "text": [
      "-- Estatisticas por musica --\n"
     ]
    },
    {
     "data": {
      "text/html": [
       "<div>\n",
       "<style scoped>\n",
       "    .dataframe tbody tr th:only-of-type {\n",
       "        vertical-align: middle;\n",
       "    }\n",
       "\n",
       "    .dataframe tbody tr th {\n",
       "        vertical-align: top;\n",
       "    }\n",
       "\n",
       "    .dataframe thead th {\n",
       "        text-align: right;\n",
       "    }\n",
       "</style>\n",
       "<table border=\"1\" class=\"dataframe\">\n",
       "  <thead>\n",
       "    <tr style=\"text-align: right;\">\n",
       "      <th></th>\n",
       "      <th>0</th>\n",
       "      <th>1</th>\n",
       "      <th>2</th>\n",
       "      <th>3</th>\n",
       "      <th>4</th>\n",
       "      <th>5</th>\n",
       "      <th>6</th>\n",
       "      <th>7</th>\n",
       "      <th>8</th>\n",
       "      <th>9</th>\n",
       "      <th>10</th>\n",
       "      <th>11</th>\n",
       "      <th>12</th>\n",
       "      <th>13</th>\n",
       "      <th>14</th>\n",
       "      <th>15</th>\n",
       "      <th>16</th>\n",
       "      <th>17</th>\n",
       "      <th>18</th>\n",
       "      <th>19</th>\n",
       "    </tr>\n",
       "  </thead>\n",
       "  <tbody>\n",
       "    <tr>\n",
       "      <th>mean</th>\n",
       "      <td>1.0</td>\n",
       "      <td>1.0</td>\n",
       "      <td>1.333333</td>\n",
       "      <td>1.0</td>\n",
       "      <td>1.0</td>\n",
       "      <td>1.333333</td>\n",
       "      <td>1.0</td>\n",
       "      <td>4.333333</td>\n",
       "      <td>1.0</td>\n",
       "      <td>3.333333</td>\n",
       "      <td>1.0</td>\n",
       "      <td>1.0</td>\n",
       "      <td>1.0</td>\n",
       "      <td>1.333333</td>\n",
       "      <td>2.666667</td>\n",
       "      <td>2.0</td>\n",
       "      <td>1.0</td>\n",
       "      <td>2.666667</td>\n",
       "      <td>1.0</td>\n",
       "      <td>1.0</td>\n",
       "    </tr>\n",
       "    <tr>\n",
       "      <th>std</th>\n",
       "      <td>0.0</td>\n",
       "      <td>0.0</td>\n",
       "      <td>0.577350</td>\n",
       "      <td>0.0</td>\n",
       "      <td>0.0</td>\n",
       "      <td>0.577350</td>\n",
       "      <td>0.0</td>\n",
       "      <td>1.154701</td>\n",
       "      <td>0.0</td>\n",
       "      <td>1.154701</td>\n",
       "      <td>0.0</td>\n",
       "      <td>0.0</td>\n",
       "      <td>0.0</td>\n",
       "      <td>0.577350</td>\n",
       "      <td>0.577350</td>\n",
       "      <td>1.0</td>\n",
       "      <td>0.0</td>\n",
       "      <td>1.527525</td>\n",
       "      <td>0.0</td>\n",
       "      <td>0.0</td>\n",
       "    </tr>\n",
       "  </tbody>\n",
       "</table>\n",
       "</div>"
      ],
      "text/plain": [
       "       0    1         2    3    4         5    6         7    8         9   \\\n",
       "mean  1.0  1.0  1.333333  1.0  1.0  1.333333  1.0  4.333333  1.0  3.333333   \n",
       "std   0.0  0.0  0.577350  0.0  0.0  0.577350  0.0  1.154701  0.0  1.154701   \n",
       "\n",
       "       10   11   12        13        14   15   16        17   18   19  \n",
       "mean  1.0  1.0  1.0  1.333333  2.666667  2.0  1.0  2.666667  1.0  1.0  \n",
       "std   0.0  0.0  0.0  0.577350  0.577350  1.0  0.0  1.527525  0.0  0.0  "
      ]
     },
     "metadata": {},
     "output_type": "display_data"
    },
    {
     "name": "stdout",
     "output_type": "stream",
     "text": [
      "-- Estatisticas Gerais --\n",
      "mean=1.55\n",
      "std =1.0555409355712675\n"
     ]
    }
   ],
   "source": [
    "evaluations = pd.read_csv(\"dataset/Rankings/Evaluation/Subjective/top100/MT0000202045.mp3.csv\")\n",
    "print(\"\\t-- Querie 1 --\")\n",
    "print(\"-- Estatisticas por utilizador --\")\n",
    "display(evaluations.describe().loc[[\"mean\", \"std\"]])\n",
    "\n",
    "print(\"-- Estatisticas por musica --\")\n",
    "display(evaluations.T.describe().loc[[\"mean\",\"std\"]])\n",
    "\n",
    "print(\"-- Estatisticas Gerais --\")\n",
    "print(\n",
    "    \"mean=\" + str(evaluations.to_numpy().mean()),\n",
    "    \"std =\" + str(evaluations.to_numpy().std()),\n",
    "    sep=\"\\n\"\n",
    ")"
   ]
  },
  {
   "cell_type": "code",
   "execution_count": 62,
   "id": "c646071d",
   "metadata": {},
   "outputs": [
    {
     "name": "stdout",
     "output_type": "stream",
     "text": [
      "\t-- Querie 2 --\n",
      "-- Estatisticas por utilizador --\n"
     ]
    },
    {
     "data": {
      "text/html": [
       "<div>\n",
       "<style scoped>\n",
       "    .dataframe tbody tr th:only-of-type {\n",
       "        vertical-align: middle;\n",
       "    }\n",
       "\n",
       "    .dataframe tbody tr th {\n",
       "        vertical-align: top;\n",
       "    }\n",
       "\n",
       "    .dataframe thead th {\n",
       "        text-align: right;\n",
       "    }\n",
       "</style>\n",
       "<table border=\"1\" class=\"dataframe\">\n",
       "  <thead>\n",
       "    <tr style=\"text-align: right;\">\n",
       "      <th></th>\n",
       "      <th>Joao</th>\n",
       "      <th>Joel</th>\n",
       "      <th>Tomas</th>\n",
       "    </tr>\n",
       "  </thead>\n",
       "  <tbody>\n",
       "    <tr>\n",
       "      <th>mean</th>\n",
       "      <td>2.30000</td>\n",
       "      <td>1.700000</td>\n",
       "      <td>1.900000</td>\n",
       "    </tr>\n",
       "    <tr>\n",
       "      <th>std</th>\n",
       "      <td>1.41793</td>\n",
       "      <td>0.978721</td>\n",
       "      <td>0.967906</td>\n",
       "    </tr>\n",
       "  </tbody>\n",
       "</table>\n",
       "</div>"
      ],
      "text/plain": [
       "         Joao      Joel     Tomas\n",
       "mean  2.30000  1.700000  1.900000\n",
       "std   1.41793  0.978721  0.967906"
      ]
     },
     "metadata": {},
     "output_type": "display_data"
    },
    {
     "name": "stdout",
     "output_type": "stream",
     "text": [
      "-- Estatisticas por musica --\n"
     ]
    },
    {
     "data": {
      "text/html": [
       "<div>\n",
       "<style scoped>\n",
       "    .dataframe tbody tr th:only-of-type {\n",
       "        vertical-align: middle;\n",
       "    }\n",
       "\n",
       "    .dataframe tbody tr th {\n",
       "        vertical-align: top;\n",
       "    }\n",
       "\n",
       "    .dataframe thead th {\n",
       "        text-align: right;\n",
       "    }\n",
       "</style>\n",
       "<table border=\"1\" class=\"dataframe\">\n",
       "  <thead>\n",
       "    <tr style=\"text-align: right;\">\n",
       "      <th></th>\n",
       "      <th>0</th>\n",
       "      <th>1</th>\n",
       "      <th>2</th>\n",
       "      <th>3</th>\n",
       "      <th>4</th>\n",
       "      <th>5</th>\n",
       "      <th>6</th>\n",
       "      <th>7</th>\n",
       "      <th>8</th>\n",
       "      <th>9</th>\n",
       "      <th>10</th>\n",
       "      <th>11</th>\n",
       "      <th>12</th>\n",
       "      <th>13</th>\n",
       "      <th>14</th>\n",
       "      <th>15</th>\n",
       "      <th>16</th>\n",
       "      <th>17</th>\n",
       "      <th>18</th>\n",
       "      <th>19</th>\n",
       "    </tr>\n",
       "  </thead>\n",
       "  <tbody>\n",
       "    <tr>\n",
       "      <th>mean</th>\n",
       "      <td>1.666667</td>\n",
       "      <td>1.333333</td>\n",
       "      <td>3.333333</td>\n",
       "      <td>3.333333</td>\n",
       "      <td>1.333333</td>\n",
       "      <td>4.0</td>\n",
       "      <td>3.666667</td>\n",
       "      <td>1.666667</td>\n",
       "      <td>1.0</td>\n",
       "      <td>1.333333</td>\n",
       "      <td>1.0</td>\n",
       "      <td>1.0</td>\n",
       "      <td>2.0</td>\n",
       "      <td>2.000000</td>\n",
       "      <td>3.0</td>\n",
       "      <td>2.333333</td>\n",
       "      <td>1.0</td>\n",
       "      <td>1.666667</td>\n",
       "      <td>1.333333</td>\n",
       "      <td>1.333333</td>\n",
       "    </tr>\n",
       "    <tr>\n",
       "      <th>std</th>\n",
       "      <td>0.577350</td>\n",
       "      <td>0.577350</td>\n",
       "      <td>1.154701</td>\n",
       "      <td>0.577350</td>\n",
       "      <td>0.577350</td>\n",
       "      <td>1.0</td>\n",
       "      <td>0.577350</td>\n",
       "      <td>0.577350</td>\n",
       "      <td>0.0</td>\n",
       "      <td>0.577350</td>\n",
       "      <td>0.0</td>\n",
       "      <td>0.0</td>\n",
       "      <td>1.0</td>\n",
       "      <td>1.732051</td>\n",
       "      <td>1.0</td>\n",
       "      <td>1.154701</td>\n",
       "      <td>0.0</td>\n",
       "      <td>0.577350</td>\n",
       "      <td>0.577350</td>\n",
       "      <td>0.577350</td>\n",
       "    </tr>\n",
       "  </tbody>\n",
       "</table>\n",
       "</div>"
      ],
      "text/plain": [
       "            0         1         2         3         4    5         6   \\\n",
       "mean  1.666667  1.333333  3.333333  3.333333  1.333333  4.0  3.666667   \n",
       "std   0.577350  0.577350  1.154701  0.577350  0.577350  1.0  0.577350   \n",
       "\n",
       "            7    8         9    10   11   12        13   14        15   16  \\\n",
       "mean  1.666667  1.0  1.333333  1.0  1.0  2.0  2.000000  3.0  2.333333  1.0   \n",
       "std   0.577350  0.0  0.577350  0.0  0.0  1.0  1.732051  1.0  1.154701  0.0   \n",
       "\n",
       "            17        18        19  \n",
       "mean  1.666667  1.333333  1.333333  \n",
       "std   0.577350  0.577350  0.577350  "
      ]
     },
     "metadata": {},
     "output_type": "display_data"
    },
    {
     "name": "stdout",
     "output_type": "stream",
     "text": [
      "-- Estatisticas Gerais --\n",
      "mean=1.9666666666666666\n",
      "std =1.1396880664852505\n"
     ]
    }
   ],
   "source": [
    "evaluations = pd.read_csv(\"dataset/Rankings/Evaluation/Subjective/top100/MT0000379144.mp3.csv\")\n",
    "print(\"\\t-- Querie 2 --\")\n",
    "print(\"-- Estatisticas por utilizador --\")\n",
    "display(evaluations.describe().loc[[\"mean\", \"std\"]])\n",
    "\n",
    "print(\"-- Estatisticas por musica --\")\n",
    "display(evaluations.T.describe().loc[[\"mean\",\"std\"]])\n",
    "\n",
    "print(\"-- Estatisticas Gerais --\")\n",
    "print(\n",
    "    \"mean=\" + str(evaluations.to_numpy().mean()),\n",
    "    \"std =\" + str(evaluations.to_numpy().std()),\n",
    "    sep=\"\\n\"\n",
    ")"
   ]
  },
  {
   "cell_type": "code",
   "execution_count": 63,
   "id": "821d3f4e",
   "metadata": {},
   "outputs": [
    {
     "name": "stdout",
     "output_type": "stream",
     "text": [
      "\t-- Querie 3 --\n",
      "-- Estatisticas por utilizador --\n"
     ]
    },
    {
     "data": {
      "text/html": [
       "<div>\n",
       "<style scoped>\n",
       "    .dataframe tbody tr th:only-of-type {\n",
       "        vertical-align: middle;\n",
       "    }\n",
       "\n",
       "    .dataframe tbody tr th {\n",
       "        vertical-align: top;\n",
       "    }\n",
       "\n",
       "    .dataframe thead th {\n",
       "        text-align: right;\n",
       "    }\n",
       "</style>\n",
       "<table border=\"1\" class=\"dataframe\">\n",
       "  <thead>\n",
       "    <tr style=\"text-align: right;\">\n",
       "      <th></th>\n",
       "      <th>Joao</th>\n",
       "      <th>Joel</th>\n",
       "      <th>Tomas</th>\n",
       "    </tr>\n",
       "  </thead>\n",
       "  <tbody>\n",
       "    <tr>\n",
       "      <th>mean</th>\n",
       "      <td>1.35000</td>\n",
       "      <td>1.450000</td>\n",
       "      <td>1.65000</td>\n",
       "    </tr>\n",
       "    <tr>\n",
       "      <th>std</th>\n",
       "      <td>0.74516</td>\n",
       "      <td>0.944513</td>\n",
       "      <td>1.03999</td>\n",
       "    </tr>\n",
       "  </tbody>\n",
       "</table>\n",
       "</div>"
      ],
      "text/plain": [
       "         Joao      Joel    Tomas\n",
       "mean  1.35000  1.450000  1.65000\n",
       "std   0.74516  0.944513  1.03999"
      ]
     },
     "metadata": {},
     "output_type": "display_data"
    },
    {
     "name": "stdout",
     "output_type": "stream",
     "text": [
      "-- Estatisticas por musica --\n"
     ]
    },
    {
     "data": {
      "text/html": [
       "<div>\n",
       "<style scoped>\n",
       "    .dataframe tbody tr th:only-of-type {\n",
       "        vertical-align: middle;\n",
       "    }\n",
       "\n",
       "    .dataframe tbody tr th {\n",
       "        vertical-align: top;\n",
       "    }\n",
       "\n",
       "    .dataframe thead th {\n",
       "        text-align: right;\n",
       "    }\n",
       "</style>\n",
       "<table border=\"1\" class=\"dataframe\">\n",
       "  <thead>\n",
       "    <tr style=\"text-align: right;\">\n",
       "      <th></th>\n",
       "      <th>0</th>\n",
       "      <th>1</th>\n",
       "      <th>2</th>\n",
       "      <th>3</th>\n",
       "      <th>4</th>\n",
       "      <th>5</th>\n",
       "      <th>6</th>\n",
       "      <th>7</th>\n",
       "      <th>8</th>\n",
       "      <th>9</th>\n",
       "      <th>10</th>\n",
       "      <th>11</th>\n",
       "      <th>12</th>\n",
       "      <th>13</th>\n",
       "      <th>14</th>\n",
       "      <th>15</th>\n",
       "      <th>16</th>\n",
       "      <th>17</th>\n",
       "      <th>18</th>\n",
       "      <th>19</th>\n",
       "    </tr>\n",
       "  </thead>\n",
       "  <tbody>\n",
       "    <tr>\n",
       "      <th>mean</th>\n",
       "      <td>2.333333</td>\n",
       "      <td>1.333333</td>\n",
       "      <td>1.0</td>\n",
       "      <td>1.0</td>\n",
       "      <td>1.333333</td>\n",
       "      <td>1.333333</td>\n",
       "      <td>1.0</td>\n",
       "      <td>1.0</td>\n",
       "      <td>2.0</td>\n",
       "      <td>1.666667</td>\n",
       "      <td>1.0</td>\n",
       "      <td>1.666667</td>\n",
       "      <td>1.0</td>\n",
       "      <td>1.0</td>\n",
       "      <td>2.666667</td>\n",
       "      <td>1.0</td>\n",
       "      <td>4.0</td>\n",
       "      <td>1.333333</td>\n",
       "      <td>1.0</td>\n",
       "      <td>1.0</td>\n",
       "    </tr>\n",
       "    <tr>\n",
       "      <th>std</th>\n",
       "      <td>1.154701</td>\n",
       "      <td>0.577350</td>\n",
       "      <td>0.0</td>\n",
       "      <td>0.0</td>\n",
       "      <td>0.577350</td>\n",
       "      <td>0.577350</td>\n",
       "      <td>0.0</td>\n",
       "      <td>0.0</td>\n",
       "      <td>1.0</td>\n",
       "      <td>1.154701</td>\n",
       "      <td>0.0</td>\n",
       "      <td>1.154701</td>\n",
       "      <td>0.0</td>\n",
       "      <td>0.0</td>\n",
       "      <td>0.577350</td>\n",
       "      <td>0.0</td>\n",
       "      <td>1.0</td>\n",
       "      <td>0.577350</td>\n",
       "      <td>0.0</td>\n",
       "      <td>0.0</td>\n",
       "    </tr>\n",
       "  </tbody>\n",
       "</table>\n",
       "</div>"
      ],
      "text/plain": [
       "            0         1    2    3         4         5    6    7    8   \\\n",
       "mean  2.333333  1.333333  1.0  1.0  1.333333  1.333333  1.0  1.0  2.0   \n",
       "std   1.154701  0.577350  0.0  0.0  0.577350  0.577350  0.0  0.0  1.0   \n",
       "\n",
       "            9    10        11   12   13        14   15   16        17   18  \\\n",
       "mean  1.666667  1.0  1.666667  1.0  1.0  2.666667  1.0  4.0  1.333333  1.0   \n",
       "std   1.154701  0.0  1.154701  0.0  0.0  0.577350  0.0  1.0  0.577350  0.0   \n",
       "\n",
       "       19  \n",
       "mean  1.0  \n",
       "std   0.0  "
      ]
     },
     "metadata": {},
     "output_type": "display_data"
    },
    {
     "name": "stdout",
     "output_type": "stream",
     "text": [
      "-- Estatisticas Gerais --\n",
      "mean=1.4833333333333334\n",
      "std =0.9035424112286533\n"
     ]
    }
   ],
   "source": [
    "evaluations = pd.read_csv(\"dataset/Rankings/Evaluation/Subjective/top100/MT0000414517.mp3.csv\")\n",
    "print(\"\\t-- Querie 3 --\")\n",
    "print(\"-- Estatisticas por utilizador --\")\n",
    "display(evaluations.describe().loc[[\"mean\", \"std\"]])\n",
    "\n",
    "print(\"-- Estatisticas por musica --\")\n",
    "display(evaluations.T.describe().loc[[\"mean\",\"std\"]])\n",
    "\n",
    "print(\"-- Estatisticas Gerais --\")\n",
    "print(\n",
    "    \"mean=\" + str(evaluations.to_numpy().mean()),\n",
    "    \"std =\" + str(evaluations.to_numpy().std()),\n",
    "    sep=\"\\n\"\n",
    ")"
   ]
  },
  {
   "cell_type": "code",
   "execution_count": 64,
   "id": "213538ac",
   "metadata": {},
   "outputs": [
    {
     "name": "stdout",
     "output_type": "stream",
     "text": [
      "\t-- Querie 4 --\n",
      "-- Estatisticas por utilizador --\n"
     ]
    },
    {
     "data": {
      "text/html": [
       "<div>\n",
       "<style scoped>\n",
       "    .dataframe tbody tr th:only-of-type {\n",
       "        vertical-align: middle;\n",
       "    }\n",
       "\n",
       "    .dataframe tbody tr th {\n",
       "        vertical-align: top;\n",
       "    }\n",
       "\n",
       "    .dataframe thead th {\n",
       "        text-align: right;\n",
       "    }\n",
       "</style>\n",
       "<table border=\"1\" class=\"dataframe\">\n",
       "  <thead>\n",
       "    <tr style=\"text-align: right;\">\n",
       "      <th></th>\n",
       "      <th>Joao</th>\n",
       "      <th>Joel</th>\n",
       "      <th>Tomas</th>\n",
       "    </tr>\n",
       "  </thead>\n",
       "  <tbody>\n",
       "    <tr>\n",
       "      <th>mean</th>\n",
       "      <td>2.850000</td>\n",
       "      <td>2.600000</td>\n",
       "      <td>3.200000</td>\n",
       "    </tr>\n",
       "    <tr>\n",
       "      <th>std</th>\n",
       "      <td>1.386969</td>\n",
       "      <td>1.313893</td>\n",
       "      <td>1.399248</td>\n",
       "    </tr>\n",
       "  </tbody>\n",
       "</table>\n",
       "</div>"
      ],
      "text/plain": [
       "          Joao      Joel     Tomas\n",
       "mean  2.850000  2.600000  3.200000\n",
       "std   1.386969  1.313893  1.399248"
      ]
     },
     "metadata": {},
     "output_type": "display_data"
    },
    {
     "name": "stdout",
     "output_type": "stream",
     "text": [
      "-- Estatisticas por musica --\n"
     ]
    },
    {
     "data": {
      "text/html": [
       "<div>\n",
       "<style scoped>\n",
       "    .dataframe tbody tr th:only-of-type {\n",
       "        vertical-align: middle;\n",
       "    }\n",
       "\n",
       "    .dataframe tbody tr th {\n",
       "        vertical-align: top;\n",
       "    }\n",
       "\n",
       "    .dataframe thead th {\n",
       "        text-align: right;\n",
       "    }\n",
       "</style>\n",
       "<table border=\"1\" class=\"dataframe\">\n",
       "  <thead>\n",
       "    <tr style=\"text-align: right;\">\n",
       "      <th></th>\n",
       "      <th>0</th>\n",
       "      <th>1</th>\n",
       "      <th>2</th>\n",
       "      <th>3</th>\n",
       "      <th>4</th>\n",
       "      <th>5</th>\n",
       "      <th>6</th>\n",
       "      <th>7</th>\n",
       "      <th>8</th>\n",
       "      <th>9</th>\n",
       "      <th>10</th>\n",
       "      <th>11</th>\n",
       "      <th>12</th>\n",
       "      <th>13</th>\n",
       "      <th>14</th>\n",
       "      <th>15</th>\n",
       "      <th>16</th>\n",
       "      <th>17</th>\n",
       "      <th>18</th>\n",
       "      <th>19</th>\n",
       "    </tr>\n",
       "  </thead>\n",
       "  <tbody>\n",
       "    <tr>\n",
       "      <th>mean</th>\n",
       "      <td>4.333333</td>\n",
       "      <td>4.333333</td>\n",
       "      <td>4.333333</td>\n",
       "      <td>3.666667</td>\n",
       "      <td>3.666667</td>\n",
       "      <td>1.0</td>\n",
       "      <td>4.0</td>\n",
       "      <td>2.0</td>\n",
       "      <td>4.0</td>\n",
       "      <td>1.0</td>\n",
       "      <td>2.666667</td>\n",
       "      <td>3.666667</td>\n",
       "      <td>1.0</td>\n",
       "      <td>4.333333</td>\n",
       "      <td>1.0</td>\n",
       "      <td>1.0</td>\n",
       "      <td>3.333333</td>\n",
       "      <td>2.333333</td>\n",
       "      <td>3.333333</td>\n",
       "      <td>2.666667</td>\n",
       "    </tr>\n",
       "    <tr>\n",
       "      <th>std</th>\n",
       "      <td>0.577350</td>\n",
       "      <td>0.577350</td>\n",
       "      <td>0.577350</td>\n",
       "      <td>0.577350</td>\n",
       "      <td>0.577350</td>\n",
       "      <td>0.0</td>\n",
       "      <td>0.0</td>\n",
       "      <td>1.0</td>\n",
       "      <td>0.0</td>\n",
       "      <td>0.0</td>\n",
       "      <td>0.577350</td>\n",
       "      <td>0.577350</td>\n",
       "      <td>0.0</td>\n",
       "      <td>0.577350</td>\n",
       "      <td>0.0</td>\n",
       "      <td>0.0</td>\n",
       "      <td>1.154701</td>\n",
       "      <td>0.577350</td>\n",
       "      <td>0.577350</td>\n",
       "      <td>1.154701</td>\n",
       "    </tr>\n",
       "  </tbody>\n",
       "</table>\n",
       "</div>"
      ],
      "text/plain": [
       "            0         1         2         3         4    5    6    7    8   \\\n",
       "mean  4.333333  4.333333  4.333333  3.666667  3.666667  1.0  4.0  2.0  4.0   \n",
       "std   0.577350  0.577350  0.577350  0.577350  0.577350  0.0  0.0  1.0  0.0   \n",
       "\n",
       "       9         10        11   12        13   14   15        16        17  \\\n",
       "mean  1.0  2.666667  3.666667  1.0  4.333333  1.0  1.0  3.333333  2.333333   \n",
       "std   0.0  0.577350  0.577350  0.0  0.577350  0.0  0.0  1.154701  0.577350   \n",
       "\n",
       "            18        19  \n",
       "mean  3.333333  2.666667  \n",
       "std   0.577350  1.154701  "
      ]
     },
     "metadata": {},
     "output_type": "display_data"
    },
    {
     "name": "stdout",
     "output_type": "stream",
     "text": [
      "-- Estatisticas Gerais --\n",
      "mean=2.8833333333333333\n",
      "std =1.3551342696902358\n"
     ]
    }
   ],
   "source": [
    "evaluations = pd.read_csv(\"dataset/Rankings/Evaluation/Subjective/top100/MT0000956340.mp3.csv\")\n",
    "print(\"\\t-- Querie 4 --\")\n",
    "print(\"-- Estatisticas por utilizador --\")\n",
    "display(evaluations.describe().loc[[\"mean\", \"std\"]])\n",
    "\n",
    "print(\"-- Estatisticas por musica --\")\n",
    "display(evaluations.T.describe().loc[[\"mean\",\"std\"]])\n",
    "\n",
    "print(\"-- Estatisticas Gerais --\")\n",
    "print(\n",
    "    \"mean=\" + str(evaluations.to_numpy().mean()),\n",
    "    \"std =\" + str(evaluations.to_numpy().std()),\n",
    "    sep=\"\\n\"\n",
    ")"
   ]
  },
  {
   "cell_type": "code",
   "execution_count": 65,
   "id": "1d977b2f",
   "metadata": {},
   "outputs": [
    {
     "name": "stdout",
     "output_type": "stream",
     "text": [
      "Precision = 0.3\n"
     ]
    }
   ],
   "source": [
    "path = \"dataset/Rankings/Evaluation/Subjective/top100/\"\n",
    "try:\n",
    "    del df\n",
    "except:\n",
    "    pass\n",
    "    \n",
    "for song in sorted(os.listdir(path)):\n",
    "    if \"mp3\" in song:\n",
    "        temp_df = pd.read_csv(f\"{path}{song}\")\n",
    "        try:\n",
    "            df = pd.concat((df, temp_df)).reset_index(drop=True)\n",
    "        except:\n",
    "            df = temp_df\n",
    "            \n",
    "temp = df.mean(axis=1)\n",
    "temp = temp[temp>=2.5]\n",
    "print(\"Precision =\", len(temp)/len(df))"
   ]
  },
  {
   "cell_type": "markdown",
   "id": "42c17e01",
   "metadata": {},
   "source": [
    "### *Exercicio 4.2.2 - metadados*\n",
    "- Avaliação similaridade com base nos metadados "
   ]
  },
  {
   "cell_type": "code",
   "execution_count": 66,
   "id": "6ed6ff59",
   "metadata": {},
   "outputs": [
    {
     "name": "stdout",
     "output_type": "stream",
     "text": [
      "\t-- Querie 1 --\n",
      "-- Estatisticas por utilizador --\n"
     ]
    },
    {
     "data": {
      "text/html": [
       "<div>\n",
       "<style scoped>\n",
       "    .dataframe tbody tr th:only-of-type {\n",
       "        vertical-align: middle;\n",
       "    }\n",
       "\n",
       "    .dataframe tbody tr th {\n",
       "        vertical-align: top;\n",
       "    }\n",
       "\n",
       "    .dataframe thead th {\n",
       "        text-align: right;\n",
       "    }\n",
       "</style>\n",
       "<table border=\"1\" class=\"dataframe\">\n",
       "  <thead>\n",
       "    <tr style=\"text-align: right;\">\n",
       "      <th></th>\n",
       "      <th>Joao</th>\n",
       "      <th>Joel</th>\n",
       "      <th>Tomas</th>\n",
       "    </tr>\n",
       "  </thead>\n",
       "  <tbody>\n",
       "    <tr>\n",
       "      <th>mean</th>\n",
       "      <td>1.400000</td>\n",
       "      <td>1.500000</td>\n",
       "      <td>1.750000</td>\n",
       "    </tr>\n",
       "    <tr>\n",
       "      <th>std</th>\n",
       "      <td>0.820783</td>\n",
       "      <td>1.147079</td>\n",
       "      <td>1.208522</td>\n",
       "    </tr>\n",
       "  </tbody>\n",
       "</table>\n",
       "</div>"
      ],
      "text/plain": [
       "          Joao      Joel     Tomas\n",
       "mean  1.400000  1.500000  1.750000\n",
       "std   0.820783  1.147079  1.208522"
      ]
     },
     "metadata": {},
     "output_type": "display_data"
    },
    {
     "name": "stdout",
     "output_type": "stream",
     "text": [
      "-- Estatisticas por musica --\n"
     ]
    },
    {
     "data": {
      "text/html": [
       "<div>\n",
       "<style scoped>\n",
       "    .dataframe tbody tr th:only-of-type {\n",
       "        vertical-align: middle;\n",
       "    }\n",
       "\n",
       "    .dataframe tbody tr th {\n",
       "        vertical-align: top;\n",
       "    }\n",
       "\n",
       "    .dataframe thead th {\n",
       "        text-align: right;\n",
       "    }\n",
       "</style>\n",
       "<table border=\"1\" class=\"dataframe\">\n",
       "  <thead>\n",
       "    <tr style=\"text-align: right;\">\n",
       "      <th></th>\n",
       "      <th>0</th>\n",
       "      <th>1</th>\n",
       "      <th>2</th>\n",
       "      <th>3</th>\n",
       "      <th>4</th>\n",
       "      <th>5</th>\n",
       "      <th>6</th>\n",
       "      <th>7</th>\n",
       "      <th>8</th>\n",
       "      <th>9</th>\n",
       "      <th>10</th>\n",
       "      <th>11</th>\n",
       "      <th>12</th>\n",
       "      <th>13</th>\n",
       "      <th>14</th>\n",
       "      <th>15</th>\n",
       "      <th>16</th>\n",
       "      <th>17</th>\n",
       "      <th>18</th>\n",
       "      <th>19</th>\n",
       "    </tr>\n",
       "  </thead>\n",
       "  <tbody>\n",
       "    <tr>\n",
       "      <th>mean</th>\n",
       "      <td>1.0</td>\n",
       "      <td>1.0</td>\n",
       "      <td>1.333333</td>\n",
       "      <td>1.0</td>\n",
       "      <td>1.0</td>\n",
       "      <td>1.333333</td>\n",
       "      <td>1.0</td>\n",
       "      <td>4.333333</td>\n",
       "      <td>1.0</td>\n",
       "      <td>3.333333</td>\n",
       "      <td>1.0</td>\n",
       "      <td>1.0</td>\n",
       "      <td>1.0</td>\n",
       "      <td>1.333333</td>\n",
       "      <td>2.666667</td>\n",
       "      <td>2.0</td>\n",
       "      <td>1.0</td>\n",
       "      <td>2.666667</td>\n",
       "      <td>1.0</td>\n",
       "      <td>1.0</td>\n",
       "    </tr>\n",
       "    <tr>\n",
       "      <th>std</th>\n",
       "      <td>0.0</td>\n",
       "      <td>0.0</td>\n",
       "      <td>0.577350</td>\n",
       "      <td>0.0</td>\n",
       "      <td>0.0</td>\n",
       "      <td>0.577350</td>\n",
       "      <td>0.0</td>\n",
       "      <td>1.154701</td>\n",
       "      <td>0.0</td>\n",
       "      <td>1.154701</td>\n",
       "      <td>0.0</td>\n",
       "      <td>0.0</td>\n",
       "      <td>0.0</td>\n",
       "      <td>0.577350</td>\n",
       "      <td>0.577350</td>\n",
       "      <td>1.0</td>\n",
       "      <td>0.0</td>\n",
       "      <td>1.527525</td>\n",
       "      <td>0.0</td>\n",
       "      <td>0.0</td>\n",
       "    </tr>\n",
       "  </tbody>\n",
       "</table>\n",
       "</div>"
      ],
      "text/plain": [
       "       0    1         2    3    4         5    6         7    8         9   \\\n",
       "mean  1.0  1.0  1.333333  1.0  1.0  1.333333  1.0  4.333333  1.0  3.333333   \n",
       "std   0.0  0.0  0.577350  0.0  0.0  0.577350  0.0  1.154701  0.0  1.154701   \n",
       "\n",
       "       10   11   12        13        14   15   16        17   18   19  \n",
       "mean  1.0  1.0  1.0  1.333333  2.666667  2.0  1.0  2.666667  1.0  1.0  \n",
       "std   0.0  0.0  0.0  0.577350  0.577350  1.0  0.0  1.527525  0.0  0.0  "
      ]
     },
     "metadata": {},
     "output_type": "display_data"
    },
    {
     "name": "stdout",
     "output_type": "stream",
     "text": [
      "-- Estatisticas Gerais --\n",
      "mean=1.55\n",
      "std =1.0555409355712675\n"
     ]
    }
   ],
   "source": [
    "evaluations = pd.read_csv(\"dataset/Rankings/Evaluation/Subjective/top100/MT0000202045.mp3.csv\")\n",
    "print(\"\\t-- Querie 1 --\")\n",
    "print(\"-- Estatisticas por utilizador --\")\n",
    "display(evaluations.describe().loc[[\"mean\", \"std\"]])\n",
    "\n",
    "print(\"-- Estatisticas por musica --\")\n",
    "display(evaluations.T.describe().loc[[\"mean\",\"std\"]])\n",
    "\n",
    "print(\"-- Estatisticas Gerais --\")\n",
    "print(\n",
    "    \"mean=\" + str(evaluations.to_numpy().mean()),\n",
    "    \"std =\" + str(evaluations.to_numpy().std()),\n",
    "    sep=\"\\n\"\n",
    ")"
   ]
  },
  {
   "cell_type": "code",
   "execution_count": 67,
   "id": "cad19c9c",
   "metadata": {},
   "outputs": [
    {
     "name": "stdout",
     "output_type": "stream",
     "text": [
      "\t-- Querie 2 --\n",
      "-- Estatisticas por utilizador --\n"
     ]
    },
    {
     "data": {
      "text/html": [
       "<div>\n",
       "<style scoped>\n",
       "    .dataframe tbody tr th:only-of-type {\n",
       "        vertical-align: middle;\n",
       "    }\n",
       "\n",
       "    .dataframe tbody tr th {\n",
       "        vertical-align: top;\n",
       "    }\n",
       "\n",
       "    .dataframe thead th {\n",
       "        text-align: right;\n",
       "    }\n",
       "</style>\n",
       "<table border=\"1\" class=\"dataframe\">\n",
       "  <thead>\n",
       "    <tr style=\"text-align: right;\">\n",
       "      <th></th>\n",
       "      <th>Joao</th>\n",
       "      <th>Joel</th>\n",
       "      <th>Tomas</th>\n",
       "    </tr>\n",
       "  </thead>\n",
       "  <tbody>\n",
       "    <tr>\n",
       "      <th>mean</th>\n",
       "      <td>2.450000</td>\n",
       "      <td>2.650000</td>\n",
       "      <td>3.200000</td>\n",
       "    </tr>\n",
       "    <tr>\n",
       "      <th>std</th>\n",
       "      <td>0.998683</td>\n",
       "      <td>0.933302</td>\n",
       "      <td>1.151658</td>\n",
       "    </tr>\n",
       "  </tbody>\n",
       "</table>\n",
       "</div>"
      ],
      "text/plain": [
       "          Joao      Joel     Tomas\n",
       "mean  2.450000  2.650000  3.200000\n",
       "std   0.998683  0.933302  1.151658"
      ]
     },
     "metadata": {},
     "output_type": "display_data"
    },
    {
     "name": "stdout",
     "output_type": "stream",
     "text": [
      "-- Estatisticas por musica --\n"
     ]
    },
    {
     "data": {
      "text/html": [
       "<div>\n",
       "<style scoped>\n",
       "    .dataframe tbody tr th:only-of-type {\n",
       "        vertical-align: middle;\n",
       "    }\n",
       "\n",
       "    .dataframe tbody tr th {\n",
       "        vertical-align: top;\n",
       "    }\n",
       "\n",
       "    .dataframe thead th {\n",
       "        text-align: right;\n",
       "    }\n",
       "</style>\n",
       "<table border=\"1\" class=\"dataframe\">\n",
       "  <thead>\n",
       "    <tr style=\"text-align: right;\">\n",
       "      <th></th>\n",
       "      <th>0</th>\n",
       "      <th>1</th>\n",
       "      <th>2</th>\n",
       "      <th>3</th>\n",
       "      <th>4</th>\n",
       "      <th>5</th>\n",
       "      <th>6</th>\n",
       "      <th>7</th>\n",
       "      <th>8</th>\n",
       "      <th>9</th>\n",
       "      <th>10</th>\n",
       "      <th>11</th>\n",
       "      <th>12</th>\n",
       "      <th>13</th>\n",
       "      <th>14</th>\n",
       "      <th>15</th>\n",
       "      <th>16</th>\n",
       "      <th>17</th>\n",
       "      <th>18</th>\n",
       "      <th>19</th>\n",
       "    </tr>\n",
       "  </thead>\n",
       "  <tbody>\n",
       "    <tr>\n",
       "      <th>mean</th>\n",
       "      <td>3.333333</td>\n",
       "      <td>3.666667</td>\n",
       "      <td>2.0</td>\n",
       "      <td>3.0</td>\n",
       "      <td>3.333333</td>\n",
       "      <td>3.0</td>\n",
       "      <td>3.333333</td>\n",
       "      <td>4.0</td>\n",
       "      <td>3.0</td>\n",
       "      <td>2.0</td>\n",
       "      <td>1.666667</td>\n",
       "      <td>2.0</td>\n",
       "      <td>2.0</td>\n",
       "      <td>2.333333</td>\n",
       "      <td>2.666667</td>\n",
       "      <td>3.0</td>\n",
       "      <td>3.333333</td>\n",
       "      <td>1.0</td>\n",
       "      <td>4.333333</td>\n",
       "      <td>2.333333</td>\n",
       "    </tr>\n",
       "    <tr>\n",
       "      <th>std</th>\n",
       "      <td>1.154701</td>\n",
       "      <td>0.577350</td>\n",
       "      <td>0.0</td>\n",
       "      <td>1.0</td>\n",
       "      <td>1.527525</td>\n",
       "      <td>0.0</td>\n",
       "      <td>1.154701</td>\n",
       "      <td>1.0</td>\n",
       "      <td>1.0</td>\n",
       "      <td>1.0</td>\n",
       "      <td>0.577350</td>\n",
       "      <td>1.0</td>\n",
       "      <td>0.0</td>\n",
       "      <td>0.577350</td>\n",
       "      <td>0.577350</td>\n",
       "      <td>1.0</td>\n",
       "      <td>0.577350</td>\n",
       "      <td>0.0</td>\n",
       "      <td>0.577350</td>\n",
       "      <td>0.577350</td>\n",
       "    </tr>\n",
       "  </tbody>\n",
       "</table>\n",
       "</div>"
      ],
      "text/plain": [
       "            0         1    2    3         4    5         6    7    8    9   \\\n",
       "mean  3.333333  3.666667  2.0  3.0  3.333333  3.0  3.333333  4.0  3.0  2.0   \n",
       "std   1.154701  0.577350  0.0  1.0  1.527525  0.0  1.154701  1.0  1.0  1.0   \n",
       "\n",
       "            10   11   12        13        14   15        16   17        18  \\\n",
       "mean  1.666667  2.0  2.0  2.333333  2.666667  3.0  3.333333  1.0  4.333333   \n",
       "std   0.577350  1.0  0.0  0.577350  0.577350  1.0  0.577350  0.0  0.577350   \n",
       "\n",
       "            19  \n",
       "mean  2.333333  \n",
       "std   0.577350  "
      ]
     },
     "metadata": {},
     "output_type": "display_data"
    },
    {
     "name": "stdout",
     "output_type": "stream",
     "text": [
      "mean=2.7666666666666666\n",
      "std =1.0546194679704248\n"
     ]
    }
   ],
   "source": [
    "evaluations = pd.read_csv(\"dataset/Rankings/Evaluation/Subjective/metadados/MT0000379144.mp3.csv\")\n",
    "print(\"\\t-- Querie 2 --\")\n",
    "print(\"-- Estatisticas por utilizador --\")\n",
    "display(evaluations.describe().loc[[\"mean\", \"std\"]])\n",
    "\n",
    "print(\"-- Estatisticas por musica --\")\n",
    "display(evaluations.T.describe().loc[[\"mean\",\"std\"]])\n",
    "\n",
    "print(\n",
    "    \"mean=\" + str(evaluations.to_numpy().mean()),\n",
    "    \"std =\" + str(evaluations.to_numpy().std()),\n",
    "    sep=\"\\n\"\n",
    ")"
   ]
  },
  {
   "cell_type": "code",
   "execution_count": 68,
   "id": "9ee3821c",
   "metadata": {},
   "outputs": [
    {
     "name": "stdout",
     "output_type": "stream",
     "text": [
      "\t-- Querie 3 --\n",
      "-- Estatisticas por utilizador --\n"
     ]
    },
    {
     "data": {
      "text/html": [
       "<div>\n",
       "<style scoped>\n",
       "    .dataframe tbody tr th:only-of-type {\n",
       "        vertical-align: middle;\n",
       "    }\n",
       "\n",
       "    .dataframe tbody tr th {\n",
       "        vertical-align: top;\n",
       "    }\n",
       "\n",
       "    .dataframe thead th {\n",
       "        text-align: right;\n",
       "    }\n",
       "</style>\n",
       "<table border=\"1\" class=\"dataframe\">\n",
       "  <thead>\n",
       "    <tr style=\"text-align: right;\">\n",
       "      <th></th>\n",
       "      <th>Joao</th>\n",
       "      <th>Joel</th>\n",
       "      <th>Tomas</th>\n",
       "    </tr>\n",
       "  </thead>\n",
       "  <tbody>\n",
       "    <tr>\n",
       "      <th>mean</th>\n",
       "      <td>2.400000</td>\n",
       "      <td>2.400000</td>\n",
       "      <td>2.450000</td>\n",
       "    </tr>\n",
       "    <tr>\n",
       "      <th>std</th>\n",
       "      <td>1.231174</td>\n",
       "      <td>1.187656</td>\n",
       "      <td>1.356272</td>\n",
       "    </tr>\n",
       "  </tbody>\n",
       "</table>\n",
       "</div>"
      ],
      "text/plain": [
       "          Joao      Joel     Tomas\n",
       "mean  2.400000  2.400000  2.450000\n",
       "std   1.231174  1.187656  1.356272"
      ]
     },
     "metadata": {},
     "output_type": "display_data"
    },
    {
     "name": "stdout",
     "output_type": "stream",
     "text": [
      "-- Estatisticas por musica --\n"
     ]
    },
    {
     "data": {
      "text/html": [
       "<div>\n",
       "<style scoped>\n",
       "    .dataframe tbody tr th:only-of-type {\n",
       "        vertical-align: middle;\n",
       "    }\n",
       "\n",
       "    .dataframe tbody tr th {\n",
       "        vertical-align: top;\n",
       "    }\n",
       "\n",
       "    .dataframe thead th {\n",
       "        text-align: right;\n",
       "    }\n",
       "</style>\n",
       "<table border=\"1\" class=\"dataframe\">\n",
       "  <thead>\n",
       "    <tr style=\"text-align: right;\">\n",
       "      <th></th>\n",
       "      <th>0</th>\n",
       "      <th>1</th>\n",
       "      <th>2</th>\n",
       "      <th>3</th>\n",
       "      <th>4</th>\n",
       "      <th>5</th>\n",
       "      <th>6</th>\n",
       "      <th>7</th>\n",
       "      <th>8</th>\n",
       "      <th>9</th>\n",
       "      <th>10</th>\n",
       "      <th>11</th>\n",
       "      <th>12</th>\n",
       "      <th>13</th>\n",
       "      <th>14</th>\n",
       "      <th>15</th>\n",
       "      <th>16</th>\n",
       "      <th>17</th>\n",
       "      <th>18</th>\n",
       "      <th>19</th>\n",
       "    </tr>\n",
       "  </thead>\n",
       "  <tbody>\n",
       "    <tr>\n",
       "      <th>mean</th>\n",
       "      <td>4.333333</td>\n",
       "      <td>3.666667</td>\n",
       "      <td>3.666667</td>\n",
       "      <td>3.0</td>\n",
       "      <td>3.0</td>\n",
       "      <td>5.0</td>\n",
       "      <td>2.333333</td>\n",
       "      <td>2.0</td>\n",
       "      <td>2.333333</td>\n",
       "      <td>1.333333</td>\n",
       "      <td>2.333333</td>\n",
       "      <td>2.0</td>\n",
       "      <td>1.333333</td>\n",
       "      <td>1.0</td>\n",
       "      <td>1.0</td>\n",
       "      <td>1.333333</td>\n",
       "      <td>1.333333</td>\n",
       "      <td>1.0</td>\n",
       "      <td>2.666667</td>\n",
       "      <td>3.666667</td>\n",
       "    </tr>\n",
       "    <tr>\n",
       "      <th>std</th>\n",
       "      <td>0.577350</td>\n",
       "      <td>0.577350</td>\n",
       "      <td>0.577350</td>\n",
       "      <td>0.0</td>\n",
       "      <td>0.0</td>\n",
       "      <td>0.0</td>\n",
       "      <td>0.577350</td>\n",
       "      <td>0.0</td>\n",
       "      <td>0.577350</td>\n",
       "      <td>0.577350</td>\n",
       "      <td>1.154701</td>\n",
       "      <td>0.0</td>\n",
       "      <td>0.577350</td>\n",
       "      <td>0.0</td>\n",
       "      <td>0.0</td>\n",
       "      <td>0.577350</td>\n",
       "      <td>0.577350</td>\n",
       "      <td>0.0</td>\n",
       "      <td>0.577350</td>\n",
       "      <td>0.577350</td>\n",
       "    </tr>\n",
       "  </tbody>\n",
       "</table>\n",
       "</div>"
      ],
      "text/plain": [
       "            0         1         2    3    4    5         6    7         8   \\\n",
       "mean  4.333333  3.666667  3.666667  3.0  3.0  5.0  2.333333  2.0  2.333333   \n",
       "std   0.577350  0.577350  0.577350  0.0  0.0  0.0  0.577350  0.0  0.577350   \n",
       "\n",
       "            9         10   11        12   13   14        15        16   17  \\\n",
       "mean  1.333333  2.333333  2.0  1.333333  1.0  1.0  1.333333  1.333333  1.0   \n",
       "std   0.577350  1.154701  0.0  0.577350  0.0  0.0  0.577350  0.577350  0.0   \n",
       "\n",
       "            18        19  \n",
       "mean  2.666667  3.666667  \n",
       "std   0.577350  0.577350  "
      ]
     },
     "metadata": {},
     "output_type": "display_data"
    },
    {
     "name": "stdout",
     "output_type": "stream",
     "text": [
      "mean=2.4166666666666665\n",
      "std =1.2287075413711035\n"
     ]
    }
   ],
   "source": [
    "evaluations = pd.read_csv(\"dataset/Rankings/Evaluation/Subjective/metadados/MT0000414517.mp3.csv\")\n",
    "print(\"\\t-- Querie 3 --\")\n",
    "print(\"-- Estatisticas por utilizador --\")\n",
    "display(evaluations.describe().loc[[\"mean\", \"std\"]])\n",
    "\n",
    "\n",
    "print(\"-- Estatisticas por musica --\")\n",
    "display(evaluations.T.describe().loc[[\"mean\",\"std\"]])\n",
    "\n",
    "print(\n",
    "    \"mean=\" + str(evaluations.to_numpy().mean()),\n",
    "    \"std =\" + str(evaluations.to_numpy().std()),\n",
    "    sep=\"\\n\"\n",
    ")"
   ]
  },
  {
   "cell_type": "code",
   "execution_count": 69,
   "id": "8e02f56a",
   "metadata": {},
   "outputs": [
    {
     "name": "stdout",
     "output_type": "stream",
     "text": [
      "\t-- Querie 4 --\n",
      "-- Estatisticas por utilizador --\n"
     ]
    },
    {
     "data": {
      "text/html": [
       "<div>\n",
       "<style scoped>\n",
       "    .dataframe tbody tr th:only-of-type {\n",
       "        vertical-align: middle;\n",
       "    }\n",
       "\n",
       "    .dataframe tbody tr th {\n",
       "        vertical-align: top;\n",
       "    }\n",
       "\n",
       "    .dataframe thead th {\n",
       "        text-align: right;\n",
       "    }\n",
       "</style>\n",
       "<table border=\"1\" class=\"dataframe\">\n",
       "  <thead>\n",
       "    <tr style=\"text-align: right;\">\n",
       "      <th></th>\n",
       "      <th>Joao</th>\n",
       "      <th>Joel</th>\n",
       "      <th>Tomas</th>\n",
       "    </tr>\n",
       "  </thead>\n",
       "  <tbody>\n",
       "    <tr>\n",
       "      <th>mean</th>\n",
       "      <td>2.250000</td>\n",
       "      <td>1.900000</td>\n",
       "      <td>2.450000</td>\n",
       "    </tr>\n",
       "    <tr>\n",
       "      <th>std</th>\n",
       "      <td>1.292692</td>\n",
       "      <td>1.209611</td>\n",
       "      <td>1.431782</td>\n",
       "    </tr>\n",
       "  </tbody>\n",
       "</table>\n",
       "</div>"
      ],
      "text/plain": [
       "          Joao      Joel     Tomas\n",
       "mean  2.250000  1.900000  2.450000\n",
       "std   1.292692  1.209611  1.431782"
      ]
     },
     "metadata": {},
     "output_type": "display_data"
    },
    {
     "name": "stdout",
     "output_type": "stream",
     "text": [
      "-- Estatisticas por musica --\n"
     ]
    },
    {
     "data": {
      "text/html": [
       "<div>\n",
       "<style scoped>\n",
       "    .dataframe tbody tr th:only-of-type {\n",
       "        vertical-align: middle;\n",
       "    }\n",
       "\n",
       "    .dataframe tbody tr th {\n",
       "        vertical-align: top;\n",
       "    }\n",
       "\n",
       "    .dataframe thead th {\n",
       "        text-align: right;\n",
       "    }\n",
       "</style>\n",
       "<table border=\"1\" class=\"dataframe\">\n",
       "  <thead>\n",
       "    <tr style=\"text-align: right;\">\n",
       "      <th></th>\n",
       "      <th>0</th>\n",
       "      <th>1</th>\n",
       "      <th>2</th>\n",
       "      <th>3</th>\n",
       "      <th>4</th>\n",
       "      <th>5</th>\n",
       "      <th>6</th>\n",
       "      <th>7</th>\n",
       "      <th>8</th>\n",
       "      <th>9</th>\n",
       "      <th>10</th>\n",
       "      <th>11</th>\n",
       "      <th>12</th>\n",
       "      <th>13</th>\n",
       "      <th>14</th>\n",
       "      <th>15</th>\n",
       "      <th>16</th>\n",
       "      <th>17</th>\n",
       "      <th>18</th>\n",
       "      <th>19</th>\n",
       "    </tr>\n",
       "  </thead>\n",
       "  <tbody>\n",
       "    <tr>\n",
       "      <th>mean</th>\n",
       "      <td>3.666667</td>\n",
       "      <td>3.333333</td>\n",
       "      <td>4.333333</td>\n",
       "      <td>3.666667</td>\n",
       "      <td>1.0</td>\n",
       "      <td>1.333333</td>\n",
       "      <td>1.666667</td>\n",
       "      <td>1.333333</td>\n",
       "      <td>1.0</td>\n",
       "      <td>3.666667</td>\n",
       "      <td>4.0</td>\n",
       "      <td>1.666667</td>\n",
       "      <td>1.0</td>\n",
       "      <td>3.333333</td>\n",
       "      <td>3.0</td>\n",
       "      <td>1.0</td>\n",
       "      <td>1.0</td>\n",
       "      <td>2.0</td>\n",
       "      <td>1.0</td>\n",
       "      <td>1.0</td>\n",
       "    </tr>\n",
       "    <tr>\n",
       "      <th>std</th>\n",
       "      <td>0.577350</td>\n",
       "      <td>1.527525</td>\n",
       "      <td>0.577350</td>\n",
       "      <td>0.577350</td>\n",
       "      <td>0.0</td>\n",
       "      <td>0.577350</td>\n",
       "      <td>0.577350</td>\n",
       "      <td>0.577350</td>\n",
       "      <td>0.0</td>\n",
       "      <td>0.577350</td>\n",
       "      <td>0.0</td>\n",
       "      <td>0.577350</td>\n",
       "      <td>0.0</td>\n",
       "      <td>0.577350</td>\n",
       "      <td>0.0</td>\n",
       "      <td>0.0</td>\n",
       "      <td>0.0</td>\n",
       "      <td>1.0</td>\n",
       "      <td>0.0</td>\n",
       "      <td>0.0</td>\n",
       "    </tr>\n",
       "  </tbody>\n",
       "</table>\n",
       "</div>"
      ],
      "text/plain": [
       "            0         1         2         3    4         5         6   \\\n",
       "mean  3.666667  3.333333  4.333333  3.666667  1.0  1.333333  1.666667   \n",
       "std   0.577350  1.527525  0.577350  0.577350  0.0  0.577350  0.577350   \n",
       "\n",
       "            7    8         9    10        11   12        13   14   15   16  \\\n",
       "mean  1.333333  1.0  3.666667  4.0  1.666667  1.0  3.333333  3.0  1.0  1.0   \n",
       "std   0.577350  0.0  0.577350  0.0  0.577350  0.0  0.577350  0.0  0.0  0.0   \n",
       "\n",
       "       17   18   19  \n",
       "mean  2.0  1.0  1.0  \n",
       "std   1.0  0.0  0.0  "
      ]
     },
     "metadata": {},
     "output_type": "display_data"
    },
    {
     "name": "stdout",
     "output_type": "stream",
     "text": [
      "mean = 2.2\n",
      "std = 1.3012814197295421\n"
     ]
    }
   ],
   "source": [
    "evaluations = pd.read_csv(\"dataset/Rankings/Evaluation/Subjective/metadados/MT0000956340.mp3.csv\")\n",
    "print(\"\\t-- Querie 4 --\")\n",
    "print(\"-- Estatisticas por utilizador --\")\n",
    "display(evaluations.describe().loc[[\"mean\", \"std\"]])\n",
    "\n",
    "\n",
    "print(\"-- Estatisticas por musica --\")\n",
    "display(evaluations.T.describe().loc[[\"mean\",\"std\"]])\n",
    "\n",
    "print(\n",
    "    \"mean = \" + str(evaluations.to_numpy().mean()),\n",
    "    \"std = \" + str(evaluations.to_numpy().std()),\n",
    "    sep=\"\\n\"\n",
    ")"
   ]
  },
  {
   "cell_type": "code",
   "execution_count": 70,
   "id": "76cbcfd4",
   "metadata": {},
   "outputs": [
    {
     "name": "stdout",
     "output_type": "stream",
     "text": [
      "Precision = 0.3625\n"
     ]
    }
   ],
   "source": [
    "path = \"dataset/Rankings/Evaluation/Subjective/metadados/\"\n",
    "try:\n",
    "    del df\n",
    "except:\n",
    "    pass\n",
    "    \n",
    "for song in sorted(os.listdir(path)):\n",
    "    if \"mp3\" in song:\n",
    "        temp_df = pd.read_csv(f\"{path}{song}\")\n",
    "        try:\n",
    "            df = pd.concat((df, temp_df)).reset_index(drop=True)\n",
    "        except:\n",
    "            df = temp_df\n",
    "            \n",
    "temp = df.mean(axis=1)\n",
    "temp = temp[temp>=2.5]\n",
    "print(\"Precision =\", len(temp)/len(df))"
   ]
  },
  {
   "cell_type": "markdown",
   "id": "9ccec212",
   "metadata": {},
   "source": [
    "### *Exercicio 4.2.3*\n",
    "   \n",
    "   O modelo de recomendação, quer através dos top100 features, quer através dos metadados, apresentou resultados que podem ser classificados como maus, tendo uma precisão de cerca de 30%. Isto pode dever-se a vários fatores, mas o que nos parece mais relevante é o facto de o ouvinte se ter baseado na similaridade da música e não na emoção subjacente a esta. \n",
    "   Este fator justificaria também o facto de a recomendação pelos metadados ter tido melhor pontuação. Como foi referido no ponto 4.1.4, a recomendação com base nos metadados é mais próxima da recomendação por conteúdo do que a recomendação através do conjunto de 100 features. Apesar disto, a precisão obtida indica que a recomendação com base nos metadados pode não ter bons resultados.<br>\n",
    "   \n",
    "   Outra causa pode ser o próprio dataset. Não foi feita nenhuma verificação relativa à distribuição dos tipos de música presentes na base de dados, quer por emoção, quer por género. O modelo pode não conseguir calcular boas recomendações pelo facto de não as ter na sua posse e, assim, erradamente, demonstrar maus resultados. Se este for o caso, é representativo do ditado \"Garbage in, garbage out\". \n"
   ]
  }
 ],
 "metadata": {
  "kernelspec": {
   "display_name": "Python 3 (ipykernel)",
   "language": "python",
   "name": "python3"
  },
  "language_info": {
   "codemirror_mode": {
    "name": "ipython",
    "version": 3
   },
   "file_extension": ".py",
   "mimetype": "text/x-python",
   "name": "python",
   "nbconvert_exporter": "python",
   "pygments_lexer": "ipython3",
   "version": "3.9.7"
  }
 },
 "nbformat": 4,
 "nbformat_minor": 5
}
