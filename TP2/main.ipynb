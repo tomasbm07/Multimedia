{
 "cells": [
  {
   "cell_type": "code",
   "execution_count": null,
   "id": "7e5e494f",
   "metadata": {},
   "outputs": [],
   "source": [
    "import librosa  # https://librosa.org/\n",
    "import librosa.display\n",
    "\n",
    "# import librosa.beat\n",
    "import sounddevice as sd  # https://anaconda.org/conda-forge/python-sounddevice\n",
    "import warnings\n",
    "import numpy as np\n",
    "import pandas as pd\n",
    "import matplotlib.pyplot as plt\n",
    "import os\n",
    "import scipy.stats as scs\n",
    "from scipy.spatial.distance import (\n",
    "    euclidean,\n",
    "    cosine,\n",
    "    cityblock, # cityblock -> Manhattan\n",
    ") \n",
    "\n",
    "from librosa.feature import (\n",
    "    mfcc,\n",
    "    spectral_centroid,\n",
    "    spectral_bandwidth,\n",
    "    spectral_contrast,\n",
    "    spectral_flatness,\n",
    "    spectral_rolloff,\n",
    "    zero_crossing_rate,\n",
    ")\n",
    "from librosa import yin\n",
    "from librosa.beat import tempo\n"
   ]
  },
  {
   "cell_type": "code",
   "execution_count": null,
   "id": "e4a6e970",
   "metadata": {},
   "outputs": [],
   "source": [
    "fName = \"Queries/MT0000202045.mp3\"\n",
    "sr = 22050\n",
    "mono = True\n",
    "warnings.filterwarnings(\"ignore\")\n"
   ]
  },
  {
   "cell_type": "code",
   "execution_count": null,
   "id": "ca1b7b6e",
   "metadata": {},
   "outputs": [],
   "source": [
    "y, fs = librosa.load(fName, sr=sr, mono = mono)\n",
    "print(y.shape)\n",
    "print(fs)"
   ]
  },
  {
   "cell_type": "code",
   "execution_count": null,
   "id": "dfe23112",
   "metadata": {},
   "outputs": [],
   "source": [
    "sd.play(y, sr, blocking=False)"
   ]
  },
  {
   "cell_type": "code",
   "execution_count": null,
   "id": "4dbb1165",
   "metadata": {},
   "outputs": [],
   "source": [
    "plt.figure()\n",
    "librosa.display.waveshow(y)"
   ]
  },
  {
   "cell_type": "code",
   "execution_count": null,
   "id": "b4bd2c14",
   "metadata": {},
   "outputs": [],
   "source": [
    "Y = np.abs(librosa.stft(y))\n",
    "Ydb = librosa.amplitude_to_db(Y, ref=np.max)\n",
    "fig, ax = plt.subplots()\n",
    "img = librosa.display.specshow(Ydb, y_axis='linear', x_axis='time', ax=ax)\n",
    "ax.set_title('Power spectrogram')\n",
    "fig.colorbar(img, ax=ax, format=\"%+2.0f dB\")"
   ]
  },
  {
   "cell_type": "code",
   "execution_count": null,
   "id": "3f745c8d",
   "metadata": {},
   "outputs": [],
   "source": [
    "rms = librosa.feature.rms(y = y)\n",
    "rms = rms[0, :]\n",
    "print(rms.shape)\n",
    "times = librosa.times_like(rms)\n",
    "plt.figure(), plt.plot(times, rms)\n",
    "plt.xlabel('Time (s)')\n",
    "plt.title('RMS')"
   ]
  },
  {
   "cell_type": "markdown",
   "id": "d9e70aa7",
   "metadata": {},
   "source": [
    "## Semana 2"
   ]
  },
  {
   "cell_type": "code",
   "execution_count": null,
   "id": "b60651a2",
   "metadata": {},
   "outputs": [],
   "source": [
    "features = pd.read_csv(\"dataset/Features - Audio MER/features.csv\", delimiter=';')\n",
    "features"
   ]
  },
  {
   "cell_type": "code",
   "execution_count": null,
   "id": "6c83ac4e",
   "metadata": {
    "scrolled": false
   },
   "outputs": [],
   "source": [
    "# Read top100_features.csv file and remove first row and col and last col\n",
    "top_100 = pd.read_csv(\"dataset/Features - Audio MER/top100_features.csv\", header=None).iloc[1:, 1:-1]\n",
    "top_100"
   ]
  },
  {
   "cell_type": "code",
   "execution_count": null,
   "id": "cf433d81",
   "metadata": {},
   "outputs": [],
   "source": [
    "top_100_norm = np.apply_along_axis(librosa.util.normalize, 1, top_100.to_numpy(dtype = np.float32))\n",
    "np.savetxt(\"top_100_features_normalized.csv\", top_100_norm, delimiter=\";\")\n",
    "\n",
    "top_100_norm.shape"
   ]
  },
  {
   "cell_type": "code",
   "execution_count": null,
   "id": "16430c8a",
   "metadata": {},
   "outputs": [],
   "source": [
    "#get columns that represent the value of a feature\n",
    "#filtered_columns = list(filter(lambda col: col[0]==\"F\", top_100.columns))\n",
    "#normalize those columns values with the librosa library\n",
    "#top_100[filtered_columns] = librosa.util.normalize(top_100[filtered_columns].to_numpy())"
   ]
  },
  {
   "cell_type": "code",
   "execution_count": null,
   "id": "3bc57a2c",
   "metadata": {},
   "outputs": [],
   "source": [
    "# top_100.to_csv(\"top_100_extracted_features.csv\", sep = \";\", index = False)"
   ]
  },
  {
   "cell_type": "code",
   "execution_count": null,
   "id": "970428c5",
   "metadata": {},
   "outputs": [],
   "source": [
    "#Receives uniform signal and extracts features\n",
    "def extract_features(signal : np.array):\n",
    "    mean = signal.mean()\n",
    "    stdDev = signal.std()\n",
    "    skewness = scs.skew(signal)\n",
    "    kurtosis = scs.kurtosis(signal)\n",
    "    median = np.median(signal)\n",
    "    max_value = signal.max()\n",
    "    min_value = signal.min()\n",
    "    return (mean, stdDev, skewness, kurtosis, median, max_value, min_value)"
   ]
  },
  {
   "cell_type": "code",
   "execution_count": null,
   "id": "0e6e68ee",
   "metadata": {},
   "outputs": [],
   "source": [
    "# Código para extrair os features de todas as músicas em main.py"
   ]
  },
  {
   "cell_type": "code",
   "execution_count": null,
   "id": "fcde8cfc",
   "metadata": {},
   "outputs": [],
   "source": [
    "path = \"dataset/MER_audio_taffc_dataset/Q1/MT0000040632.mp3\"\n",
    "y,fs = y, fs = librosa.load(path, sr=sr, mono = mono)"
   ]
  },
  {
   "cell_type": "code",
   "execution_count": null,
   "id": "2048af0f",
   "metadata": {},
   "outputs": [],
   "source": [
    "# Spectral features extraction\n",
    "\n",
    "\n",
    "# Black formmating :)\n",
    "def get_feature_vector(filename):\n",
    "    y, fs = librosa.load(filename, sr=sr, mono=mono)\n",
    "\n",
    "    _mfcc = np.apply_along_axis(extract_features, 1, mfcc(y=y, n_mfcc=13)).flatten()\n",
    "\n",
    "    spc_centroid = np.apply_along_axis(\n",
    "        extract_features, 1, spectral_centroid(y=y)\n",
    "    ).flatten()\n",
    "\n",
    "    spc_bdwth = np.apply_along_axis(\n",
    "        extract_features, 1, spectral_bandwidth(y=y)\n",
    "    ).flatten()\n",
    "\n",
    "    spc_contrast = np.apply_along_axis(\n",
    "        extract_features, 1, spectral_contrast(y=y)\n",
    "    ).flatten()\n",
    "\n",
    "    spc_flatness = np.apply_along_axis(\n",
    "        extract_features, 1, spectral_flatness(y=y)\n",
    "    ).flatten()\n",
    "\n",
    "    spc_rollof = np.apply_along_axis(\n",
    "        extract_features, 1, spectral_rolloff(y=y)\n",
    "    ).flatten()\n",
    "\n",
    "    f0 = np.apply_along_axis(extract_features, 0, yin(y, 20, 11025))\n",
    "    f0[f0 == 11025] = 0\n",
    "\n",
    "    rms = np.apply_along_axis(extract_features, 1, rms(y=y)).flatten()\n",
    "\n",
    "    zcr = np.apply_along_axis(extract_features, 1, zero_crossing_rate(y=y)).flatten()\n",
    "\n",
    "    _tempo = tempo(y=y)\n",
    "\n",
    "    feature_vector = np.concatenate(\n",
    "        (\n",
    "            _mfcc,\n",
    "            spc_centroid,\n",
    "            spc_bdwth,\n",
    "            spc_contrast,\n",
    "            spc_flatness,\n",
    "            spc_rollof,\n",
    "            f0,\n",
    "            rms,\n",
    "            zcr,\n",
    "            _tempo,\n",
    "        )\n",
    "    )\n",
    "\n",
    "    return feature_vector\n"
   ]
  },
  {
   "cell_type": "code",
   "execution_count": null,
   "id": "219620eb",
   "metadata": {},
   "outputs": [],
   "source": [
    "# feature_vector.tofile(\"exercise2_features.csv\", sep = \";\")"
   ]
  },
  {
   "cell_type": "code",
   "execution_count": null,
   "id": "a4b696ed",
   "metadata": {},
   "outputs": [],
   "source": [
    "librosa.feature.zero_crossing_rate(y=y)"
   ]
  },
  {
   "cell_type": "code",
   "execution_count": null,
   "id": "717465d7",
   "metadata": {},
   "outputs": [],
   "source": [
    "librosa.feature.spectral_contrast(y=y).shape"
   ]
  },
  {
   "cell_type": "markdown",
   "id": "2aa74ec6",
   "metadata": {},
   "source": [
    "## Semana 3"
   ]
  },
  {
   "cell_type": "code",
   "execution_count": null,
   "id": "45f30eca",
   "metadata": {},
   "outputs": [],
   "source": [
    "normalized_features = pd.read_csv(\"exercise2_features_normalized.csv\", header=None, sep=';')"
   ]
  },
  {
   "cell_type": "code",
   "execution_count": null,
   "id": "43604094",
   "metadata": {},
   "outputs": [],
   "source": [
    "normalized_features"
   ]
  },
  {
   "cell_type": "code",
   "execution_count": null,
   "id": "c1583bc1",
   "metadata": {},
   "outputs": [],
   "source": [
    "features = normalized_features.to_numpy()"
   ]
  },
  {
   "cell_type": "code",
   "execution_count": null,
   "id": "f19ffac5",
   "metadata": {},
   "outputs": [],
   "source": [
    "def similarity_metric(x, y, metric = 'euclidean'):\n",
    "    # if x.shape != y.shape:\n",
    "    #     return\n",
    "    \n",
    "    if metric == 'euclidean':\n",
    "        return euclidean(x, y)\n",
    "    elif metric == 'cosine':\n",
    "        return cosine(x, y)\n",
    "    elif metric == 'manhattan':\n",
    "        cityblock(x, y)"
   ]
  },
  {
   "cell_type": "code",
   "execution_count": null,
   "id": "3ce76dfc",
   "metadata": {},
   "outputs": [],
   "source": [
    "x = get_feature_vector('Queries/MT0000202045.mp3')\n",
    "\n",
    "results = []\n",
    "temp = []\n",
    "\n",
    "for i in features:\n",
    "    for j in features:\n",
    "        temp.append(similarity_metric(i, j, 'cosine'))\n",
    "    results.append(temp)\n",
    "\n",
    "results = np.array(results)\n",
    "results.shape\n",
    "results"
   ]
  },
  {
   "cell_type": "code",
   "execution_count": null,
   "id": "756c5569",
   "metadata": {},
   "outputs": [],
   "source": []
  }
 ],
 "metadata": {
  "kernelspec": {
   "display_name": "Python 3 (ipykernel)",
   "language": "python",
   "name": "python3"
  },
  "language_info": {
   "codemirror_mode": {
    "name": "ipython",
    "version": 3
   },
   "file_extension": ".py",
   "mimetype": "text/x-python",
   "name": "python",
   "nbconvert_exporter": "python",
   "pygments_lexer": "ipython3",
   "version": "3.9.7"
  }
 },
 "nbformat": 4,
 "nbformat_minor": 5
}
