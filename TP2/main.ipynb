{
 "cells": [
  {
   "cell_type": "code",
   "execution_count": null,
   "id": "7e5e494f",
   "metadata": {},
   "outputs": [],
   "source": [
    "import librosa #https://librosa.org/\n",
    "import librosa.display\n",
    "import librosa.beat\n",
    "import sounddevice as sd  #https://anaconda.org/conda-forge/python-sounddevice\n",
    "import warnings\n",
    "import numpy as np\n",
    "import pandas as pd\n",
    "import matplotlib.pyplot as plt\n",
    "import os\n",
    "import scipy.stats as scs\n",
    "import scipy.fft as scf\n",
    "import scipy.signal as scsg\n",
    "from sys import getsizeof as sizeof\n",
    "\n",
    "sr = 22050\n",
    "mono = True\n",
    "warnings.filterwarnings(\"ignore\")"
   ]
  },
  {
   "cell_type": "code",
   "execution_count": null,
   "id": "e4a6e970",
   "metadata": {},
   "outputs": [],
   "source": [
    "fName = \"Queries/MT0000202045.mp3\""
   ]
  },
  {
   "cell_type": "code",
   "execution_count": null,
   "id": "ca1b7b6e",
   "metadata": {},
   "outputs": [],
   "source": [
    "y, fs = librosa.load(fName, sr=sr, mono = mono)\n",
    "print(y.shape)\n",
    "print(fs)"
   ]
  },
  {
   "cell_type": "code",
   "execution_count": null,
   "id": "dfe23112",
   "metadata": {},
   "outputs": [],
   "source": [
    "sd.play(y, sr, blocking=False)"
   ]
  },
  {
   "cell_type": "code",
   "execution_count": null,
   "id": "4dbb1165",
   "metadata": {},
   "outputs": [],
   "source": [
    "plt.figure()\n",
    "librosa.display.waveshow(y)"
   ]
  },
  {
   "cell_type": "code",
   "execution_count": null,
   "id": "b4bd2c14",
   "metadata": {},
   "outputs": [],
   "source": [
    "Y = np.abs(librosa.stft(y))\n",
    "Ydb = librosa.amplitude_to_db(Y, ref=np.max)\n",
    "fig, ax = plt.subplots()\n",
    "img = librosa.display.specshow(Ydb, y_axis='linear', x_axis='time', ax=ax)\n",
    "ax.set_title('Power spectrogram')\n",
    "fig.colorbar(img, ax=ax, format=\"%+2.0f dB\")"
   ]
  },
  {
   "cell_type": "code",
   "execution_count": null,
   "id": "3f745c8d",
   "metadata": {},
   "outputs": [],
   "source": [
    "rms = librosa.feature.rms(y = y)\n",
    "rms = rms[0, :]\n",
    "print(rms.shape)\n",
    "times = librosa.times_like(rms)\n",
    "plt.figure(), plt.plot(times, rms)\n",
    "plt.xlabel('Time (s)')\n",
    "plt.title('RMS')"
   ]
  },
  {
   "cell_type": "markdown",
   "id": "d9e70aa7",
   "metadata": {},
   "source": [
    "# Semana 2"
   ]
  },
  {
   "cell_type": "code",
   "execution_count": null,
   "id": "b60651a2",
   "metadata": {},
   "outputs": [],
   "source": [
    "features = pd.read_csv(\"dataset/Features - Audio MER/features.csv\", delimiter=';')\n",
    "features"
   ]
  },
  {
   "cell_type": "code",
   "execution_count": null,
   "id": "6c83ac4e",
   "metadata": {
    "scrolled": true
   },
   "outputs": [],
   "source": [
    "top_100 = pd.read_csv(\"dataset/Features - Audio MER/top100_features.csv\")\n",
    "top_100.head()"
   ]
  },
  {
   "cell_type": "code",
   "execution_count": null,
   "id": "cf433d81",
   "metadata": {},
   "outputs": [],
   "source": [
    "top_100.shape"
   ]
  },
  {
   "cell_type": "code",
   "execution_count": null,
   "id": "16430c8a",
   "metadata": {},
   "outputs": [],
   "source": [
    "#get columns that represent the value of a feature\n",
    "filtered_columns = list(filter(lambda col: col[0]==\"F\", top_100.columns))\n",
    "#normalize those columns values with the librosa library\n",
    "top_100[filtered_columns] = librosa.util.normalize(top_100[filtered_columns].to_numpy())"
   ]
  },
  {
   "cell_type": "code",
   "execution_count": null,
   "id": "3bc57a2c",
   "metadata": {},
   "outputs": [],
   "source": [
    "top_100.to_csv(\"top_100_extracted_features.csv\", sep = \";\", index = False)"
   ]
  },
  {
   "cell_type": "code",
   "execution_count": null,
   "id": "970428c5",
   "metadata": {},
   "outputs": [],
   "source": [
    "#Receives uniform signal and extracts features\n",
    "def extract_features(signal : np.array):\n",
    "    mean = signal.mean()\n",
    "    stdDev = signal.std()\n",
    "    skewness = scs.skew(signal)\n",
    "    kurtosis = scs.kurtosis(signal)\n",
    "    median = np.median(signal)\n",
    "    max_value = signal.max()\n",
    "    min_value = signal.min()\n",
    "    return (mean, stdDev, skewness, kurtosis, median, max_value, min_value)"
   ]
  },
  {
   "cell_type": "code",
   "execution_count": null,
   "id": "0e6e68ee",
   "metadata": {},
   "outputs": [],
   "source": [
    "path = \"dataset/MER_audio_taffc_dataset/Q\"\n",
    "#910x190\n",
    "feature_matrix = np.zeros((910, 190))\n",
    "index=0\n",
    "for i in range(1,5):\n",
    "    for audio in os.listdir(f\"{path}{i}\"):\n",
    "        print(index)\n",
    "        y, fs = librosa.load(f\"{path}{i}/{audio}\", sr=sr, mono = mono)\n",
    "        #Spectral features extraction\n",
    "        mfcc = np.apply_along_axis(extract_features, 1, librosa.feature.mfcc(y=y, n_mfcc=13)).flatten()\n",
    "        spc_centroid= np.apply_along_axis(extract_features, 1, librosa.feature.spectral_centroid(y=y)).flatten()\n",
    "        spc_bdwth = np.apply_along_axis(extract_features, 1, librosa.feature.spectral_bandwidth(y=y)).flatten()\n",
    "        spc_contrast = np.apply_along_axis(extract_features, 1, librosa.feature.spectral_contrast(y=y)).flatten()\n",
    "        spc_flatness = np.apply_along_axis(extract_features, 1, librosa.feature.spectral_flatness(y=y)).flatten()\n",
    "        spc_rollof = np.apply_along_axis(extract_features, 1, librosa.feature.spectral_rolloff(y=y)).flatten()\n",
    "        f0 = np.apply_along_axis(extract_features, 0, librosa.yin(y, 20, 11025))\n",
    "        f0[f0==11025] = 0;\n",
    "        rms = np.apply_along_axis(extract_features, 1, librosa.feature.rms(y=y)).flatten()\n",
    "        zcr = np.apply_along_axis(extract_features, 1, librosa.feature.zero_crossing_rate(y=y)).flatten()\n",
    "        tempo = librosa.beat.tempo(y=y)\n",
    "        \n",
    "        feature_vector = np.concatenate((mfcc,spc_centroid, spc_bdwth, spc_contrast, spc_flatness, spc_rollof,\n",
    "                                        f0, rms, zcr, tempo))\n",
    "        \n",
    "        feature_matrix[index]=feature_vector;\n",
    "        index+=1;\n",
    "\n",
    "np.apply_along_axis(librosa.util.normalize, 1, feature_matrix)\n",
    "feature_matrix.tofile(\"exercise2_features.csv\", sep = \";\")\n",
    "del feature_matrix"
   ]
  },
  {
   "cell_type": "markdown",
   "id": "bed522fd",
   "metadata": {},
   "source": [
    "# *Exercicio 2.3*\n",
    "\n",
    "> References: <br>\n",
    "    - https://stackoverflow.com/questions/37963042/python-librosa-what-is-the-default-frame-size-used-to-compute-the-mfcc-feature <br>\n",
    "    - https://en.wikipedia.org/wiki/Mel_scale <br>\n",
    "    - https://haythamfayek.com/2016/04/21/speech-processing-for-machine-learning.html <br>\n",
    "    - https://gist.github.com/bmcfee/746e572232be36f3bd462749fb1796da <br>\n",
    "    - https://github.com/librosa/librosa <br>\n",
    "    - https://github.com/librosa/librosa/blob/main/librosa/feature/spectral.py <br>\n",
    "    - https://www.researchgate.net/publication/220723537_Finding_An_Optimal_Segmentation_for_Audio_Genre_Classification#pf2 <br>\n",
    "    - https://en.wikipedia.org/wiki/Octave_band <br>\n",
    "    - https://en.wikipedia.org/wiki/Spectral_flatness <br>\n",
    "    - https://en.wikipedia.org/wiki/Root_mean_square <br>\n",
    "    - https://github.com/scipy/scipy <br>\n",
    "    - http://practicalcryptography.com/miscellaneous/machine-learning/guide-mel-frequency-cepstral-coefficients-mfccs/"
   ]
  },
  {
   "cell_type": "code",
   "execution_count": null,
   "id": "e003ca55",
   "metadata": {},
   "outputs": [],
   "source": [
    "test_song=\"dataset/MER_audio_taffc_dataset/Q1/MT0000040632.mp3\"\n",
    "y, fs = librosa.load(test_song, sr=sr, mono = mono)"
   ]
  },
  {
   "cell_type": "code",
   "execution_count": null,
   "id": "6c97534c",
   "metadata": {},
   "outputs": [],
   "source": [
    "def hz2mel(f):\n",
    "    return 2595 * np.log10(1 + f/700)"
   ]
  },
  {
   "cell_type": "code",
   "execution_count": null,
   "id": "b2a54305",
   "metadata": {},
   "outputs": [],
   "source": [
    "def mel2hz(m):\n",
    "    return 700*(10**(m/2595) - 1)"
   ]
  },
  {
   "cell_type": "code",
   "execution_count": null,
   "id": "978b096f",
   "metadata": {},
   "outputs": [],
   "source": [
    "def get_filterbank(sr, n_fft, frame_length, n=40, fmin = 20, fmax=sr/2):\n",
    "    mel_min = hz2mel(fmin)\n",
    "    mel_max = hz2mel(fmax)\n",
    "    mel_points = np.linspace(mel_min, mel_max, n+2)\n",
    "    \n",
    "    hz_points = mel2hz(mel_points)\n",
    "    hz_bins = np.floor( (n_fft + 1)/sr * hz_points).astype(int)\n",
    "    \n",
    "    fbank = np.zeros( (n, frame_length) )\n",
    "    for m in range(1, n + 1):\n",
    "        fleft = hz_bins[m-1]\n",
    "        fcenter = hz_bins[m]\n",
    "        fright = hz_bins[m+1]\n",
    "        \n",
    "        for k in range(fleft, fcenter+1):\n",
    "            fbank[m - 1, k] = (k - hz_bins[m - 1])/(hz_bins[m] - hz_bins[m - 1])\n",
    "        for k in range(fcenter, fright+1):\n",
    "            fbank[m - 1, k] = (hz_bins[m + 1] - k )/(hz_bins[m + 1] - hz_bins[m])\n",
    "    \n",
    "    \n",
    "    return fbank"
   ]
  },
  {
   "cell_type": "code",
   "execution_count": null,
   "id": "aacdd267",
   "metadata": {},
   "outputs": [],
   "source": [
    "def mfcc(pow_spec, sr, n_fft, hop_length, mel_filter, n_mfcc = 13, lifter=0):\n",
    "    mel_spec = np.dot( mel_filter, pow_spec)\n",
    "    mel_spec = 20 * np.log10(mel_spec)\n",
    "    \n",
    "    mel_spec = np.where(mel_spec == 0, np.finfo(float).eps, mel_spec)  # Numerical Stability\n",
    "    \n",
    "    mel_spec = scf.dct(mel_spec, norm='ortho', n=n_mfcc)\n",
    "    return mel_spec"
   ]
  },
  {
   "cell_type": "code",
   "execution_count": null,
   "id": "ce80d42b",
   "metadata": {},
   "outputs": [],
   "source": [
    "def spectral_centroid(mag, freqs):\n",
    "    return np.sum(mag*freqs)/np.sum(mag)"
   ]
  },
  {
   "cell_type": "code",
   "execution_count": null,
   "id": "d45d6d89",
   "metadata": {},
   "outputs": [],
   "source": [
    "def min_max_scale(y):\n",
    "    min_v = y.min()\n",
    "    max_v = y.max()\n",
    "    return (y-min_v)/(max_v-min_v)"
   ]
  },
  {
   "cell_type": "code",
   "execution_count": null,
   "id": "1375c0a6",
   "metadata": {},
   "outputs": [],
   "source": [
    "def spectral_bandwith(centroid, S, freq, p=2):\n",
    "    #based in librosa\n",
    "    deviation = np.abs(np.subtract.outer(centroid[0], freq).T)\n",
    "    S = np.apply_along_axis(min_max_scale, 0, S)\n",
    "    return np.sum(S * deviation ** p, axis = -2, keepdims=True) ** (1.0 / p)"
   ]
  },
  {
   "cell_type": "code",
   "execution_count": null,
   "id": "637967fb",
   "metadata": {},
   "outputs": [],
   "source": [
    "def spectral_contrast(mag, sr, freq, n_bands = 6):\n",
    "    low_f = 20\n",
    "    \n",
    "    octa = np.zeros(n_bands + 2)\n",
    "    octa[1:] = low_f * (2.0 ** np.arange(0, n_bands + 1))\n",
    "    \n",
    "    peaks = np.zeros_like(mag)\n",
    "    valleys = np.zeros_like(mag) \n",
    "    \n",
    "    for i in range(len(octa) - 1):\n",
    "        index = np.where((freq > octa[i]) & (freq < octa[i+1]))[0]\n",
    "        freq_band = freq[ index ]\n",
    "        mag_band = mag[ index ] \n",
    "        #print(freq_band)\n",
    "    "
   ]
  },
  {
   "cell_type": "code",
   "execution_count": null,
   "id": "ff66e499",
   "metadata": {},
   "outputs": [],
   "source": [
    "def spectral_flateness(pow_mag):\n",
    "    numerator = np.exp( np.log(pow_mag).mean() )\n",
    "    denominator = pow_mag.mean()\n",
    "    return numerator/denominator"
   ]
  },
  {
   "cell_type": "code",
   "execution_count": null,
   "id": "c22c6acc",
   "metadata": {},
   "outputs": [],
   "source": [
    "def spectral_rollof(mag, freq, cutoff_perc):\n",
    "    cum_mag_sum = np.cumsum(mag)\n",
    "    threshold = cum_mag_sum[-1] * cutoff_perc\n",
    "    selected = np.where(cum_mag_sum < threshold)[0]\n",
    "    return freq[selected].max()"
   ]
  },
  {
   "cell_type": "code",
   "execution_count": null,
   "id": "f09eef8e",
   "metadata": {},
   "outputs": [],
   "source": [
    "def root_mean_square(power_spec):\n",
    "    power_spec[0]/=2\n",
    "    return np.sqrt( power_spec.sum()/len(power_spec)**2 )"
   ]
  },
  {
   "cell_type": "code",
   "execution_count": null,
   "id": "f3381c39",
   "metadata": {},
   "outputs": [],
   "source": [
    "def zero_crossing_rate(y):\n",
    "    pos = (y>0)\n",
    "    neg = (y<0)\n",
    "\n",
    "    down_cross = np.logical_and(pos[:-1], neg[1:]).sum()\n",
    "    up_cross = np.logical_and(neg[:-1], pos[1:]).sum()\n",
    "\n",
    "    return (down_cross + up_cross)/len(y)"
   ]
  },
  {
   "cell_type": "code",
   "execution_count": null,
   "id": "2ae7e4b1",
   "metadata": {},
   "outputs": [],
   "source": [
    "def get_time_frames(y, nperseg, noverlap):\n",
    "    step    = nperseg - noverlap\n",
    "    shape   = y.shape[:-1] + ((y.shape[-1]-noverlap) // step, nperseg)\n",
    "    strides = y.strides[:-1] + (step * y.strides[-1], y.strides[-1])\n",
    "    result  = np.lib.stride_tricks.as_strided(y, shape=shape,\n",
    "                                             strides=strides, writeable=True)\n",
    "    result  = result.swapaxes(0,1)\n",
    "    return result"
   ]
  },
  {
   "cell_type": "code",
   "execution_count": null,
   "id": "45f30eca",
   "metadata": {},
   "outputs": [],
   "source": [
    "def features(y, \n",
    "             sr=22050, \n",
    "             hop_length = 512, \n",
    "             n_mfcc = 13, \n",
    "             n_fft=2048\n",
    "):\n",
    "    f, t, mag = scsg.stft(y, fs=sr, nperseg=n_fft, noverlap=n_fft-hop_length, window=\"hann\", padded=False) \n",
    "    mag *= (n_fft/2) # ratio with librosa result is 1024\n",
    "    \n",
    "    mag = np.abs(mag)\n",
    "    power = mag**2\n",
    "    \n",
    "    #TODO Refazer calculo de mfcc\n",
    "    mel_filter = get_filterbank(sr, n_fft, len(f), n=128)\n",
    "    mfccs = np.apply_along_axis( mfcc, 0, power, sr, n_fft, hop_length, mel_filter)\n",
    "    \n",
    "    spec_centroid = np.apply_along_axis(spectral_centroid, 0, mag, f).reshape(1,mag.shape[1]) \n",
    "    \n",
    "    #valores não são iguas, possivelmente devido à normalização\n",
    "    spec_bdwidth = spectral_bandwith(spec_centroid, mag, f)\n",
    "    \n",
    "    #TODO LATER(nao e preciso)\n",
    "    #spec_cont = np.apply_along_axis(spectral_contrast, 0 , y , sr, f)\n",
    "    spec_flat=np.apply_along_axis(spectral_flateness, 0, power).reshape(1,mag.shape[1]) \n",
    "    \n",
    "    spec_rollof = np.apply_along_axis(spectral_rollof, 0, mag, f, 0.85).reshape(1,mag.shape[1]) \n",
    "    \n",
    "    rms = np.apply_along_axis(root_mean_square, 0, power).reshape(1,mag.shape[1])\n",
    "    \n",
    "    time_frames = get_time_frames(y, n_fft, n_fft - hop_length)\n",
    "    zcr = np.apply_along_axis(zero_crossing_rate, 0, time_frames).reshape(1,1291) \n",
    "\n",
    "    return (mfccs,\n",
    "            spec_centroid, \n",
    "            spec_bdwidth, \n",
    "            spec_flat, \n",
    "            spec_rollof, \n",
    "            rms,\n",
    "            zcr\n",
    "           )\n",
    "\n",
    "mfccs, cent, bdwd, flat, roll, rms, zcr=features(y)"
   ]
  },
  {
   "cell_type": "code",
   "execution_count": null,
   "id": "0fa6b1ed",
   "metadata": {},
   "outputs": [],
   "source": [
    "print(\n",
    "    mfccs.shape,\n",
    "    cent.shape,\n",
    "    bdwd.shape,\n",
    "    flat.shape,\n",
    "    roll.shape,\n",
    "    rms.shape,\n",
    "    zcr.shape,  \n",
    "    sep=\"\\n\"\n",
    ")"
   ]
  },
  {
   "cell_type": "code",
   "execution_count": null,
   "id": "d811d96d",
   "metadata": {},
   "outputs": [],
   "source": [
    "mfccs[0]"
   ]
  },
  {
   "cell_type": "code",
   "execution_count": null,
   "id": "b58ff3f1",
   "metadata": {},
   "outputs": [],
   "source": [
    "librosa.feature.mfcc(y, n_mfcc=13, lifter=0)[0].std()"
   ]
  },
  {
   "cell_type": "code",
   "execution_count": null,
   "id": "01b8b088",
   "metadata": {},
   "outputs": [],
   "source": [
    "librosa.feature.mfcc(y)[0]/mfccs[0]"
   ]
  },
  {
   "cell_type": "code",
   "execution_count": null,
   "id": "d8a51f36",
   "metadata": {},
   "outputs": [],
   "source": [
    "plt.plot(mfccs[0])"
   ]
  },
  {
   "cell_type": "code",
   "execution_count": null,
   "id": "2c322910",
   "metadata": {},
   "outputs": [],
   "source": [
    "plt.plot(librosa.feature.mfcc(y, n_mfcc=13)[0])"
   ]
  },
  {
   "cell_type": "code",
   "execution_count": null,
   "id": "599971d4",
   "metadata": {},
   "outputs": [],
   "source": [
    "get_time_frames(y, 2048, 2048-512).shape"
   ]
  },
  {
   "cell_type": "code",
   "execution_count": null,
   "id": "8787ce0f",
   "metadata": {},
   "outputs": [],
   "source": [
    "librosa.filters.mel(sr=sr, n_fft=2048).max()"
   ]
  },
  {
   "cell_type": "code",
   "execution_count": null,
   "id": "c0d9d4c6",
   "metadata": {},
   "outputs": [],
   "source": [
    "get_filterbank(sr=sr, n_fft=2048, frame_length=1025, n=128).max()"
   ]
  },
  {
   "cell_type": "code",
   "execution_count": null,
   "id": "75142fc8",
   "metadata": {},
   "outputs": [],
   "source": [
    "plt.plot()"
   ]
  }
 ],
 "metadata": {
  "kernelspec": {
   "display_name": "Python 3 (ipykernel)",
   "language": "python",
   "name": "python3"
  },
  "language_info": {
   "codemirror_mode": {
    "name": "ipython",
    "version": 3
   },
   "file_extension": ".py",
   "mimetype": "text/x-python",
   "name": "python",
   "nbconvert_exporter": "python",
   "pygments_lexer": "ipython3",
   "version": "3.9.7"
  }
 },
 "nbformat": 4,
 "nbformat_minor": 5
}
