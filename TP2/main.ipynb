{
 "cells": [
  {
   "cell_type": "code",
   "execution_count": null,
   "id": "94cfed9c",
   "metadata": {},
   "outputs": [],
   "source": [
    "import librosa #https://librosa.org/\n",
    "import librosa.display\n",
    "import librosa.beat\n",
    "import sounddevice as sd  #https://anaconda.org/conda-forge/python-sounddevice\n",
    "import warnings\n",
    "import numpy as np\n",
    "import pandas as pd\n",
    "import matplotlib.pyplot as plt\n",
    "import os\n",
    "import scipy.stats as scs\n",
    "import scipy.fft as scf\n",
    "import scipy.signal as scsg\n",
    "from sys import getsizeof as sizeof\n",
    "from scipy.spatial.distance import  euclidean, cosine, cityblock\n",
    "from pprint import pprint\n",
    "\n",
    "sr = 22050\n",
    "mono = True\n",
    "warnings.filterwarnings(\"ignore\")"
   ]
  },
  {
   "cell_type": "markdown",
   "id": "a4b67ce9",
   "metadata": {},
   "source": [
    "## Semana 2\n",
    "### *Exercicio 2.1*"
   ]
  },
  {
   "cell_type": "code",
   "execution_count": null,
   "id": "257180ea",
   "metadata": {},
   "outputs": [],
   "source": [
    "feat = pd.read_csv(\"dataset/Features - Audio MER/top100_features.csv\", index_col=0)"
   ]
  },
  {
   "cell_type": "code",
   "execution_count": null,
   "id": "4a998f81",
   "metadata": {},
   "outputs": [],
   "source": [
    "def min_max_scale(y):\n",
    "    min_v = y.min()\n",
    "    max_v = y.max()\n",
    "    \n",
    "    up = (y - min_v)\n",
    "    down = (max_v - min_v)\n",
    "    return  up/down if down!=0 else 0 "
   ]
  },
  {
   "cell_type": "code",
   "execution_count": null,
   "id": "b9fdfe1d",
   "metadata": {},
   "outputs": [],
   "source": [
    "def standardization(y):\n",
    "    return (y - y.mean())/y.std()"
   ]
  },
  {
   "cell_type": "code",
   "execution_count": null,
   "id": "92d3b8a0",
   "metadata": {},
   "outputs": [],
   "source": [
    "feat = feat.drop(columns=[\"Quadrant\"])"
   ]
  },
  {
   "cell_type": "code",
   "execution_count": null,
   "id": "a136a3e9",
   "metadata": {},
   "outputs": [],
   "source": [
    "feat = feat.apply(lambda col: min_max_scale(col), axis = 0)"
   ]
  },
  {
   "cell_type": "code",
   "execution_count": null,
   "id": "693470f5",
   "metadata": {},
   "outputs": [],
   "source": [
    "feat = feat.to_numpy()"
   ]
  },
  {
   "cell_type": "code",
   "execution_count": null,
   "id": "11267864",
   "metadata": {},
   "outputs": [],
   "source": [
    "np.savetxt(\"dataset/Features - Audio MER/top100_features_normalized.csv\", feat)"
   ]
  },
  {
   "cell_type": "markdown",
   "id": "8a5b23fc",
   "metadata": {},
   "source": [
    "### *Exercicio 2.2*"
   ]
  },
  {
   "cell_type": "code",
   "execution_count": null,
   "id": "810ec990",
   "metadata": {},
   "outputs": [],
   "source": [
    "m1 = os.listdir(path)[0]\n",
    "m1"
   ]
  },
  {
   "cell_type": "code",
   "execution_count": null,
   "id": "4aa87f09",
   "metadata": {},
   "outputs": [],
   "source": [
    "y,fs = librosa.load(\"dataset/MER_audio_taffc_dataset/Q1/MT0000040632.mp3\", sr=sr, mono = mono)"
   ]
  },
  {
   "cell_type": "code",
   "execution_count": null,
   "id": "34e6696e",
   "metadata": {},
   "outputs": [],
   "source": [
    "mfcc = np.apply_along_axis(extract_features, 1, librosa.feature.mfcc(y=y, n_mfcc=13)).flatten()\n",
    "spc_centroid= np.apply_along_axis(extract_features, 1, librosa.feature.spectral_centroid(y=y)).flatten()\n",
    "spc_bdwth = np.apply_along_axis(extract_features, 1, librosa.feature.spectral_bandwidth(y=y)).flatten()\n",
    "spc_contrast = np.apply_along_axis(extract_features, 1, librosa.feature.spectral_contrast(y=y)).flatten()\n",
    "spc_flatness = np.apply_along_axis(extract_features, 1, librosa.feature.spectral_flatness(y=y)).flatten()\n",
    "spc_rollof = np.apply_along_axis(extract_features, 1, librosa.feature.spectral_rolloff(y=y)).flatten()\n",
    "f0 = np.apply_along_axis(extract_features, 0, librosa.yin(y, 20, 11025))\n",
    "f0[f0==11025] = 0;\n",
    "rms = np.apply_along_axis(extract_features, 1, librosa.feature.rms(y=y)).flatten()\n",
    "zcr = np.apply_along_axis(extract_features, 1, librosa.feature.zero_crossing_rate(y=y)).flatten()\n",
    "tempo = librosa.beat.tempo(y=y)\n",
    "\n",
    "print(\n",
    "    f\"\"\"\n",
    "    mfcc = {mfcc.shape}\n",
    "    centroid = {spc_centroid.shape}\n",
    "    bdwth = {spc_bdwth.shape}\n",
    "    contrast = {spc_contrast.shape}\n",
    "    flatness = {spc_flatness.shape}\n",
    "    rollof = {spc_rollof.shape}\n",
    "    f0 = {f0.shape}\n",
    "    rms = {rms.shape}\n",
    "    zcr = {zcr.shape}\n",
    "    tempo = {tempo}\n",
    "    \"\"\"\n",
    ")"
   ]
  },
  {
   "cell_type": "code",
   "execution_count": null,
   "id": "e4c01573",
   "metadata": {},
   "outputs": [],
   "source": [
    "feature_vector = np.concatenate((mfcc,spc_centroid, spc_bdwth, spc_contrast, spc_flatness, spc_rollof,\n",
    "                                    f0, rms, zcr, tempo))"
   ]
  },
  {
   "cell_type": "code",
   "execution_count": null,
   "id": "f82e863a",
   "metadata": {},
   "outputs": [],
   "source": [
    "feature_vector.shape"
   ]
  },
  {
   "cell_type": "code",
   "execution_count": null,
   "id": "38c04379",
   "metadata": {},
   "outputs": [],
   "source": [
    "def extract_features(signal : np.array):\n",
    "    mean = signal.mean()\n",
    "    stdDev = signal.std()\n",
    "    skewness = scs.skew(signal)\n",
    "    kurtosis = scs.kurtosis(signal)\n",
    "    median = np.median(signal)\n",
    "    max_value = signal.max()\n",
    "    min_value = signal.min()\n",
    "    return (mean, stdDev, skewness, kurtosis, median, max_value, min_value)"
   ]
  },
  {
   "cell_type": "code",
   "execution_count": null,
   "id": "9c465689",
   "metadata": {},
   "outputs": [],
   "source": [
    "path = \"dataset/MER_audio_taffc_dataset/Q\"\n",
    "#910x190\n",
    "feature_matrix = np.zeros((900, 190))\n",
    "index=0\n",
    "for audio in sorted(os.listdir(path)):\n",
    "    print(index)\n",
    "    y, fs = librosa.load(f\"{path}/{audio}\", sr=sr, mono = mono)\n",
    "    #Spectral features extraction\n",
    "    mfcc = np.apply_along_axis(extract_features, 1, librosa.feature.mfcc(y=y, n_mfcc=13)).flatten()\n",
    "    spc_centroid= np.apply_along_axis(extract_features, 1, librosa.feature.spectral_centroid(y=y)).flatten()\n",
    "    spc_bdwth = np.apply_along_axis(extract_features, 1, librosa.feature.spectral_bandwidth(y=y)).flatten()\n",
    "    spc_contrast = np.apply_along_axis(extract_features, 1, librosa.feature.spectral_contrast(y=y)).flatten()\n",
    "    spc_flatness = np.apply_along_axis(extract_features, 1, librosa.feature.spectral_flatness(y=y)).flatten()\n",
    "    spc_rollof = np.apply_along_axis(extract_features, 1, librosa.feature.spectral_rolloff(y=y)).flatten()\n",
    "    f0 = librosa.yin(y, 20, 11025)\n",
    "    f0[f0==11025] = 0\n",
    "    f0 = np.apply_along_axis(extract_features, 0, f0)\n",
    "    rms = np.apply_along_axis(extract_features, 1, librosa.feature.rms(y=y)).flatten()\n",
    "    zcr = np.apply_along_axis(extract_features, 1, librosa.feature.zero_crossing_rate(y=y)).flatten()\n",
    "    tempo = librosa.beat.tempo(y=y)\n",
    "\n",
    "    feature_vector = np.concatenate((mfcc,spc_centroid, spc_bdwth, spc_contrast, spc_flatness, spc_rollof,\n",
    "                                    f0, rms, zcr, tempo))\n",
    "\n",
    "    feature_matrix[index]=feature_vector;\n",
    "    index+=1;\n",
    "\n",
    "#np.apply_along_axis(librosa.util.normalize, 1, feature_matrix)\n",
    "#feature_matrix.tofile(\"exercise2_features.csv\", sep = \";\")\n",
    "#del feature_matrix"
   ]
  },
  {
   "cell_type": "code",
   "execution_count": null,
   "id": "c22f2a9d",
   "metadata": {},
   "outputs": [],
   "source": [
    "np.savetxt(\"dataset/Features - Audio MER/extracted_features.csv\", feature_matrix)"
   ]
  },
  {
   "cell_type": "code",
   "execution_count": null,
   "id": "48f6f312",
   "metadata": {},
   "outputs": [],
   "source": [
    "feature_matrix.shape"
   ]
  },
  {
   "cell_type": "code",
   "execution_count": null,
   "id": "d6f2d735",
   "metadata": {},
   "outputs": [],
   "source": [
    "feat_matrix_norm = np.apply_along_axis(min_max_scale, 0, feature_matrix)"
   ]
  },
  {
   "cell_type": "code",
   "execution_count": null,
   "id": "38353502",
   "metadata": {},
   "outputs": [],
   "source": [
    "np.savetxt(\"dataset/Features - Audio MER/extracted_features_normalized.csv\", feat_matrix_norm)"
   ]
  },
  {
   "cell_type": "markdown",
   "id": "d4d8265a",
   "metadata": {},
   "source": [
    "### *Exercicio 2.3*\n",
    "> Referências: <br>\n",
    "    - https://stackoverflow.com/questions/37963042/python-librosa-what-is-the-default-frame-size-used-to-compute-the-mfcc-feature <br>\n",
    "    - https://en.wikipedia.org/wiki/Mel_scale <br>\n",
    "    - https://haythamfayek.com/2016/04/21/speech-processing-for-machine-learning.html <br>\n",
    "    - https://gist.github.com/bmcfee/746e572232be36f3bd462749fb1796da <br>\n",
    "    - https://github.com/librosa/librosa <br>\n",
    "    - https://github.com/librosa/librosa/blob/main/librosa/feature/spectral.py <br>\n",
    "    - https://www.researchgate.net/publication/220723537_Finding_An_Optimal_Segmentation_for_Audio_Genre_Classification#pf2 <br>\n",
    "    - https://en.wikipedia.org/wiki/Octave_band <br>\n",
    "    - https://en.wikipedia.org/wiki/Spectral_flatness <br>\n",
    "    - https://en.wikipedia.org/wiki/Root_mean_square <br>\n",
    "    - https://github.com/scipy/scipy <br>\n",
    "    - http://practicalcryptography.com/miscellaneous/machine-learning/guide-mel-frequency-cepstral-coefficients-mfccs/"
   ]
  },
  {
   "cell_type": "code",
   "execution_count": null,
   "id": "3f2de7d6",
   "metadata": {},
   "outputs": [],
   "source": [
    "y,fs = librosa.load(\"dataset/MER_audio_taffc_dataset/Q1/MT0000040632.mp3\", sr=sr, mono = mono)"
   ]
  },
  {
   "cell_type": "code",
   "execution_count": null,
   "id": "53a465a8",
   "metadata": {},
   "outputs": [],
   "source": [
    "def hz2mel(f):\n",
    "    return 2595 * np.log10(1 + f / 700)"
   ]
  },
  {
   "cell_type": "code",
   "execution_count": null,
   "id": "4872fcf9",
   "metadata": {},
   "outputs": [],
   "source": [
    "def mel2hz(m):\n",
    "    return 700 * (10 ** (m / 2595) - 1)"
   ]
  },
  {
   "cell_type": "code",
   "execution_count": null,
   "id": "c9c20dbe",
   "metadata": {},
   "outputs": [],
   "source": [
    "def get_time_frames(y, nperseg, noverlap):\n",
    "    #from numpy/librosa\n",
    "    step = nperseg - noverlap\n",
    "    shape = y.shape[:-1] + ((y.shape[-1] - noverlap) // step, nperseg)\n",
    "    strides = y.strides[:-1] + (step * y.strides[-1], y.strides[-1])\n",
    "    result = np.lib.stride_tricks.as_strided(\n",
    "        y, shape=shape, strides=strides, writeable=True\n",
    "    )\n",
    "    result = result.swapaxes(0, 1)\n",
    "    return result"
   ]
  },
  {
   "cell_type": "code",
   "execution_count": null,
   "id": "c92c04a3",
   "metadata": {},
   "outputs": [],
   "source": [
    "def mel_filterbank(sr, n_fft, frame_length, n=40, fmin=20, fmax=None):\n",
    "    if fmax == None:\n",
    "        fmax = sr/2\n",
    "    min_mel, max_mel = hz2mel(fmin), hz2mel(fmax)\n",
    "    \n",
    "    mel_freq = mel2hz(np.linspace(min_mel, max_mel, n+2))\n",
    "    bins = np.floor((n_fft + 1) / sr * mel_freq).astype(int)\n",
    "    \n",
    "    filterbank = np.zeros((n, frame_length))\n",
    "    \n",
    "    for i in range(1, n+1):\n",
    "        left_pos = bins[i-1]\n",
    "        center_pos = bins[i]\n",
    "        right_pos = bins[i+1]\n",
    "        \n",
    "        up = np.linspace(0, 1, center_pos - left_pos + 1)\n",
    "        down = np.linspace(1, 0, right_pos - center_pos + 1)\n",
    "        \n",
    "        filterbank[i-1, left_pos:(center_pos+1)] = up\n",
    "        filterbank[i-1, center_pos:(right_pos+1)] = down\n",
    "        \n",
    "    return filterbank"
   ]
  },
  {
   "cell_type": "code",
   "execution_count": null,
   "id": "ac6ddec4",
   "metadata": {},
   "outputs": [],
   "source": [
    "def mfcc(mag, mel_filter, n=13):\n",
    "    filter_coef = (mel_filter * mag).sum(axis = 1)\n",
    "    filter_coef[filter_coef == 0] = 1\n",
    "    logged_coefs = 20*np.log10(filter_coef)\n",
    "    ceps_coefs = scf.dct(logged_coefs)\n",
    "    return ceps_coefs[:n]"
   ]
  },
  {
   "cell_type": "code",
   "execution_count": null,
   "id": "de148412",
   "metadata": {},
   "outputs": [],
   "source": [
    "def spectral_centroid(mag, freqs, smart=True):\n",
    "    min_value = 1e-40\n",
    "    if smart:\n",
    "        #remove zeros\n",
    "        mag = np.maximum(min_value, mag)\n",
    "        \n",
    "    div = np.sum(mag)\n",
    "    return np.sum(mag * freqs) / div if div != 0 else 0"
   ]
  },
  {
   "cell_type": "code",
   "execution_count": null,
   "id": "d5667bf1",
   "metadata": {},
   "outputs": [],
   "source": [
    "def spectral_bandwith(mag, freq, p=2):\n",
    "    centroid = spectral_centroid(mag, freq)\n",
    "    return np.sum( mag * (freq - centroid)**p ) ** (1/p)"
   ]
  },
  {
   "cell_type": "code",
   "execution_count": null,
   "id": "943c1e5c",
   "metadata": {},
   "outputs": [],
   "source": [
    "def spectral_flatness(mag, smart=True):\n",
    "    power_spec=mag**2\n",
    "    min_value = 1e-20\n",
    "    if smart:\n",
    "        #to remove zeros\n",
    "        power_spec = np.maximum(min_value, power_spec)\n",
    "    div = power_spec.mean()\n",
    "    return scs.gmean(power_spec) / div if div!=0 else 0"
   ]
  },
  {
   "cell_type": "code",
   "execution_count": null,
   "id": "c6cee8ae",
   "metadata": {},
   "outputs": [],
   "source": [
    "def spectral_rollof(mag, freq, perc=0.85):\n",
    "    cumulative_sum = np.cumsum(mag)\n",
    "    threshold = 0.85 * cumulative_sum[-1]\n",
    "    index = len(cumulative_sum[cumulative_sum < threshold])\n",
    "    return freq[index]"
   ]
  },
  {
   "cell_type": "code",
   "execution_count": null,
   "id": "8bae3206",
   "metadata": {},
   "outputs": [],
   "source": [
    "def root_mean_square(y):\n",
    "    return np.sqrt((y**2).mean())"
   ]
  },
  {
   "cell_type": "code",
   "execution_count": null,
   "id": "3dc6c2e5",
   "metadata": {},
   "outputs": [],
   "source": [
    "def zero_crossing_rate(y):\n",
    "    y[y<0] = -1\n",
    "    y[y>=0] = 1\n",
    "    return np.mean(np.abs(y[1:] - y[:-1]))/2"
   ]
  },
  {
   "cell_type": "code",
   "execution_count": null,
   "id": "d2587139",
   "metadata": {},
   "outputs": [],
   "source": [
    "def features(y, sr=22050, hop_length=512, n_mfcc=13, n_fft=2048):\n",
    "    f, t, spec = scsg.stft( y, sr, nperseg=n_fft, noverlap=n_fft - hop_length, window=\"hann\", padded=False )\n",
    "    time_frames = get_time_frames(y, n_fft, n_fft - hop_length)\n",
    "    spec *= n_fft / 2  \n",
    "    mag = np.abs(spec)\n",
    "    \n",
    "    mel_filter = mel_filterbank(sr=sr, n_fft=n_fft, frame_length=len(f))\n",
    "    \n",
    "    mfccs = np.apply_along_axis(mfcc, 0, mag, mel_filter).reshape(13, spec.shape[-1])\n",
    "    centroid = np.apply_along_axis(spectral_centroid, 0, mag, f).reshape(1, spec.shape[-1])\n",
    "    bandwith = np.apply_along_axis(spectral_bandwith, 0, mag, f).reshape(1, spec.shape[-1])\n",
    "    flatness = np.apply_along_axis(spectral_flatness, 0, mag).reshape(1, spec.shape[-1])\n",
    "    rollof = np.apply_along_axis(spectral_rollof, 0, mag, f).reshape(1, spec.shape[-1])\n",
    "    \n",
    "    rms = np.apply_along_axis(root_mean_square, 0, time_frames).reshape(1, time_frames.shape[-1])\n",
    "    zcr = np.apply_along_axis(zero_crossing_rate, 0, time_frames).reshape(1, time_frames.shape[-1])\n",
    "    return (mfccs,\n",
    "            centroid, \n",
    "            bandwith, \n",
    "            flatness,\n",
    "            rollof, \n",
    "            rms, \n",
    "            zcr)"
   ]
  },
  {
   "cell_type": "code",
   "execution_count": null,
   "id": "a5257626",
   "metadata": {},
   "outputs": [],
   "source": [
    "songs = sorted(os.listdir(\"dataset/MER_audio_taffc_dataset/Q\"))\n",
    "\n",
    "k=20\n",
    "y,fs = librosa.load(f\"dataset/MER_audio_taffc_dataset/Q/{songs[k]}\", sr=sr, mono = mono)\n",
    "\n",
    "(mfccs,\n",
    " centroid, \n",
    " bandwith,\n",
    " flatness,\n",
    " rollof,\n",
    " rms, \n",
    " zcr) = features(y.copy())\n",
    "\n",
    "print(#np.any((\n",
    "     mfccs,\n",
    "     centroid,\n",
    "     bandwith,\n",
    "     flatness,\n",
    "     np.any(np.isnan(rollof)),\n",
    "     np.any(np.isnan(rms)),\n",
    "     np.any(np.isnan(zcr)),\n",
    "    #)),\n",
    "     sep =\"\\n\",\n",
    "     end=\"\\n\\n\")\n",
    "\n",
    "mfccs = np.apply_along_axis(extract_features, 1, mfccs).flatten()\n",
    "centroid= np.apply_along_axis(extract_features, 1, centroid).flatten()\n",
    "bandwith = np.apply_along_axis(extract_features, 1, bandwith).flatten()\n",
    "flatness = np.apply_along_axis(extract_features, 1, flatness).flatten()\n",
    "rollof = np.apply_along_axis(extract_features, 1, rollof).flatten()\n",
    "rms = np.apply_along_axis(extract_features, 1, rms).flatten()\n",
    "zcr = np.apply_along_axis(extract_features, 1, zcr).flatten()\n",
    "\n",
    "print(#np.any((\n",
    "     np.any(mfccs),\n",
    "     centroid,\n",
    "     bandwith,\n",
    "     flatness,\n",
    "     np.any(np.isnan(rollof)),\n",
    "     np.any(np.isnan(rms)),\n",
    "     np.any(np.isnan(zcr)),\n",
    "    #)),\n",
    "     sep =\"\\n\",\n",
    "     end=\"\\n\\n\")"
   ]
  },
  {
   "cell_type": "code",
   "execution_count": null,
   "id": "06382517",
   "metadata": {},
   "outputs": [],
   "source": [
    "path = \"dataset/MER_audio_taffc_dataset/Q\"\n",
    "#900x190\n",
    "feature_matrix2 = np.zeros((900, 133))\n",
    "index=0\n",
    "for audio in sorted(os.listdir(path)):\n",
    "    print(index)\n",
    "    y, fs = librosa.load(f\"{path}/{audio}\", sr=sr, mono = mono)\n",
    "    \n",
    "    (mfccs,\n",
    "     centroid, \n",
    "     bandwith,\n",
    "     flatness,\n",
    "     rollof,\n",
    "     rms, \n",
    "     zcr) = features(y.copy())\n",
    "    \n",
    "    #Spectral features extraction\n",
    "    mfccs = np.apply_along_axis(extract_features, 1, mfccs).flatten()\n",
    "    centroid= np.apply_along_axis(extract_features, 1, centroid).flatten()\n",
    "    bandwith = np.apply_along_axis(extract_features, 1, bandwith).flatten()\n",
    "    flatness = np.apply_along_axis(extract_features, 1, flatness).flatten()\n",
    "    rollof = np.apply_along_axis(extract_features, 1, rollof).flatten()\n",
    "    rms = np.apply_along_axis(extract_features, 1, rms).flatten()\n",
    "    zcr = np.apply_along_axis(extract_features, 1, zcr).flatten()\n",
    "\n",
    "    feature_vector = np.concatenate((mfccs, centroid, bandwith, flatness, rollof, rms, zcr))\n",
    "\n",
    "    feature_matrix2[index]=feature_vector;\n",
    "    index+=1;"
   ]
  },
  {
   "cell_type": "code",
   "execution_count": null,
   "id": "a9d368bc",
   "metadata": {},
   "outputs": [],
   "source": [
    "np.savetxt(\"dataset/Features - Audio MER/manual_extracted_features.csv\", feature_matrix2)"
   ]
  },
  {
   "cell_type": "code",
   "execution_count": null,
   "id": "ac3f49a3",
   "metadata": {},
   "outputs": [],
   "source": [
    "feat_matrix_norm2 = np.apply_along_axis(min_max_scale, 0, feature_matrix2)"
   ]
  },
  {
   "cell_type": "code",
   "execution_count": null,
   "id": "c1fa85f1",
   "metadata": {},
   "outputs": [],
   "source": [
    "np.savetxt(\"dataset/Features - Audio MER/manual_extracted_features_normalized.csv\", feat_matrix_norm2)"
   ]
  },
  {
   "cell_type": "markdown",
   "id": "dd9d9106",
   "metadata": {},
   "source": [
    "## Semana 3\n",
    "### Exercicio 3.2"
   ]
  },
  {
   "cell_type": "code",
   "execution_count": null,
   "id": "d7b91743",
   "metadata": {},
   "outputs": [],
   "source": [
    "def dist(v1, v2, dist_type):\n",
    "    if dist_type == \"e\":\n",
    "        return euclidean(v1, v2)\n",
    "    elif dist_type == \"m\":\n",
    "        return cityblock(v1, v2)\n",
    "    elif dist_type == \"c\":\n",
    "        return cosine(v1, v2)\n",
    "    else:\n",
    "        raise Exception"
   ]
  },
  {
   "cell_type": "markdown",
   "id": "a00f3ea0",
   "metadata": {},
   "source": [
    "### *Exercicio 3.2*"
   ]
  },
  {
   "cell_type": "code",
   "execution_count": null,
   "id": "6ec63191",
   "metadata": {},
   "outputs": [],
   "source": [
    "for dist_type in (\"e\", \"m\", \"c\"):\n",
    "    similarity_matrix = np.zeros((900,900))\n",
    "    for i in range(900):\n",
    "        for j in range(900):\n",
    "            d = dist(feat_matrix_norm[i, :], feat_matrix_norm[j, :], dist_type)\n",
    "            similarity_matrix[i,j] = d\n",
    "    print(dist_type, \"done\")\n",
    "    np.savetxt(f\"dataset/SimilarityMatrix/d{dist_type}.csv\", similarity_matrix, fmt=\"%f\")"
   ]
  },
  {
   "cell_type": "code",
   "execution_count": null,
   "id": "41f30ad4",
   "metadata": {},
   "outputs": [],
   "source": [
    "for dist_type in (\"e\", \"m\", \"c\"):\n",
    "    similarity_matrix = np.zeros((900,900))\n",
    "    for i in range(900):\n",
    "        for j in range(900):\n",
    "            d = dist(feat[i, :], feat[j, :], dist_type)\n",
    "            similarity_matrix[i,j] = d\n",
    "    print(dist_type, \"done\")\n",
    "    np.savetxt(f\"dataset/SimilarityMatrix/top100{dist_type}.csv\", similarity_matrix, fmt=\"%f\")"
   ]
  },
  {
   "cell_type": "code",
   "execution_count": null,
   "id": "6c7a3104",
   "metadata": {},
   "outputs": [],
   "source": [
    "for dist_type in (\"e\", \"m\", \"c\"):\n",
    "    similarity_matrix = np.zeros((900,900))\n",
    "    for i in range(900):\n",
    "        for j in range(900):\n",
    "            d = dist(feat_matrix_norm2[i, :], feat_matrix_norm2[j, :], dist_type)\n",
    "            similarity_matrix[i,j] = d\n",
    "    print(dist_type, \"done\")\n",
    "    np.savetxt(f\"dataset/SimilarityMatrix/m{dist_type}.csv\", similarity_matrix, fmt=\"%f\")"
   ]
  },
  {
   "cell_type": "markdown",
   "id": "fda763ca",
   "metadata": {},
   "source": [
    "### *Exercicio 3.3*"
   ]
  },
  {
   "cell_type": "code",
   "execution_count": null,
   "id": "f001cfc2",
   "metadata": {},
   "outputs": [],
   "source": [
    "def get_song_index(song_name):\n",
    "    songs = os.listdir(\"dataset/MER_audio_taffc_dataset/Q\")\n",
    "    songs.sort()\n",
    "    return np.where(np.array(songs)==song_name)[0][0]"
   ]
  },
  {
   "cell_type": "code",
   "execution_count": null,
   "id": "9056e06d",
   "metadata": {},
   "outputs": [],
   "source": [
    "def get_song_name(song_index):\n",
    "    songs = os.listdir(\"dataset/MER_audio_taffc_dataset/Q\")\n",
    "    songs.sort()\n",
    "    return songs[song_index]"
   ]
  },
  {
   "cell_type": "code",
   "execution_count": null,
   "id": "ac7a775e",
   "metadata": {},
   "outputs": [],
   "source": [
    "for song in os.listdir(\"Queries/\"):\n",
    "    i = get_song_index(song)\n",
    "    for dist_type in (\"e\", \"m\", \"c\"):\n",
    "        song_row = np.loadtxt(f\"dataset/SimilarityMatrix/d{dist_type}.csv\")[i]\n",
    "        sorted_indexes = np.argsort(song_row)[1:21]\n",
    "        top_songs_names = list(map(lambda song_index: get_song_name(song_index), sorted_indexes))\n",
    "        os.makedirs(f\"dataset/Rankings/{song}\", exist_ok=True)\n",
    "        np.savetxt(f\"dataset/Rankings/{song}/d{dist_type}.csv\", top_songs_names, fmt=\"%s\")"
   ]
  },
  {
   "cell_type": "code",
   "execution_count": null,
   "id": "92d6a5ba",
   "metadata": {},
   "outputs": [],
   "source": [
    "for song in os.listdir(\"Queries/\"):\n",
    "    i = get_song_index(song)\n",
    "    for dist_type in (\"e\", \"m\", \"c\"):\n",
    "        song_row = np.loadtxt(f\"dataset/SimilarityMatrix/top100{dist_type}.csv\")[i]\n",
    "        sorted_indexes = np.argsort(song_row)[1:21]\n",
    "        top_songs_names = list(map(lambda song_index: get_song_name(song_index), sorted_indexes))\n",
    "        os.makedirs(f\"dataset/Rankings/{song}\", exist_ok=True)\n",
    "        np.savetxt(f\"dataset/Rankings/{song}/top100{dist_type}.csv\", top_songs_names, fmt=\"%s\")"
   ]
  },
  {
   "cell_type": "code",
   "execution_count": null,
   "id": "f362049e",
   "metadata": {},
   "outputs": [],
   "source": [
    "for song in os.listdir(\"Queries/\"):\n",
    "    i = get_song_index(song)\n",
    "    for dist_type in (\"e\", \"m\", \"c\"):\n",
    "        song_row = np.loadtxt(f\"dataset/SimilarityMatrix/m{dist_type}.csv\")[i]\n",
    "        sorted_indexes = np.argsort(song_row)[1:21]\n",
    "        top_songs_names = list(map(lambda song_index: get_song_name(song_index), sorted_indexes))\n",
    "        os.makedirs(f\"dataset/Rankings/{song}\", exist_ok=True)\n",
    "        np.savetxt(f\"dataset/Rankings/{song}/m{dist_type}.csv\", top_songs_names, fmt=\"%s\")"
   ]
  },
  {
   "cell_type": "markdown",
   "id": "89b252df",
   "metadata": {},
   "source": [
    "## Semana 4\n"
   ]
  },
  {
   "cell_type": "markdown",
   "id": "e4f22958",
   "metadata": {},
   "source": [
    "### *Exercicio 4.2.2*"
   ]
  },
  {
   "cell_type": "code",
   "execution_count": null,
   "id": "7892c268",
   "metadata": {},
   "outputs": [],
   "source": [
    "def get_match_counts(data, index1, index2):\n",
    "    song1 = data.loc[index1]\n",
    "    song2 = data.loc[index2]\n",
    "    \n",
    "    points = 0\n",
    "    for metric in data.columns:\n",
    "        try:\n",
    "            v1 = np.array(list(map(lambda string: string.strip(), song1[metric].split(\";\"))))\n",
    "            v2 = np.array(list(map(lambda string: string.strip(), song2[metric].split(\";\"))))\n",
    "            matches = np.intersect1d(v1, v2, assume_unique=True)\n",
    "            points += len(matches)\n",
    "        except:\n",
    "            points+=0\n",
    "    return points"
   ]
  },
  {
   "cell_type": "code",
   "execution_count": null,
   "id": "8e571239",
   "metadata": {},
   "outputs": [],
   "source": [
    "cols = [\"Artist\", \"GenresStr\", \"Quadrant\", \"MoodsFoundStr\"]\n",
    "metadata = pd.read_csv(\"dataset/MER_audio_taffc_dataset/panda_dataset_taffc_metadata.csv\", index_col=0)[cols]"
   ]
  },
  {
   "cell_type": "code",
   "execution_count": null,
   "id": "8575ce7d",
   "metadata": {},
   "outputs": [],
   "source": [
    "similarity_matrix = np.zeros((900,900))\n",
    "for song_1 in metadata.index:\n",
    "    i = get_song_index(song_1 + \".mp3\")\n",
    "    for song_2 in metadata.index:\n",
    "        sim_count = get_match_counts(metadata, song_1, song_2)\n",
    "        j = get_song_index(song_2 + \".mp3\")\n",
    "        similarity_matrix[i,j] = sim_count\n",
    "    print(i)\n",
    "\n",
    "np.savetxt(f\"dataset/SimilarityMatrix/metadata_sim.csv\", similarity_matrix, fmt=\"%d\")"
   ]
  },
  {
   "cell_type": "code",
   "execution_count": null,
   "id": "389154ce",
   "metadata": {},
   "outputs": [],
   "source": [
    "for querie in os.listdir(\"dataset/Rankings/\"):\n",
    "    if \"mp3\" in querie:\n",
    "        i = get_song_index(querie)\n",
    "        relevant = (np.argsort(similarity_matrix[i])[::-1])[:20]\n",
    "        relevant = relevant[relevant!=i]\n",
    "        relevant = list(map(lambda song: get_song_name(song), relevant))\n",
    "        \n",
    "        #pprint(relevant)\n",
    "        print(f\"Music: {querie}\")\n",
    "        for rank in os.listdir(f\"dataset/Rankings/{querie}\"):\n",
    "            ranking = np.loadtxt(f\"dataset/Rankings/{querie}/{rank}\", dtype=object)\n",
    "            match = np.intersect1d(relevant, ranking)\n",
    "            precision = len(match)/20\n",
    "        \n",
    "            print(f\"\\tDistance: {rank} --> Precision = {precision}\")\n",
    "        print()   "
   ]
  },
  {
   "cell_type": "markdown",
   "id": "ae3e00d7",
   "metadata": {},
   "source": [
    "### *Exercicio 4.2.1*\n",
    "- Avaliação conjunto de 100 features, distância de cosseno"
   ]
  },
  {
   "cell_type": "code",
   "execution_count": null,
   "id": "d06a774a",
   "metadata": {},
   "outputs": [],
   "source": [
    "song_name = \"MT0014794891.mp3\"\n",
    "y, fs = librosa.load(f\"dataset/MER_audio_taffc_dataset/Q/{song_name}\", sr=sr)\n",
    "sd.play(y, sr)"
   ]
  },
  {
   "cell_type": "code",
   "execution_count": null,
   "id": "d83f29e8",
   "metadata": {},
   "outputs": [],
   "source": [
    "evaluations = pd.read_csv(\"dataset/Rankings/Evaluation/Subjective/top100/MT0000202045.mp3.csv\")\n",
    "print(\"Isolated Results: \\n\")\n",
    "print(evaluations.describe().loc[[\"std\", \"mean\"]])\n",
    "print(\"\\n\"+\"-\"*20+\"\\n\")\n",
    "print(\"Global Results: \\n\")\n",
    "print(evaluations.mean(axis=1).describe()[[\"std\", \"mean\"]])"
   ]
  },
  {
   "cell_type": "code",
   "execution_count": null,
   "id": "821d3f4e",
   "metadata": {},
   "outputs": [],
   "source": [
    "evaluations = pd.read_csv(\"dataset/Rankings/Evaluation/Subjective/top100/MT0000379144.mp3.csv\")\n",
    "print(\"Isolated Results: \\n\")\n",
    "print(evaluations.describe().loc[[\"std\", \"mean\"]])\n",
    "print(\"\\n\"+\"-\"*20+\"\\n\")\n",
    "print(\"Global Results: \\n\")\n",
    "print(evaluations.mean(axis=1).describe()[[\"std\", \"mean\"]])"
   ]
  },
  {
   "cell_type": "code",
   "execution_count": null,
   "id": "213538ac",
   "metadata": {},
   "outputs": [],
   "source": [
    "evaluations = pd.read_csv(\"dataset/Rankings/Evaluation/Subjective/top100/MT0000414517.mp3.csv\")\n",
    "print(\"Isolated Results: \\n\")\n",
    "print(evaluations.describe().loc[[\"std\", \"mean\"]])\n",
    "print(\"\\n\"+\"-\"*20+\"\\n\")\n",
    "print(\"Global Results: \\n\")\n",
    "print(evaluations.mean(axis=1).describe()[[\"std\", \"mean\"]])"
   ]
  },
  {
   "cell_type": "code",
   "execution_count": null,
   "id": "ce89cee0",
   "metadata": {},
   "outputs": [],
   "source": [
    "evaluations = pd.read_csv(\"dataset/Rankings/Evaluation/Subjective/top100/MT0000956340.mp3.csv\")\n",
    "print(\"Isolated Results: \\n\")\n",
    "print(evaluations.describe().loc[[\"std\", \"mean\"]])\n",
    "print(\"\\n\"+\"-\"*20+\"\\n\")\n",
    "print(\"Global Results: \\n\")\n",
    "print(evaluations.mean(axis=1).describe()[[\"std\", \"mean\"]])"
   ]
  },
  {
   "cell_type": "code",
   "execution_count": null,
   "id": "1d977b2f",
   "metadata": {},
   "outputs": [],
   "source": [
    "path = \"dataset/Rankings/Evaluation/Subjective/top100/\"\n",
    "try:\n",
    "    del df\n",
    "except:\n",
    "    pass\n",
    "    \n",
    "for song in sorted(os.listdir(path)):\n",
    "    if \"mp3\" in song:\n",
    "        temp_df = pd.read_csv(f\"{path}{song}\")\n",
    "        try:\n",
    "            df = pd.concat((df, temp_df)).reset_index(drop=True)\n",
    "        except:\n",
    "            df = temp_df\n",
    "            \n",
    "temp = df.mean(axis=1)\n",
    "temp = temp[temp>=2.5]\n",
    "print(\"Precision =\", len(temp)/len(df))"
   ]
  },
  {
   "cell_type": "code",
   "execution_count": null,
   "id": "6ed6ff59",
   "metadata": {},
   "outputs": [],
   "source": []
  }
 ],
 "metadata": {
  "kernelspec": {
   "display_name": "Python 3 (ipykernel)",
   "language": "python",
   "name": "python3"
  },
  "language_info": {
   "codemirror_mode": {
    "name": "ipython",
    "version": 3
   },
   "file_extension": ".py",
   "mimetype": "text/x-python",
   "name": "python",
   "nbconvert_exporter": "python",
   "pygments_lexer": "ipython3",
   "version": "3.9.7"
  }
 },
 "nbformat": 4,
 "nbformat_minor": 5
}
