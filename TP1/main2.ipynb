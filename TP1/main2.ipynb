{
 "cells": [
  {
   "cell_type": "code",
   "execution_count": null,
   "metadata": {},
   "outputs": [],
   "source": [
    "import numpy as np\n",
    "from matplotlib import image\n",
    "import matplotlib.pyplot as plt"
   ]
  },
  {
   "cell_type": "code",
   "execution_count": null,
   "metadata": {},
   "outputs": [],
   "source": [
    "\"\"\"\n",
    "Returns an array of type:\n",
    " - [x, y, A] for grayscale images\n",
    " - [x, y, [R, G, B]] for RGB images\n",
    " - [x, y, [R, G, B, A]] for RGBA images\n",
    "\"\"\"\n",
    "def read_image(filename):\n",
    "    img = image.imread(filename)\n",
    "    return img"
   ]
  },
  {
   "cell_type": "code",
   "execution_count": null,
   "metadata": {},
   "outputs": [],
   "source": [
    "def show_image(img, colormap):    \n",
    "    plt.figure(figsize=(8,8))\n",
    "    \n",
    "    if colormap != '':\n",
    "        new_img = img[:, :, 0]\n",
    "        plt.imshow(new_img, cmap=colormap)\n",
    "    else:\n",
    "        plt.imshow(img)\n",
    "\n",
    "    plt.axis('off')\n",
    "    plt.show()"
   ]
  },
  {
   "cell_type": "code",
   "execution_count": null,
   "metadata": {},
   "outputs": [],
   "source": [
    "#img = read_image('imagens/peppers.bmp')\n",
    "img = read_image('imagens/barn_mountains.bmp')\n",
    "#img = read_image('imagens/logo.bmp')\n",
    "\n",
    "show_image(img, 'hot')"
   ]
  },
  {
   "cell_type": "code",
   "execution_count": null,
   "metadata": {},
   "outputs": [],
   "source": [
    "def separate_rgb(img):\n",
    "    r = new_img = img[:, :, 0]\n",
    "    g = new_img = img[:, :, 1]\n",
    "    b = new_img = img[:, :, 2]\n",
    "    \n",
    "    return r, g, b"
   ]
  },
  {
   "cell_type": "code",
   "execution_count": null,
   "metadata": {},
   "outputs": [],
   "source": [
    "r, g, b = separate_rgb(img)\n",
    "show_image(r, '')\n",
    "show_image(g, '')\n",
    "show_image(b, '')"
   ]
  },
  {
   "cell_type": "code",
   "execution_count": null,
   "metadata": {},
   "outputs": [],
   "source": [
    "def join_rgb(r, g, b):\n",
    "    pass"
   ]
  },
  {
   "cell_type": "code",
   "execution_count": null,
   "metadata": {},
   "outputs": [],
   "source": []
  }
 ],
 "metadata": {
  "interpreter": {
   "hash": "31f2aee4e71d21fbe5cf8b01ff0e069b9275f58929596ceb00d14d90e3e16cd6"
  },
  "kernelspec": {
   "display_name": "Python 3.9.7 64-bit",
   "language": "python",
   "name": "python3"
  },
  "language_info": {
   "codemirror_mode": {
    "name": "ipython",
    "version": 3
   },
   "file_extension": ".py",
   "mimetype": "text/x-python",
   "name": "python",
   "nbconvert_exporter": "python",
   "pygments_lexer": "ipython3",
   "version": "3.9.7"
  },
  "orig_nbformat": 4
 },
 "nbformat": 4,
 "nbformat_minor": 2
}
