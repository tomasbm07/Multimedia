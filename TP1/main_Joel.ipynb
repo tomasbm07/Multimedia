{
 "cells": [
  {
   "cell_type": "code",
   "execution_count": null,
   "id": "b1c3a3c8",
   "metadata": {},
   "outputs": [],
   "source": [
    "import numpy as np\n",
    "import matplotlib.pyplot as plt\n",
    "import matplotlib.image as im\n",
    "import matplotlib.colors as clr\n",
    "from matplotlib.image import cm\n",
    "import os\n",
    "import sys"
   ]
  },
  {
   "cell_type": "code",
   "execution_count": null,
   "id": "c2013f05",
   "metadata": {},
   "outputs": [],
   "source": [
    "pepper_name = \"peppers.jpg\"\n",
    "barn_name = \"barn_mountains.jpg\"\n",
    "logo_name = \"logo.jpg\"\n",
    "\n",
    "def plot_image_in_axe(name, axe, size):\n",
    "    img = im.imread(name)\n",
    "    axe.set_title('/'.join(name.split('/')[-2:]))\n",
    "    \n",
    "    axe.get_yaxis().set_visible(False)\n",
    "    axe.get_xaxis().set_ticks([])\n",
    "    \n",
    "    kb_size = size/1024\n",
    "    axe.set_xlabel(f\"{img.shape[0]}x{img.shape[1]}\\n{kb_size:.1f} KB\")\n",
    "    axe.imshow(img)\n",
    "    \n",
    "\n",
    "def plot_images(name):\n",
    "    original_dir = os.getcwd() + \"/imagens/bmp/\" + name[:-3] + \"bmp\"\n",
    "    low_dir = os.getcwd() + \"/imagens/Low/\" + name\n",
    "    medium_dir = os.getcwd() + \"/imagens/Medium/\" + name\n",
    "    high_dir = os.getcwd() + \"/imagens/High/\" + name\n",
    "    \n",
    "    original_bytes_size = os.stat(original_dir).st_size\n",
    "    low_bytes_size = os.stat(low_dir).st_size\n",
    "    medium_bytes_size = os.stat(medium_dir).st_size\n",
    "    high_bytes_size = os.stat(high_dir).st_size\n",
    "    \n",
    "    \n",
    "    fig, axes = plt.subplots(1, 4, figsize=(20,8))\n",
    "    plot_image_in_axe(original_dir, axes[0], original_bytes_size)\n",
    "    plot_image_in_axe(high_dir, axes[1], high_bytes_size)\n",
    "    plot_image_in_axe(medium_dir, axes[2], medium_bytes_size)\n",
    "    plot_image_in_axe(low_dir, axes[3], low_bytes_size)\n",
    "    \n",
    "    \n",
    "    "
   ]
  },
  {
   "cell_type": "code",
   "execution_count": null,
   "id": "96b98296",
   "metadata": {},
   "outputs": [],
   "source": [
    "plot_images(logo_name)"
   ]
  },
  {
   "cell_type": "code",
   "execution_count": null,
   "id": "4499cce6",
   "metadata": {},
   "outputs": [],
   "source": [
    "\"\"\"\n",
    "Recebe uma imagem e altera as suas dimensões (m,n) para (16*p, 16*q).\n",
    "Isto é realizado através da cópia da ultima coluna/linha até atingir o valor multiplo de 16.\n",
    "Devolva as dimensoes (m,n) originais e a imagem com as novas dimensoes (16*p, 16*q)\n",
    "\"\"\"\n",
    "def padding(img : np.array):\n",
    "    img = img.copy()\n",
    "    shape = img.shape\n",
    "    \n",
    "    x,y = 16 - p_img.shape[0]%16, 16 - p_img.shape[1]%16\n",
    "    h_padding = np.repeat(img[-1:,:,:], x, axis = 0)\n",
    "    img = np.concatenate((img, h_padding), axis = 0)\n",
    "\n",
    "    v_padding = np.repeat(img[:,-1:,:], y, axis = 1)\n",
    "    img = np.concatenate((img, v_padding), axis = 1)\n",
    "    return shape, img\n",
    "\n",
    "\"\"\"\n",
    "Recebe uma imagem e as dimensoes originais dela.\n",
    "Enquanto as dimensoes da imagem forem diferentes das dimensoes de entrada, remove linhas/colunas \n",
    "até voltar ao tamanho original;\n",
    "\"\"\"\n",
    "def unpad(img : np.array, shape):\n",
    "    img = img.copy()\n",
    "    x,y,z = shape\n",
    "    img = img[:x, :y]\n",
    "    return img"
   ]
  },
  {
   "cell_type": "code",
   "execution_count": null,
   "id": "9cbcdad5",
   "metadata": {},
   "outputs": [],
   "source": [
    "p_img = im.imread('imagens/peppers.bmp')\n",
    "shape, p_img2 = padding(p_img)\n",
    "p_img3 = unpad(p_img2, shape)\n",
    "np.all(np.equal(p_img, p_img3))"
   ]
  },
  {
   "cell_type": "code",
   "execution_count": null,
   "id": "115a57f9",
   "metadata": {},
   "outputs": [],
   "source": [
    "\"\"\"\n",
    "Converte imagem no formato RGB para imagem no formato yCbCr;\n",
    "\"\"\"\n",
    "def rgb_to_ycbcr(img : np.array):\n",
    "    img.copy()\n",
    "    \n",
    "    y_cb_cr_mat = np.array([ [0.299    , 0.587    , 0.114    ]\n",
    "                            ,[-0.168736, -0.331264, 0.5      ]\n",
    "                            ,[0.5      , -0.418688, -0.081312] ])\n",
    "    \n",
    "    y  = y_cb_cr_mat[0,0] * img[:,:,0] + y_cb_cr_mat[0,1] * img[:,:,1] + y_cb_cr_mat[0,2]*img[:,:,2]\n",
    "    cb = y_cb_cr_mat[1,0] * img[:,:,0] + y_cb_cr_mat[1,1] * img[:,:,1] + y_cb_cr_mat[1,2]*img[:,:,2] + 128\n",
    "    cr = y_cb_cr_mat[2,0] * img[:,:,0] + y_cb_cr_mat[2,1] * img[:,:,1] + y_cb_cr_mat[2,2]*img[:,:,2] + 128\n",
    "    \n",
    "    y_cb_cr = np.dstack((y, cb, cr))\n",
    "    return y_cb_cr\n",
    "\n",
    "\"\"\"\n",
    "Converte imagem no formato yCbCr para imagem no formato RGB;\n",
    "\"\"\"\n",
    "def ycbcr_to_rgb(img : np.array):\n",
    "    img = img.copy()\n",
    "    \n",
    "    y_cb_cr_mat_inv = np.linalg.inv(\n",
    "                                np.array([ [0.299    , 0.587    , 0.114    ]\n",
    "                                        ,  [-0.168736, -0.331264, 0.5      ]\n",
    "                                        ,  [0.5      , -0.418688, -0.081312] ])\n",
    "                                    )\n",
    "    y = img[:,:,0]\n",
    "    cb = img[:, :, 1] - 128\n",
    "    cr = img[:, :, 2] - 128\n",
    "    \n",
    "    r = y_cb_cr_mat_inv[0,0] * y + y_cb_cr_mat_inv[0,1]*cb + y_cb_cr_mat_inv[0,2]*cr\n",
    "    g = y_cb_cr_mat_inv[1,0] * y + y_cb_cr_mat_inv[1,1]*cb + y_cb_cr_mat_inv[1,2]*cr\n",
    "    b = y_cb_cr_mat_inv[2,0] * y + y_cb_cr_mat_inv[2,1]*cb + y_cb_cr_mat_inv[2,2]*cr\n",
    "    \n",
    "    rgb = np.dstack((r,g,b))\n",
    "    rgb = np.round(rgb)\n",
    "    rgb[rgb > 255] = 255\n",
    "    rgb[rgb < 0] = 0\n",
    "    \n",
    "    return np.array(rgb, dtype = np.uint8)\n",
    "    #return rgb"
   ]
  },
  {
   "cell_type": "code",
   "execution_count": null,
   "id": "60c3115a",
   "metadata": {},
   "outputs": [],
   "source": [
    "ycbcr_img = rgb_to_ycbcr(p_img)\n",
    "rgb_img = ycbcr_to_rgb(ycbcr_img)\n",
    "np.all(np.equal(p_img, rgb_img))"
   ]
  },
  {
   "cell_type": "code",
   "execution_count": null,
   "id": "e9fbf22b",
   "metadata": {},
   "outputs": [],
   "source": [
    "def separate_rgb(img):\n",
    "    r = img[:, :, 0]\n",
    "    g = img[:, :, 1]\n",
    "    b = img[:, :, 2]\n",
    "    \n",
    "    return r, g, b\n",
    "\n",
    "def join_rgb(r, g, b):\n",
    "    return np.dstack((r, g, b))\n",
    "\n",
    "cm_gray = clr.LinearSegmentedColormap.from_list('gray', [(0,0,0), (1, 1, 1)], N = 256)\n",
    "cm_red = clr.LinearSegmentedColormap.from_list('red', [(0,0,0), (1, 0, 0)], N = 256)\n",
    "cm_green = clr.LinearSegmentedColormap.from_list('green', [(0,0,0), (0, 1, 0)], N = 256)\n",
    "cm_blue = clr.LinearSegmentedColormap.from_list('blue', [(0,0,0), (0, 0, 1)], N = 256)\n"
   ]
  },
  {
   "cell_type": "code",
   "execution_count": null,
   "id": "c9140b6a",
   "metadata": {},
   "outputs": [],
   "source": [
    "ycbcr_img = rgb_to_ycbcr(p_img)\n",
    "rgb_img = ycbcr_to_rgb(ycbcr_img)\n",
    "np.all(np.equal(p_img, rgb_img))"
   ]
  },
  {
   "cell_type": "code",
   "execution_count": null,
   "id": "fe28137a",
   "metadata": {},
   "outputs": [],
   "source": [
    "y, cb, cr = separate_rgb(ycbcr_img)"
   ]
  },
  {
   "cell_type": "code",
   "execution_count": null,
   "id": "0a4e41fc",
   "metadata": {},
   "outputs": [],
   "source": [
    "\"\"\"\n",
    "\n",
    "\"\"\"\n",
    "def sub_sample(y: np.array, cb: np.array, cr: np.array, downsample_ratio: tuple[int]):\n",
    "    y = y.copy()\n",
    "    cb = cb.copy()\n",
    "    cr = cr.copy()\n",
    "    if downsample_ratio[-1] == 0:\n",
    "        ratio = int(downsample_ratio[0]/downsample_ratio[1])\n",
    "        cb = cb[::ratio,::ratio]\n",
    "        cr = cr[::ratio,::ratio]\n",
    "    else:\n",
    "        cb_ratio = round(downsample_ratio[0]/downsample_ratio[1])\n",
    "        cr_ratio = round(downsample_ratio[0]/downsample_ratio[2])\n",
    "        cb = cb[:, ::cb_ratio]\n",
    "        cr = cr[:, ::cr_ratio]\n",
    "    return y,cb,cr"
   ]
  },
  {
   "cell_type": "code",
   "execution_count": null,
   "id": "e178d4aa",
   "metadata": {},
   "outputs": [],
   "source": [
    "y,cb_d,cr_d = sub_sample(y,cb,cr, (4,2,2))\n",
    "print(\n",
    "y.shape,\n",
    "cb_d.shape,\n",
    "cr_d.shape,sep = '\\n'\n",
    ")"
   ]
  },
  {
   "cell_type": "code",
   "execution_count": null,
   "id": "bc9961ef",
   "metadata": {},
   "outputs": [],
   "source": []
  }
 ],
 "metadata": {
  "kernelspec": {
   "display_name": "Python 3 (ipykernel)",
   "language": "python",
   "name": "python3"
  },
  "language_info": {
   "codemirror_mode": {
    "name": "ipython",
    "version": 3
   },
   "file_extension": ".py",
   "mimetype": "text/x-python",
   "name": "python",
   "nbconvert_exporter": "python",
   "pygments_lexer": "ipython3",
   "version": "3.9.7"
  }
 },
 "nbformat": 4,
 "nbformat_minor": 5
}
