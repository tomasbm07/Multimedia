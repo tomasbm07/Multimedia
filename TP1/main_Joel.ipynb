{
 "cells": [
  {
   "cell_type": "code",
   "execution_count": null,
   "id": "b1c3a3c8",
   "metadata": {},
   "outputs": [],
   "source": [
    "import numpy as np\n",
    "import matplotlib.pyplot as plt\n",
    "import matplotlib.image as im\n",
    "import matplotlib.colors as clr"
   ]
  },
  {
   "cell_type": "code",
   "execution_count": null,
   "id": "fb94bb95",
   "metadata": {},
   "outputs": [],
   "source": [
    "p_img = im.imread('imagens/Low/barn_mountains.jpg')\n",
    "plt.imshow(p_img)"
   ]
  },
  {
   "cell_type": "code",
   "execution_count": null,
   "id": "fba71878",
   "metadata": {},
   "outputs": [],
   "source": [
    "plt.imshow(padding(p_img))"
   ]
  },
  {
   "cell_type": "code",
   "execution_count": null,
   "id": "bbbe9387",
   "metadata": {},
   "outputs": [],
   "source": [
    "def padding(img : np.array):\n",
    "    while img.shape[0]%16 != 0:\n",
    "        img = np.concatenate((img, [img[-1]]), axis = 0)\n",
    "    while img.shape[1]%16 != 0:\n",
    "        img = np.concatenate((img, [img[:,-1]]), axis = 1)\n",
    "    return img\n",
    "\n",
    "def unpad(img : np.array):\n",
    "    while np.all(img[-1] == img[-2]):\n",
    "        img = np.resize(img, (img.shape[0] - 1, img.shape[1]) )\n",
    "    while np.all(img[:, -1] == img[:, -2]):\n",
    "        img = np.resize(img, (img.shape[0], img.shape[1] - 1) )\n",
    "    return img"
   ]
  },
  {
   "cell_type": "code",
   "execution_count": null,
   "id": "9b174213",
   "metadata": {},
   "outputs": [],
   "source": [
    "plt.imshow(unpad(p_img))"
   ]
  },
  {
   "cell_type": "code",
   "execution_count": null,
   "id": "57637cd9",
   "metadata": {},
   "outputs": [],
   "source": []
  }
 ],
 "metadata": {
  "kernelspec": {
   "display_name": "Python 3 (ipykernel)",
   "language": "python",
   "name": "python3"
  },
  "language_info": {
   "codemirror_mode": {
    "name": "ipython",
    "version": 3
   },
   "file_extension": ".py",
   "mimetype": "text/x-python",
   "name": "python",
   "nbconvert_exporter": "python",
   "pygments_lexer": "ipython3",
   "version": "3.9.7"
  }
 },
 "nbformat": 4,
 "nbformat_minor": 5
}
