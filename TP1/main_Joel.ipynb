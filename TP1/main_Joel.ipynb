{
 "cells": [
  {
   "cell_type": "code",
   "execution_count": 6,
   "id": "b1c3a3c8",
   "metadata": {},
   "outputs": [],
   "source": [
    "import numpy as np\n",
    "import matplotlib.pyplot as plt\n",
    "import matplotlib.image as im\n",
    "import matplotlib.colors as clr\n",
    "from matplotlib.image import cm"
   ]
  },
  {
   "cell_type": "code",
   "execution_count": null,
   "id": "4499cce6",
   "metadata": {},
   "outputs": [],
   "source": [
    "\"\"\"\n",
    "Recebe uma imagem e altera as suas dimensões (m,n) para (16*p, 16*q).\n",
    "Isto é realizado através da cópia da ultima coluna/linha até atingir o valor multiplo de 16.\n",
    "Devolva as dimensoes (m,n) originais e a imagem com as novas dimensoes (16*p, 16*q)\n",
    "\"\"\"\n",
    "def padding(img : np.array):\n",
    "    img = img.copy()\n",
    "    x = y = 0\n",
    "    while img.shape[0]%16 != 0:\n",
    "        img = np.concatenate((img, [img[-1]]), axis = 0)\n",
    "        x+=1\n",
    "    while img.shape[1]%16 != 0:\n",
    "        img = np.concatenate((img, img[:,-1:]), axis = 1)\n",
    "        y+=1\n",
    "    shape_inc = (x,y)\n",
    "    return shape_inc, img\n",
    "\n",
    "\"\"\"\n",
    "Recebe uma imagem e as dimensoes originais dela.\n",
    "Enquanto as dimensoes da imagem forem diferentes das dimensoes de entrada, remove linhas/colunas \n",
    "até voltar ao tamanho original;\n",
    "\"\"\"\n",
    "def unpad(img : np.array, shape_inc):\n",
    "    img = img.copy()\n",
    "    x,y = shape_inc\n",
    "    while x>0:\n",
    "        img = img[:-1]\n",
    "        x = x-1\n",
    "    while y>0:\n",
    "        img = img[:,:-1]\n",
    "        y = y-1\n",
    "    return img\n"
   ]
  },
  {
   "cell_type": "code",
   "execution_count": null,
   "id": "9cbcdad5",
   "metadata": {},
   "outputs": [],
   "source": [
    "p_img = im.imread('imagens/Medium/peppers.jpg')\n",
    "shape_inc, p_img2 = padding(p_img)\n",
    "p_img3 = unpad(p_img2, shape_inc)\n",
    "np.all(np.equal(p_img, p_img3))"
   ]
  },
  {
   "cell_type": "code",
   "execution_count": null,
   "id": "115a57f9",
   "metadata": {},
   "outputs": [],
   "source": [
    "\"\"\"\n",
    "Converte imagem no formato RGB para imagem no formato yCbCr;\n",
    "\"\"\"\n",
    "def rgb_to_ycbcr(img : np.array):\n",
    "    img.copy()\n",
    "    \n",
    "    y_cb_cr_mat = np.array([ [0.299    , 0.587    , 0.114    ]\n",
    "                            ,[-0.168736, -0.331264, 0.5      ]\n",
    "                            ,[0.5      , -0.418688, -0.081312] ])\n",
    "    \n",
    "    y  = y_cb_cr_mat[0,0] * img[:,:,0] + y_cb_cr_mat[0,1] * img[:,:,1] + y_cb_cr_mat[0,2]*img[:,:,2]\n",
    "    cb = y_cb_cr_mat[1,0] * img[:,:,0] + y_cb_cr_mat[1,1] * img[:,:,1] + y_cb_cr_mat[1,2]*img[:,:,2] + 128\n",
    "    cr = y_cb_cr_mat[2,0] * img[:,:,0] + y_cb_cr_mat[2,1] * img[:,:,1] + y_cb_cr_mat[2,2]*img[:,:,2] + 128\n",
    "    \n",
    "    y_cb_cr = np.dstack((y, cb, cr))\n",
    "    return y_cb_cr\n",
    "\"\"\"\n",
    "Converte imagem no formato yCbCr para imagem no formato RGB;\n",
    "\"\"\"\n",
    "def ycbcr_to_rgb(img : np.array):\n",
    "    img = img.copy()\n",
    "    \n",
    "    y_cb_cr_mat_inv = np.linalg.inv(\n",
    "                                np.array([ [0.299    , 0.587    , 0.114    ]\n",
    "                                        ,  [-0.168736, -0.331264, 0.5      ]\n",
    "                                        ,  [0.5      , -0.418688, -0.081312] ])\n",
    "                                    )\n",
    "    y = img[:,:,0]\n",
    "    cb = img[:, :, 1] - 128\n",
    "    cr = img[:, :, 2] - 128\n",
    "    \n",
    "    r = y + y_cb_cr_mat_inv[0,2]*cr\n",
    "    g = y + y_cb_cr_mat_inv[1,1]*cb + y_cb_cr_mat_inv[1,2]*cr\n",
    "    b = y + y_cb_cr_mat_inv[2,1]*cb\n",
    "    \n",
    "    rgb = np.dstack((r,g,b))\n",
    "    np.round(rgb)\n",
    "    rgb[rgb > 255] = 255\n",
    "    rgb[rgb < 0] = 0\n",
    "    \n",
    "    return np.array(rgb, dtype = np.uint8)"
   ]
  },
  {
   "cell_type": "code",
   "execution_count": null,
   "id": "e9fbf22b",
   "metadata": {},
   "outputs": [],
   "source": [
    "def separate_rgb(img):\n",
    "    r = img[:, :, 0]\n",
    "    g = img[:, :, 1]\n",
    "    b = img[:, :, 2]\n",
    "    \n",
    "    return r, g, b\n",
    "\n",
    "def join_rgb(r, g, b):\n",
    "    return np.dstack((r, g, b))\n",
    "\n",
    "cm_gray = clr.LinearSegmentedColormap.from_list('gray', [(0,0,0), (1, 1, 1)], N = 256)\n",
    "cm_red = clr.LinearSegmentedColormap.from_list('red', [(0,0,0), (1, 0, 0)], N = 256)\n",
    "cm_green = clr.LinearSegmentedColormap.from_list('green', [(0,0,0), (0, 1, 0)], N = 256)\n",
    "cm_blue = clr.LinearSegmentedColormap.from_list('blue', [(0,0,0), (0, 0, 1)], N = 256)\n"
   ]
  },
  {
   "cell_type": "code",
   "execution_count": null,
   "id": "335dc468",
   "metadata": {},
   "outputs": [],
   "source": []
  }
 ],
 "metadata": {
  "kernelspec": {
   "display_name": "Python 3 (ipykernel)",
   "language": "python",
   "name": "python3"
  },
  "language_info": {
   "codemirror_mode": {
    "name": "ipython",
    "version": 3
   },
   "file_extension": ".py",
   "mimetype": "text/x-python",
   "name": "python",
   "nbconvert_exporter": "python",
   "pygments_lexer": "ipython3",
   "version": "3.9.7"
  }
 },
 "nbformat": 4,
 "nbformat_minor": 5
}
