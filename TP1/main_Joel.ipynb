{
 "cells": [
  {
   "cell_type": "code",
   "execution_count": null,
   "id": "b1c3a3c8",
   "metadata": {},
   "outputs": [],
   "source": [
    "import numpy as np\n",
    "import matplotlib.pyplot as plt\n",
    "import matplotlib.image as im\n",
    "import matplotlib.colors as clr"
   ]
  },
  {
   "cell_type": "code",
   "execution_count": null,
   "id": "4499cce6",
   "metadata": {},
   "outputs": [],
   "source": [
    "\"\"\"\n",
    "Recebe uma imagem e altera as suas dimensões para (m,n) multiplas de (16,16).\n",
    "Isto é realizado através da cópia da ultima coluna/linha até atingir o valor multiplo de 16.\n",
    "\"\"\"\n",
    "def padding(img : np.array):\n",
    "    img = img.copy()\n",
    "    while img.shape[0]%16 != 0:\n",
    "        img = np.concatenate((img, [img[-1]]), axis = 0)\n",
    "    while img.shape[1]%16 != 0:\n",
    "        img = np.concatenate((img, [img[:,-1]]), axis = 1)\n",
    "    return img\n",
    "\n",
    "\"\"\"\n",
    "Recebe uma imagem e, enquanto a ultima coluna/imagem for igual à penultima, elimina-a\n",
    "\"\"\"\n",
    "def unpad(img : np.array):\n",
    "    img = img.copy()\n",
    "    while np.all(img[-1] == img[-2]):\n",
    "        if len(img.shape) == 2:\n",
    "            img = np.resize(img, (img.shape[0] - 1, img.shape[1]) )\n",
    "        else:\n",
    "            img = np.resize(img, (img.shape[0] - 1, img.shape[1], img.shape[2] ) )\n",
    "    while np.all(img[:, -1] == img[:, -2]):\n",
    "        if len(img.shape) == 2:\n",
    "            img = np.resize(img, (img.shape[0], img.shape[1] - 1) )\n",
    "        else:\n",
    "            img = np.resize(img, (img.shape[0], img.shape[1] - 1, img.shape[2] ) )\n",
    "    return img"
   ]
  },
  {
   "cell_type": "code",
   "execution_count": null,
   "id": "e88cc8de",
   "metadata": {},
   "outputs": [],
   "source": [
    "p_img3 = unpad(p_img2)"
   ]
  },
  {
   "cell_type": "code",
   "execution_count": null,
   "id": "9cbcdad5",
   "metadata": {},
   "outputs": [],
   "source": [
    "p_img = im.imread('imagens/Low/barn_mountains.jpg')\n",
    "p_img2 = padding(p_img)\n",
    "p_img3 = unpad(p_img2)"
   ]
  },
  {
   "cell_type": "code",
   "execution_count": null,
   "id": "cd14ebf5",
   "metadata": {},
   "outputs": [],
   "source": [
    "np.all(np.equal(p_img3, p_img))"
   ]
  },
  {
   "cell_type": "code",
   "execution_count": null,
   "id": "4d257e08",
   "metadata": {},
   "outputs": [],
   "source": [
    "img.shape"
   ]
  },
  {
   "cell_type": "code",
   "execution_count": null,
   "id": "81af0959",
   "metadata": {},
   "outputs": [],
   "source": [
    "np.hstack(p_img).shape"
   ]
  },
  {
   "cell_type": "code",
   "execution_count": null,
   "id": "976ee365",
   "metadata": {},
   "outputs": [],
   "source": [
    "p_img.shape"
   ]
  },
  {
   "cell_type": "code",
   "execution_count": null,
   "id": "115a57f9",
   "metadata": {},
   "outputs": [],
   "source": [
    "\"\"\"\n",
    "Converte imagem no formato RGB para imagem no formato yCbCr;\n",
    "\"\"\"\n",
    "def rgb_to_ycbcr(img : np.array):\n",
    "    img.copy()\n",
    "    y = 0.299 * img[:,:,0] + 0.587 * img[:,:,1] + 0.114*img[:,:,2]\n",
    "    cb = (img[:,:,2] - y)/1.772 + 128\n",
    "    cr = (img[:,:,0] - y)/1.402 + 128\n",
    "    \n",
    "    y_cb_cr = np.dstack((y, cb, cr))\n",
    "    return y_cb_cr\n",
    "\"\"\"\n",
    "Converte imagem no formato yCbCr para imagem no formato RGB;\n",
    "\"\"\"\n",
    "def ycbcr_to_rgb(img : np.array):\n",
    "    img = img.copy()\n",
    "    y = img[:,:,0]\n",
    "    cb = img[:, :, 1] - 128\n",
    "    cr = img[:, :, 2] - 128\n",
    "    \n",
    "    r = y + 1.402 * cr\n",
    "    g = y - 0.344136*cb - 0.714136*cr\n",
    "    b = y + 1.772*cb\n",
    "    \n",
    "    rgb = np.dstack((r,g,b))\n",
    "    np.round(rgb)\n",
    "    rgb[rgb>255] = 255\n",
    "    rgb[rgb < 0] = 0\n",
    "    \n",
    "    return np.array(rgb, dtype = np.uint8)"
   ]
  },
  {
   "cell_type": "code",
   "execution_count": null,
   "id": "dfb7a622",
   "metadata": {},
   "outputs": [],
   "source": [
    "ycbr = rgb_to_ycbcr(p_img2)"
   ]
  }
 ],
 "metadata": {
  "kernelspec": {
   "display_name": "Python 3 (ipykernel)",
   "language": "python",
   "name": "python3"
  },
  "language_info": {
   "codemirror_mode": {
    "name": "ipython",
    "version": 3
   },
   "file_extension": ".py",
   "mimetype": "text/x-python",
   "name": "python",
   "nbconvert_exporter": "python",
   "pygments_lexer": "ipython3",
   "version": "3.9.7"
  }
 },
 "nbformat": 4,
 "nbformat_minor": 5
}
