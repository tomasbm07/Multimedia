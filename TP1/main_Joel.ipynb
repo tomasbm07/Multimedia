{
 "cells": [
  {
   "cell_type": "code",
   "execution_count": 1,
   "id": "b1c3a3c8",
   "metadata": {},
   "outputs": [],
   "source": [
    "import numpy as np\n",
    "import matplotlib.pyplot as plt\n",
    "import matplotlib.image as im\n"
   ]
  },
  {
   "cell_type": "code",
   "execution_count": 5,
   "id": "18430a59",
   "metadata": {},
   "outputs": [],
   "source": [
    "p_low = im.imread('imagens/Low/peppers.jpg')\n",
    "p_med = im.imread('imagens/Medium/peppers.jpg')\n",
    "p_high = im.imread('imagens/High/peppers.jpg')"
   ]
  },
  {
   "cell_type": "code",
   "execution_count": 4,
   "id": "0ddce4a7",
   "metadata": {},
   "outputs": [],
   "source": []
  },
  {
   "cell_type": "code",
   "execution_count": null,
   "id": "0a025e89",
   "metadata": {},
   "outputs": [],
   "source": []
  }
 ],
 "metadata": {
  "kernelspec": {
   "display_name": "Python 3 (ipykernel)",
   "language": "python",
   "name": "python3"
  },
  "language_info": {
   "codemirror_mode": {
    "name": "ipython",
    "version": 3
   },
   "file_extension": ".py",
   "mimetype": "text/x-python",
   "name": "python",
   "nbconvert_exporter": "python",
   "pygments_lexer": "ipython3",
   "version": "3.9.7"
  }
 },
 "nbformat": 4,
 "nbformat_minor": 5
}
