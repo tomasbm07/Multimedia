{
 "cells": [
  {
   "cell_type": "code",
   "execution_count": null,
   "id": "b1c3a3c8",
   "metadata": {},
   "outputs": [],
   "source": [
    "import numpy as np\n",
    "import matplotlib.pyplot as plt\n",
    "import matplotlib.image as im\n",
    "import matplotlib.colors as clr"
   ]
  },
  {
   "cell_type": "code",
   "execution_count": null,
   "id": "886f9ddc",
   "metadata": {},
   "outputs": [],
   "source": [
    "\"\"\"\n",
    "Recebe uma imagem e altera as suas dimensões para (m,n) multiplas de (16,16).\n",
    "Isto é realizado através da cópia da ultima coluna/linha até atingir o valor multiplo de 16.\n",
    "\"\"\"\n",
    "def padding(img : np.array):\n",
    "    img = img.copy()\n",
    "    while img.shape[0]%16 != 0:\n",
    "        img = np.concatenate((img, [img[-1]]), axis = 0)\n",
    "    while img.shape[1]%16 != 0:\n",
    "        img = np.concatenate((img, [img[:,-1]]), axis = 1)\n",
    "    return img\n",
    "\n",
    "\"\"\"\n",
    "Recebe uma imagem e, enquanto a ultima coluna/imagem for igual à penultima, elimina-a\n",
    "\"\"\"\n",
    "def unpad(img : np.array):\n",
    "    img = img.copy()\n",
    "    while np.all(img[-1] == img[-2]):\n",
    "        if len(img.shape) == 2:\n",
    "            img = np.resize(img, (img.shape[0] - 1, img.shape[1]) )\n",
    "        else:\n",
    "            img = np.resize(img, (img.shape[0] - 1, img.shape[1], img.shape[2] ) )\n",
    "    while np.all(img[:, -1] == img[:, -2]):\n",
    "        if len(img.shape) == 2:\n",
    "            img = np.resize(img, (img.shape[0], img.shape[1] - 1) )\n",
    "        else:\n",
    "            img = np.resize(img, (img.shape[0], img.shape[1] - 1, img.shape[2] ) )\n",
    "    return img"
   ]
  },
  {
   "cell_type": "code",
   "execution_count": null,
   "id": "a0f345ff",
   "metadata": {},
   "outputs": [],
   "source": [
    "p_img3 = unpad(p_img2)"
   ]
  },
  {
   "cell_type": "code",
   "execution_count": null,
   "id": "5cb8409a",
   "metadata": {},
   "outputs": [],
   "source": [
    "p_img = im.imread('imagens/Low/barn_mountains.jpg')\n",
    "p_img2 = padding(p_img)\n",
    "p_img3 = unpad(p_img2)"
   ]
  },
  {
   "cell_type": "code",
   "execution_count": null,
   "id": "5bd0bf27",
   "metadata": {},
   "outputs": [],
   "source": [
    "np.all(np.equal(p_img3, p_img))"
   ]
  },
  {
   "cell_type": "code",
   "execution_count": null,
   "id": "14a112cb",
   "metadata": {},
   "outputs": [],
   "source": [
    "img.shape"
   ]
  },
  {
   "cell_type": "code",
   "execution_count": null,
   "id": "9557b560",
   "metadata": {},
   "outputs": [],
   "source": []
  }
 ],
 "metadata": {
  "kernelspec": {
   "display_name": "Python 3 (ipykernel)",
   "language": "python",
   "name": "python3"
  },
  "language_info": {
   "codemirror_mode": {
    "name": "ipython",
    "version": 3
   },
   "file_extension": ".py",
   "mimetype": "text/x-python",
   "name": "python",
   "nbconvert_exporter": "python",
   "pygments_lexer": "ipython3",
   "version": "3.9.7"
  }
 },
 "nbformat": 4,
 "nbformat_minor": 5
}
