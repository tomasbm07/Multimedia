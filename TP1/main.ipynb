{
 "cells": [
  {
   "cell_type": "code",
   "execution_count": null,
   "metadata": {},
   "outputs": [],
   "source": [
    "import numpy as np\n",
    "from matplotlib import image\n",
    "import matplotlib.pyplot as plt\n",
    "import matplotlib.colors as clr"
   ]
  },
  {
   "cell_type": "code",
   "execution_count": null,
   "metadata": {},
   "outputs": [],
   "source": [
    "\"\"\"\n",
    "Returns an array of type:\n",
    " - [x, y] for grayscale images\n",
    " - [x, y, [R, G, B]] for RGB images\n",
    " - [x, y, [R, G, B, A]] for RGBA images\n",
    "\"\"\"\n",
    "def read_image(filename):\n",
    "    img = image.imread(filename)\n",
    "    return img"
   ]
  },
  {
   "cell_type": "markdown",
   "metadata": {},
   "source": [
    "*3.2 função para criar colormap entre duas cores*"
   ]
  },
  {
   "cell_type": "code",
   "execution_count": null,
   "metadata": {},
   "outputs": [],
   "source": [
    "\"\"\"\n",
    "Funcao para criar um colormap;\n",
    "Parametros:\n",
    "            1.cmin-> tuplo com valores (r,g,b) minimos\n",
    "            2.cmax-> tuplo com valores (r,g,b) maximos\n",
    "Devolve o objeto correspondente ao colormap\n",
    "\"\"\"\n",
    "def create_colormap(cmin : tuple[float], cmax: tuple[float]):\n",
    "    return clr.LinearSegmentedColormap.from_list('', [cmin, cmax], N=256)"
   ]
  },
  {
   "cell_type": "markdown",
   "metadata": {},
   "source": [
    "*3.3 Função para visualizar a imagem com um certo colormap*"
   ]
  },
  {
   "cell_type": "code",
   "execution_count": null,
   "metadata": {},
   "outputs": [],
   "source": [
    "\"\"\"\n",
    "Função para mostrar uma imagem. Aceita um colormap definido pelo utilizador ou os do matplotlib\n",
    "\n",
    "\"\"\"\n",
    "    \n",
    "def show_image(img, colormap = None):    \n",
    "    plt.figure(figsize=(8,8))\n",
    "    \n",
    "    # Imagens com apenas uma coponenete: R, G, B ou Grayscale\n",
    "    if len(img.shape) == 2:\n",
    "        plt.imshow(img, cmap = colormap)\n",
    "    else:\n",
    "        if colormap != None:\n",
    "            new_img = img[:, :, 0]\n",
    "            plt.imshow(new_img, cmap = colormap)\n",
    "        else:\n",
    "            plt.imshow(img)\n",
    "\n",
    "    plt.axis('off')\n",
    "    plt.show()"
   ]
  },
  {
   "cell_type": "markdown",
   "metadata": {},
   "source": [
    "> # Semana 1\n",
    "Na diretória imagens estão presentes as imagens jpeg com baixa, média e alta qualidade, consoante os nomes das pastas;\n",
    "\n",
    "\n",
    "*3.1 Leitura da imagem*"
   ]
  },
  {
   "cell_type": "code",
   "execution_count": null,
   "metadata": {},
   "outputs": [],
   "source": [
    "#img = read_image('imagens/peppers.bmp')\n",
    "img = read_image('imagens/barn_mountains.bmp')\n",
    "#img = read_image('imagens/logo.bmp')\n",
    "\n",
    "show_image(img)"
   ]
  },
  {
   "cell_type": "markdown",
   "metadata": {},
   "source": [
    "\n",
    "Tamanho dos ficheiros .bmp\n",
    "\n",
    "|        | Barn | Peppers | Logo |\n",
    "|:------:|:----:|:-------:|:----:|\n",
    "|  size  |   356.5KB  |    589.9KB   |   421.6KB  |\n",
    "\n",
    "\n",
    "<br>\n",
    "Tamanho dos ficheiros após compressão para JPEG\n",
    "\n",
    "|        | Barn | Peppers | Logo |\n",
    "|:------:|:----:|:-------:|:----:|\n",
    "|   Low  |   43.4KB  |    35.2KB    |   21.9KB  |\n",
    "| Medium |   51.5KB  |    41.3KB    |   23.1KB  |\n",
    "|  High  |   67.5KB  |    57.7KB    |   27.3KB  |\n",
    "\n",
    "<br>\n",
    "Rácio de compressão\n",
    "\n",
    "|        | Barn | Peppers | Logo |\n",
    "|:------:|:----:|:-------:|:----:|\n",
    "|   Low  |   8.2:1  |    16.7:1    |   19.3:1  |\n",
    "| Medium |   6.9:1  |    14.3:1    |   18.3:1  |\n",
    "|  High  |   5.2:1  |    10.2:1    |   15.4:1  |\n",
    "\n",
    "<br>\n",
    "Diferenças subjetivas jpeg/bmp\n",
    "\n",
    "|        | Barn                 | Peppers | Logo |\n",
    "|:------:|:------------------:|:--------------:|:-----------------:|\n",
    "|   Low  | não muito evidente | muito evidente     | evidente      |\n",
    "| Medium | nada evidente      | não muito evidente | evidente      |\n",
    "|  High  | nada evidente      | nada evidente      | nada evidente |\n",
    "\n",
    "A compressão aparenta ser mais evidente em imagens cujos pixels adjacentes têm uma cor bastante semelhante, sendo particularmente notável em casos em que as cores apresentam brilho elevado"
   ]
  },
  {
   "cell_type": "code",
   "execution_count": null,
   "metadata": {},
   "outputs": [],
   "source": [
    "low = image.imread('imagens/Low/peppers.jpg')\n",
    "low.shape"
   ]
  },
  {
   "cell_type": "code",
   "execution_count": null,
   "metadata": {},
   "outputs": [],
   "source": [
    "medium = image.imread('imagens/Medium/peppers.jpg')\n",
    "medium.shape"
   ]
  },
  {
   "cell_type": "code",
   "execution_count": null,
   "metadata": {},
   "outputs": [],
   "source": []
  },
  {
   "cell_type": "code",
   "execution_count": null,
   "metadata": {},
   "outputs": [],
   "source": [
    "# ColorMaps\n",
    "cm_gray = clr.LinearSegmentedColormap.from_list('gray', [(0,0,0), (1, 1, 1)], N = 256)\n",
    "cm_red = clr.LinearSegmentedColormap.from_list('red', [(0,0,0), (1, 0, 0)], N = 256)\n",
    "cm_green = clr.LinearSegmentedColormap.from_list('green', [(0,0,0), (0, 1, 0)], N = 256)\n",
    "cm_blue = clr.LinearSegmentedColormap.from_list('blue', [(0,0,0), (0, 0, 1)], N = 256)\n",
    "\n",
    "\n",
    "# Adaptado de https://jakevdp.github.io/PythonDataScienceHandbook/04.07-customizing-colorbars.html\n",
    "cmap = plt.cm.get_cmap(cm_gray)\n",
    "gray = cmap(np.arange(cmap.N))\n",
    "\n",
    "cmap = plt.cm.get_cmap(cm_red)\n",
    "red = cmap(np.arange(cmap.N))\n",
    "\n",
    "cmap = plt.cm.get_cmap(cm_green)\n",
    "green = cmap(np.arange(cmap.N))\n",
    "\n",
    "cmap = plt.cm.get_cmap(cm_blue)\n",
    "blue = cmap(np.arange(cmap.N))\n",
    "\n",
    "fig, ax = plt.subplots(4, figsize=(10, 5),subplot_kw=dict(xticks=[], yticks=[]))\n",
    "ax[0].imshow([gray], extent=[0, 10, 0, 1])\n",
    "ax[1].imshow([red], extent=[0, 10, 0, 1])\n",
    "ax[2].imshow([green], extent=[0, 10, 0, 1])\n",
    "ax[3].imshow([blue], extent=[0, 10, 0, 1])\n"
   ]
  },
  {
   "cell_type": "markdown",
   "metadata": {},
   "source": [
    "*3.4 Função para separar imagem nos seus componentes R, G, B*"
   ]
  },
  {
   "cell_type": "code",
   "execution_count": null,
   "metadata": {},
   "outputs": [],
   "source": [
    "\"\"\"\n",
    "Separar uma imagem RGB nos seus componentes\n",
    "\"\"\"\n",
    "def separate_rgb(img):\n",
    "    r = img[:, :, 0]\n",
    "    g = img[:, :, 1]\n",
    "    b = img[:, :, 2]\n",
    "    \n",
    "    return r, g, b"
   ]
  },
  {
   "cell_type": "markdown",
   "metadata": {},
   "source": [
    "*3.5 Visualização da imagem nos seus componentes R,G,B*"
   ]
  },
  {
   "cell_type": "code",
   "execution_count": null,
   "metadata": {},
   "outputs": [],
   "source": [
    "r, g, b = separate_rgb(img)\n",
    "show_image(r, cm_red)\n",
    "show_image(g, cm_green)\n",
    "show_image(b, cm_blue)"
   ]
  },
  {
   "cell_type": "code",
   "execution_count": null,
   "metadata": {},
   "outputs": [],
   "source": [
    "\"\"\"\n",
    "Juntar as coponentes R, G e B para formar uma imagem\n",
    "\"\"\"\n",
    "def join_rgb(r, g, b):\n",
    "    return np.dstack((r, g, b))"
   ]
  },
  {
   "cell_type": "code",
   "execution_count": null,
   "metadata": {},
   "outputs": [],
   "source": [
    "img = join_rgb(r, g, b)\n",
    "show_image(img)"
   ]
  },
  {
   "cell_type": "markdown",
   "metadata": {},
   "source": [
    "*4.1 Função para padding da imagem*"
   ]
  },
  {
   "cell_type": "code",
   "execution_count": null,
   "metadata": {},
   "outputs": [],
   "source": [
    "\"\"\"\n",
    "Recebe uma imagem e altera as suas dimensões (m,n) para (16*p, 16*q).\n",
    "Isto é realizado através da cópia da ultima coluna/linha até atingir o valor multiplo de 16.\n",
    "Conta o numero de linhas/colunas adicionadas, (x,y) : 0<=x,y<=15.\n",
    "Devolve um tuplo com as dimensoes incrementadas (x,y) e a imagem com as novas dimensoes (16*p, 16*q)\n",
    "\"\"\"\n",
    "def padding(img : np.array):\n",
    "    img = img.copy()\n",
    "    x = y = 0\n",
    "    \n",
    "    while img.shape[0]%16 != 0:\n",
    "        img = np.concatenate((img, [img[-1]]), axis = 0)\n",
    "        x+=1\n",
    "    while img.shape[1]%16 != 0:\n",
    "        img = np.concatenate((img, img[:,-1:]), axis = 1)\n",
    "        y+=1\n",
    "    return (x,y), img"
   ]
  },
  {
   "cell_type": "code",
   "execution_count": null,
   "metadata": {},
   "outputs": [],
   "source": [
    "\"\"\"\n",
    "Recebe uma imagem e as dimensoes originais dela.\n",
    "Faz slice da imagem, elimando todos os elementos incrementados no padding;\n",
    "Devolve a imagem original\n",
    "\"\"\"\n",
    "def unpad(img : np.array, shape_inc : tuple[float]):\n",
    "    img = img.copy()\n",
    "    x,y = shape_inc\n",
    "    if x!=0 and y!=0:\n",
    "        img = img[:-x,:-y,:]\n",
    "    else:\n",
    "        if x==0:\n",
    "            if y!=0:\n",
    "                img = img[:,:-y,:]\n",
    "        else:\n",
    "            img = img[:-x,:,:]\n",
    "    return img"
   ]
  },
  {
   "cell_type": "code",
   "execution_count": null,
   "metadata": {},
   "outputs": [],
   "source": [
    "#img = read_image(\"imagens/barn_mountains.bmp\")\n",
    "\n",
    "show_image(img)\n",
    "shape, pad_img = padding(img)\n",
    "unpad_img = unpad(img, shape)\n",
    "show_image(unpad_img)\n",
    "\n",
    "print(f\"Original shape: {img.shape}\")\n",
    "print(f\"Padding shape: {pad_img.shape}\")\n",
    "print(f\"After Padding and Unpadding shape: {unpad_img.shape}\")"
   ]
  },
  {
   "cell_type": "markdown",
   "metadata": {},
   "source": [
    "*5.1 Função de conversão RGB -> YcBcR*"
   ]
  },
  {
   "cell_type": "code",
   "execution_count": null,
   "metadata": {},
   "outputs": [],
   "source": [
    "\"\"\"\n",
    "Converte imagem no formato RGB para imagem no formato yCbCr;\n",
    "\"\"\"\n",
    "def rgb_to_ycbcr(img : np.array):\n",
    "    img.copy()\n",
    "    \n",
    "    y_cb_cr_mat = np.array([ [0.299    , 0.587    , 0.114    ]\n",
    "                            ,[-0.168736, -0.331264, 0.5      ]\n",
    "                            ,[0.5      , -0.418688, -0.081312] ])\n",
    "    \n",
    "    y  = y_cb_cr_mat[0,0] * img[:,:,0] + y_cb_cr_mat[0,1] * img[:,:,1] + y_cb_cr_mat[0,2]*img[:,:,2]\n",
    "    cb = y_cb_cr_mat[1,0] * img[:,:,0] + y_cb_cr_mat[1,1] * img[:,:,1] + y_cb_cr_mat[1,2]*img[:,:,2] + 128\n",
    "    cr = y_cb_cr_mat[2,0] * img[:,:,0] + y_cb_cr_mat[2,1] * img[:,:,1] + y_cb_cr_mat[2,2]*img[:,:,2] + 128\n",
    "    \n",
    "    y_cb_cr = np.dstack((y, cb, cr))\n",
    "    return y_cb_cr"
   ]
  },
  {
   "cell_type": "code",
   "execution_count": null,
   "metadata": {},
   "outputs": [],
   "source": [
    "\"\"\"\n",
    "Converte imagem no formato yCbCr para imagem no formato RGB;\n",
    "\"\"\"\n",
    "def ycbcr_to_rgb(img : np.array):\n",
    "    img = img.copy()\n",
    "    \n",
    "    y_cb_cr_mat_inv = np.linalg.inv(\n",
    "                                np.array([ [0.299    , 0.587    , 0.114    ]\n",
    "                                        ,  [-0.168736, -0.331264, 0.5      ]\n",
    "                                        ,  [0.5      , -0.418688, -0.081312] ])\n",
    "                                    )\n",
    "    y = img[:, :, 0]\n",
    "    cb = img[:, :, 1] - 128\n",
    "    cr = img[:, :, 2] - 128\n",
    "    \n",
    "    r = y + y_cb_cr_mat_inv[0,2]*cr\n",
    "    g = y + y_cb_cr_mat_inv[1,1]*cb + y_cb_cr_mat_inv[1,2]*cr\n",
    "    b = y + y_cb_cr_mat_inv[2,1]*cb\n",
    "    \n",
    "    rgb = np.dstack((r,g,b))\n",
    "    np.round(rgb)\n",
    "    rgb[rgb > 255] = 255\n",
    "    rgb[rgb < 0] = 0\n",
    "    \n",
    "    return np.array(rgb, dtype = np.uint8)"
   ]
  },
  {
   "cell_type": "code",
   "execution_count": null,
   "metadata": {},
   "outputs": [],
   "source": [
    "#img = read_image(\"imagens/logo.bmp\")\n",
    "\n",
    "ycbcr = rgb_to_ycbcr(img)\n",
    "rgb = ycbcr_to_rgb(ycbcr)\n",
    "\n",
    "show_image(img)\n",
    "show_image(rgb)"
   ]
  },
  {
   "cell_type": "code",
   "execution_count": null,
   "metadata": {},
   "outputs": [],
   "source": [
    "# Método do colormap para representar os canais Cb e Cr:\n",
    "# https://stackoverflow.com/questions/28638848/displaying-y-cb-and-cr-components-in-matlab\n",
    "\n",
    "cm_cb = clr.LinearSegmentedColormap.from_list('cb', [(0.5, 0.5, 0), (0.5, 0.5, 1)], N = 256)\n",
    "cm_cr = clr.LinearSegmentedColormap.from_list('cr', [(0, 0.5, 0.5), (1, 0.5, 0.5)], N = 256)\n",
    "\n",
    "cmap = plt.cm.get_cmap(cm_cb)\n",
    "cm_cb_rep = cmap(np.arange(cmap.N))\n",
    "\n",
    "cmap = plt.cm.get_cmap(cm_cr)\n",
    "cm_cr_rep = cmap(np.arange(cmap.N))\n",
    "\n",
    "fig, ax = plt.subplots(2, figsize=(10, 2),subplot_kw=dict(xticks=[], yticks=[]))\n",
    "ax[0].imshow([cm_cb_rep], extent=[0, 10, 0, 1])\n",
    "ax[1].imshow([cm_cr_rep], extent=[0, 10, 0, 1])"
   ]
  },
  {
   "cell_type": "code",
   "execution_count": null,
   "metadata": {},
   "outputs": [],
   "source": [
    "y, cb, cr = separate_rgb(ycbcr)\n",
    "\n",
    "show_image(y, cm_gray)\n",
    "show_image(cb, cm_cb)\n",
    "show_image(cr, cm_cr)"
   ]
  },
  {
   "cell_type": "markdown",
   "metadata": {},
   "source": [
    "*6.1 Downsample*"
   ]
  },
  {
   "cell_type": "code",
   "execution_count": null,
   "metadata": {},
   "outputs": [],
   "source": [
    "\"\"\"\n",
    "\n",
    "\"\"\"\n",
    "def sub_sample(y: np.array, cb: np.array, cr: np.array, downsample_ratio: tuple[int]):\n",
    "    y = y.copy()\n",
    "    cb = cb.copy()\n",
    "    cr = cr.copy()\n",
    "    if downsample_ratio[-1] == 0:\n",
    "        ratio = round(downsample_ratio[0]/downsample_ratio[1])\n",
    "        cb = cb[::ratio,::ratio]\n",
    "        cr = cr[::ratio,::ratio]\n",
    "    else:\n",
    "        v_ratio = round(downsample_ratio[0]/downsample_ratio[1])\n",
    "        h_ratio = round(downsample_ratio[0]/downsample_ratio[2])\n",
    "        cb = cb[:, ::v_ratio]\n",
    "        cr = cr[:, ::v_ratio]\n",
    "    return y,cb,cr"
   ]
  },
  {
   "cell_type": "markdown",
   "metadata": {},
   "source": [
    "*2 Funções encode(), decode()*"
   ]
  },
  {
   "cell_type": "code",
   "execution_count": null,
   "metadata": {},
   "outputs": [],
   "source": [
    "def encode(img):\n",
    "    shape_inc, img = padding(img)\n",
    "    y_cb_cr_img = rgb_to_ycbcr(img)"
   ]
  },
  {
   "cell_type": "code",
   "execution_count": null,
   "metadata": {},
   "outputs": [],
   "source": [
    "def decode(img, shape_inc):\n",
    "    img = ycbcr_to_rgb(img)\n",
    "    img = unpad(img, shape_inc)"
   ]
  },
  {
   "cell_type": "code",
   "execution_count": null,
   "metadata": {},
   "outputs": [],
   "source": [
    "from scipy.fftpack import dct\n",
    "from scipy.fftpack import idct"
   ]
  },
  {
   "cell_type": "code",
   "execution_count": null,
   "metadata": {},
   "outputs": [],
   "source": []
  }
 ],
 "metadata": {
  "interpreter": {
   "hash": "31f2aee4e71d21fbe5cf8b01ff0e069b9275f58929596ceb00d14d90e3e16cd6"
  },
  "kernelspec": {
   "display_name": "Python 3 (ipykernel)",
   "language": "python",
   "name": "python3"
  },
  "language_info": {
   "codemirror_mode": {
    "name": "ipython",
    "version": 3
   },
   "file_extension": ".py",
   "mimetype": "text/x-python",
   "name": "python",
   "nbconvert_exporter": "python",
   "pygments_lexer": "ipython3",
   "version": "3.9.7"
  }
 },
 "nbformat": 4,
 "nbformat_minor": 2
}
