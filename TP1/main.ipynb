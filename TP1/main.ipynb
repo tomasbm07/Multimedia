{
 "cells": [
  {
   "cell_type": "code",
   "execution_count": null,
   "metadata": {},
   "outputs": [],
   "source": [
    "import numpy as np\n",
    "from matplotlib import image\n",
    "import matplotlib.pyplot as plt\n",
    "import matplotlib.colors as clr\n",
    "from scipy.fftpack import dct\n",
    "from scipy.fftpack import idct"
   ]
  },
  {
   "cell_type": "code",
   "execution_count": null,
   "metadata": {},
   "outputs": [],
   "source": [
    "\"\"\"\n",
    "Returns an array of type:\n",
    " - [x, y] for grayscale images\n",
    " - [x, y, [R, G, B]] for RGB images\n",
    " - [x, y, [R, G, B, A]] for RGBA images\n",
    "\"\"\"\n",
    "def read_image(filename):\n",
    "    img = image.imread(filename)\n",
    "    return img"
   ]
  },
  {
   "cell_type": "markdown",
   "metadata": {},
   "source": [
    "*3.2 função para criar colormap entre duas cores*"
   ]
  },
  {
   "cell_type": "code",
   "execution_count": null,
   "metadata": {},
   "outputs": [],
   "source": [
    "\"\"\"\n",
    "Funcao para criar um colormap;\n",
    "Parametros:\n",
    "            1.cmin-> tuplo com valores (r,g,b) minimos\n",
    "            2.cmax-> tuplo com valores (r,g,b) maximos\n",
    "Devolve o objeto correspondente ao colormap\n",
    "\"\"\"\n",
    "def create_colormap(cmin : tuple[float], cmax: tuple[float]):\n",
    "    return clr.LinearSegmentedColormap.from_list('', [cmin, cmax], N=256)"
   ]
  },
  {
   "cell_type": "markdown",
   "metadata": {},
   "source": [
    "*3.3 Função para visualizar a imagem com um certo colormap*"
   ]
  },
  {
   "cell_type": "code",
   "execution_count": null,
   "metadata": {},
   "outputs": [],
   "source": [
    "\"\"\"\n",
    "Função para mostrar uma imagem. Aceita um colormap definido pelo utilizador ou os do matplotlib\n",
    "\"\"\"\n",
    "    \n",
    "def show_image(img, colormap = None):    \n",
    "    plt.figure(figsize=(8,8))\n",
    "    \n",
    "    # Imagens com apenas uma coponenete: R, G, B ou Grayscale\n",
    "    if len(img.shape) == 2:\n",
    "        plt.imshow(img, cmap = colormap)\n",
    "    else:\n",
    "        if colormap != None:\n",
    "            new_img = img[:, :, 0]\n",
    "            plt.imshow(new_img, cmap = colormap)\n",
    "        else:\n",
    "            plt.imshow(img)\n",
    "\n",
    "    plt.axis('off')\n",
    "    plt.show()"
   ]
  },
  {
   "cell_type": "markdown",
   "metadata": {},
   "source": [
    "> # Semana 1\n",
    "Na diretória imagens estão presentes as imagens jpeg com baixa, média e alta qualidade, consoante os nomes das pastas;\n",
    "\n",
    "\n",
    "*3.1 Leitura da imagem*"
   ]
  },
  {
   "cell_type": "code",
   "execution_count": null,
   "metadata": {},
   "outputs": [],
   "source": [
    "#img = read_image('imagens/peppers.bmp')\n",
    "img = read_image('imagens/barn_mountains.bmp')\n",
    "#img = read_image('imagens/logo.bmp')\n",
    "\n",
    "show_image(img)"
   ]
  },
  {
   "cell_type": "markdown",
   "metadata": {},
   "source": [
    "\n",
    "Tamanho dos ficheiros .bmp\n",
    "\n",
    "|        | Barn | Peppers | Logo |\n",
    "|:------:|:----:|:-------:|:----:|\n",
    "|  size  |   356.5KB  |    589.9KB   |   421.6KB  |\n",
    "\n",
    "\n",
    "<br>\n",
    "Tamanho dos ficheiros após compressão para JPEG\n",
    "\n",
    "|        | Barn | Peppers | Logo |\n",
    "|:------:|:----:|:-------:|:----:|\n",
    "|   Low  |   43.4KB  |    35.2KB    |   21.9KB  |\n",
    "| Medium |   51.5KB  |    41.3KB    |   23.1KB  |\n",
    "|  High  |   67.5KB  |    57.7KB    |   27.3KB  |\n",
    "\n",
    "<br>\n",
    "Rácio de compressão\n",
    "\n",
    "|        | Barn | Peppers | Logo |\n",
    "|:------:|:----:|:-------:|:----:|\n",
    "|   Low  |   8.2:1  |    16.7:1    |   19.3:1  |\n",
    "| Medium |   6.9:1  |    14.3:1    |   18.3:1  |\n",
    "|  High  |   5.2:1  |    10.2:1    |   15.4:1  |\n",
    "\n",
    "<br>\n",
    "Diferenças subjetivas jpeg/bmp\n",
    "\n",
    "|        | Barn                 | Peppers | Logo |\n",
    "|:------:|:------------------:|:--------------:|:-----------------:|\n",
    "|   Low  | não muito evidente | muito evidente     | evidente      |\n",
    "| Medium | nada evidente      | não muito evidente | evidente      |\n",
    "|  High  | nada evidente      | nada evidente      | nada evidente |\n",
    "\n",
    "**TODO** A compressão aparenta ser mais evidente em imagens cujos pixels adjacentes têm uma cor bastante semelhante, sendo particularmente notável em casos em que as cores apresentam brilho elevado"
   ]
  },
  {
   "cell_type": "code",
   "execution_count": null,
   "metadata": {},
   "outputs": [],
   "source": [
    "low = image.imread('imagens/Low/peppers.jpg')\n",
    "low.shape"
   ]
  },
  {
   "cell_type": "code",
   "execution_count": null,
   "metadata": {},
   "outputs": [],
   "source": [
    "medium = image.imread('imagens/Medium/peppers.jpg')\n",
    "medium.shape"
   ]
  },
  {
   "cell_type": "code",
   "execution_count": null,
   "metadata": {},
   "outputs": [],
   "source": [
    "# ColorMaps\n",
    "cm_gray = clr.LinearSegmentedColormap.from_list('gray', [(0,0,0), (1, 1, 1)], N = 256)\n",
    "cm_red = clr.LinearSegmentedColormap.from_list('red', [(0,0,0), (1, 0, 0)], N = 256)\n",
    "cm_green = clr.LinearSegmentedColormap.from_list('green', [(0,0,0), (0, 1, 0)], N = 256)\n",
    "cm_blue = clr.LinearSegmentedColormap.from_list('blue', [(0,0,0), (0, 0, 1)], N = 256)\n",
    "\n",
    "\n",
    "# Adaptado de https://jakevdp.github.io/PythonDataScienceHandbook/04.07-customizing-colorbars.html\n",
    "cmap = plt.cm.get_cmap(cm_gray)\n",
    "gray = cmap(np.arange(cmap.N))\n",
    "\n",
    "cmap = plt.cm.get_cmap(cm_red)\n",
    "red = cmap(np.arange(cmap.N))\n",
    "\n",
    "cmap = plt.cm.get_cmap(cm_green)\n",
    "green = cmap(np.arange(cmap.N))\n",
    "\n",
    "cmap = plt.cm.get_cmap(cm_blue)\n",
    "blue = cmap(np.arange(cmap.N))\n",
    "\n",
    "fig, ax = plt.subplots(4, figsize=(10, 5),subplot_kw=dict(xticks=[], yticks=[]))\n",
    "ax[0].imshow([gray], extent=[0, 10, 0, 1])\n",
    "ax[1].imshow([red], extent=[0, 10, 0, 1])\n",
    "ax[2].imshow([green], extent=[0, 10, 0, 1])\n",
    "ax[3].imshow([blue], extent=[0, 10, 0, 1])\n"
   ]
  },
  {
   "cell_type": "markdown",
   "metadata": {},
   "source": [
    "*3.4 Função para separar imagem nos seus componentes R, G, B*"
   ]
  },
  {
   "cell_type": "code",
   "execution_count": null,
   "metadata": {},
   "outputs": [],
   "source": [
    "\"\"\"\n",
    "Separar uma imagem RGB nos seus componentes\n",
    "\"\"\"\n",
    "def separate_components(img):\n",
    "    r = img[:, :, 0]\n",
    "    g = img[:, :, 1]\n",
    "    b = img[:, :, 2]\n",
    "    \n",
    "    return r, g, b"
   ]
  },
  {
   "cell_type": "markdown",
   "metadata": {},
   "source": [
    "*3.5 Visualização da imagem nos seus componentes R,G,B*"
   ]
  },
  {
   "cell_type": "code",
   "execution_count": null,
   "metadata": {},
   "outputs": [],
   "source": [
    "r, g, b = separate_components(img)\n",
    "show_image(r, cm_red)\n",
    "show_image(g, cm_green)\n",
    "show_image(b, cm_blue)"
   ]
  },
  {
   "cell_type": "code",
   "execution_count": null,
   "metadata": {},
   "outputs": [],
   "source": [
    "\"\"\"\n",
    "Juntar as coponentes R, G e B para formar uma imagem\n",
    "\"\"\"\n",
    "def join_components(r, g, b):\n",
    "    return np.dstack((r, g, b))"
   ]
  },
  {
   "cell_type": "code",
   "execution_count": null,
   "metadata": {},
   "outputs": [],
   "source": [
    "img = join_components(r, g, b)\n",
    "show_image(img)"
   ]
  },
  {
   "cell_type": "markdown",
   "metadata": {},
   "source": [
    "*4.1 Função para padding da imagem*"
   ]
  },
  {
   "cell_type": "code",
   "execution_count": null,
   "metadata": {},
   "outputs": [],
   "source": [
    "\"\"\"\n",
    "Recebe uma imagem e altera as suas dimensões (m,n) para (16*p, 16*q).\n",
    "Isto é realizado através da cópia da ultima coluna/linha até atingir o valor multiplo de 16.\n",
    "Conta o numero de linhas/colunas adicionadas, (x,y) : 0<=x,y<=15.\n",
    "Devolve um tuplo com as dimensoes incrementadas (x,y) e a imagem com as novas dimensoes (16*p, 16*q)\n",
    "\"\"\"\n",
    "def padding(img : np.array):\n",
    "    img = img.copy()\n",
    "    shape = img.shape\n",
    "    \n",
    "    x,y = (16-img.shape[0]%16)%16, (16-img.shape[1]%16)%16\n",
    "    h_padding = np.repeat(img[-1:,:,:], x, axis = 0)\n",
    "    img = np.concatenate((img, h_padding), axis = 0)\n",
    "\n",
    "    v_padding = np.repeat(img[:,-1:,:], y, axis = 1)\n",
    "    img = np.concatenate((img, v_padding), axis = 1)\n",
    "    return shape, img"
   ]
  },
  {
   "cell_type": "code",
   "execution_count": null,
   "metadata": {},
   "outputs": [],
   "source": [
    "\"\"\"\n",
    "Recebe uma imagem e as dimensoes originais dela.\n",
    "Faz slice da imagem, elimando todos os elementos incrementados no padding;\n",
    "Devolve a imagem original\n",
    "\"\"\"\n",
    "def unpad(img : np.array, shape):\n",
    "    img = img.copy()\n",
    "    x,y,z = shape\n",
    "    img = img[:x, :y]\n",
    "    return img"
   ]
  },
  {
   "cell_type": "code",
   "execution_count": null,
   "metadata": {},
   "outputs": [],
   "source": [
    "show_image(img)\n",
    "shape, pad_img = padding(img)\n",
    "show_image(pad_img)\n",
    "unpad_img = unpad(img, shape)\n",
    "show_image(unpad_img)\n",
    "\n",
    "# Verificação que fica igual ao original\n",
    "print(np.all(np.equal(img, unpad_img)))\n",
    "\n",
    "print(f\"Original shape: {img.shape}\")\n",
    "print(f\"Padding shape: {pad_img.shape}\")\n",
    "print(f\"After Padding and Unpadding shape: {unpad_img.shape}\")"
   ]
  },
  {
   "cell_type": "markdown",
   "metadata": {},
   "source": [
    "*5.1 Função de conversão RGB -> YcBcR*"
   ]
  },
  {
   "cell_type": "code",
   "execution_count": null,
   "metadata": {},
   "outputs": [],
   "source": [
    "\"\"\"\n",
    "Converte imagem no formato RGB para imagem no formato yCbCr;\n",
    "\"\"\"\n",
    "def rgb_to_ycbcr(img : np.array):\n",
    "    img.copy()\n",
    "    \n",
    "    y_cb_cr_mat = np.array([ [0.299    , 0.587    , 0.114    ]\n",
    "                            ,[-0.168736, -0.331264, 0.5      ]\n",
    "                            ,[0.5      , -0.418688, -0.081312] ])\n",
    "    \n",
    "    y  = y_cb_cr_mat[0,0] * img[:,:,0] + y_cb_cr_mat[0,1] * img[:,:,1] + y_cb_cr_mat[0,2]*img[:,:,2]\n",
    "    cb = y_cb_cr_mat[1,0] * img[:,:,0] + y_cb_cr_mat[1,1] * img[:,:,1] + y_cb_cr_mat[1,2]*img[:,:,2] + 128\n",
    "    cr = y_cb_cr_mat[2,0] * img[:,:,0] + y_cb_cr_mat[2,1] * img[:,:,1] + y_cb_cr_mat[2,2]*img[:,:,2] + 128\n",
    "    \n",
    "    y_cb_cr = np.dstack((y, cb, cr))\n",
    "    return y_cb_cr"
   ]
  },
  {
   "cell_type": "code",
   "execution_count": null,
   "metadata": {},
   "outputs": [],
   "source": [
    "\"\"\"\n",
    "Converte imagem no formato yCbCr para imagem no formato RGB;\n",
    "\"\"\"\n",
    "def ycbcr_to_rgb(img : np.array):\n",
    "    img = img.copy()\n",
    "    \n",
    "    y_cb_cr_mat_inv = np.linalg.inv(\n",
    "                                np.array([ [0.299    , 0.587    , 0.114    ]\n",
    "                                        ,  [-0.168736, -0.331264, 0.5      ]\n",
    "                                        ,  [0.5      , -0.418688, -0.081312] ])\n",
    "                                    )\n",
    "    y = img[:, :, 0]\n",
    "    cb = img[:, :, 1] - 128\n",
    "    cr = img[:, :, 2] - 128\n",
    "    \n",
    "    r = y + y_cb_cr_mat_inv[0,2]*cr\n",
    "    g = y + y_cb_cr_mat_inv[1,1]*cb + y_cb_cr_mat_inv[1,2]*cr\n",
    "    b = y + y_cb_cr_mat_inv[2,1]*cb\n",
    "    \n",
    "    rgb = np.dstack((r,g,b))\n",
    "    rgb = np.round(rgb)\n",
    "    rgb[rgb > 255] = 255\n",
    "    rgb[rgb < 0] = 0\n",
    "    \n",
    "    return rgb.astype(np.uint8)"
   ]
  },
  {
   "cell_type": "code",
   "execution_count": null,
   "metadata": {},
   "outputs": [],
   "source": [
    "ycbcr = rgb_to_ycbcr(pad_img)\n",
    "rgb = ycbcr_to_rgb(ycbcr)\n",
    "\n",
    "# Verificação que fica igual ao original\n",
    "#print(np.all(np.equal(img, rgb)))\n",
    "\n",
    "show_image(img)\n",
    "show_image(rgb)"
   ]
  },
  {
   "cell_type": "code",
   "execution_count": null,
   "metadata": {},
   "outputs": [],
   "source": [
    "# Método do colormap para representar os canais Cb e Cr:\n",
    "# https://stackoverflow.com/questions/28638848/displaying-y-cb-and-cr-components-in-matlab\n",
    "\n",
    "cm_cb = clr.LinearSegmentedColormap.from_list('cb', [(0.5, 0.5, 0), (0.5, 0.5, 1)], N = 256)\n",
    "cm_cr = clr.LinearSegmentedColormap.from_list('cr', [(0, 0.5, 0.5), (1, 0.5, 0.5)], N = 256)\n",
    "\n",
    "cmap = plt.cm.get_cmap(cm_cb)\n",
    "cm_cb_rep = cmap(np.arange(cmap.N))\n",
    "\n",
    "cmap = plt.cm.get_cmap(cm_cr)\n",
    "cm_cr_rep = cmap(np.arange(cmap.N))\n",
    "\n",
    "fig, ax = plt.subplots(2, figsize=(10, 2),subplot_kw=dict(xticks=[], yticks=[]))\n",
    "ax[0].imshow([cm_cb_rep], extent=[0, 10, 0, 1])\n",
    "ax[1].imshow([cm_cr_rep], extent=[0, 10, 0, 1])"
   ]
  },
  {
   "cell_type": "code",
   "execution_count": null,
   "metadata": {},
   "outputs": [],
   "source": [
    "y, cb, cr = separate_components(ycbcr)\n",
    "\n",
    "show_image(y, cm_gray)\n",
    "show_image(cb, cm_cb)\n",
    "show_image(cr, cm_cr)"
   ]
  },
  {
   "cell_type": "markdown",
   "metadata": {},
   "source": [
    "*6.1 Downsample*"
   ]
  },
  {
   "cell_type": "code",
   "execution_count": null,
   "metadata": {},
   "outputs": [],
   "source": [
    "\"\"\"\n",
    "\n",
    "\"\"\"\n",
    "def sub_sample(y, cb, cr, downsample_ratio):\n",
    "    y = y.copy()\n",
    "    cb = cb.copy()\n",
    "    cr = cr.copy()\n",
    "    if downsample_ratio[-1] == 0:\n",
    "        ratio = round(downsample_ratio[0]/downsample_ratio[1])\n",
    "        cb = cb[::ratio,::ratio]\n",
    "        cr = cr[::ratio,::ratio]\n",
    "    else:\n",
    "        v_ratio = round(downsample_ratio[0]/downsample_ratio[1])\n",
    "        h_ratio = round(downsample_ratio[0]/downsample_ratio[2])\n",
    "        cb = cb[:, ::v_ratio]\n",
    "        cr = cr[:, ::v_ratio]\n",
    "    return y,cb,cr"
   ]
  },
  {
   "cell_type": "code",
   "execution_count": null,
   "metadata": {},
   "outputs": [],
   "source": [
    "\"\"\"\n",
    "funciona em -- (4,2,0) e (4,2,2) --\n",
    "Parametros:\n",
    "            1. y --------------> matriz com os valores da luminancia Y\n",
    "            2. cb -------------> matriz downsampled de cb\n",
    "            3. cr -------------> matriz downsample de cr\n",
    "            4. upsample_ratio -> tuplo com 3 inteiros correspondentes ao ratio de downsample (Y:Cr:Cb)\n",
    "\"\"\"\n",
    "def const_up_sample(y, cb, cr, upsample_ratio):\n",
    "    y = y.copy()\n",
    "    cb = cb.copy()\n",
    "    cr = cr.copy()\n",
    "    \n",
    "    cbArr = np.zeros(shape = y.shape)\n",
    "    crArr = np.zeros(shape = y.shape)\n",
    "    \n",
    "    if upsample_ratio[-1] == 0:\n",
    "        ratio = int(upsample_ratio[0]/upsample_ratio[1])\n",
    "        \n",
    "        cbArr[::ratio,::ratio] = cb\n",
    "        cbArr[1::ratio,1::ratio] = cb\n",
    "        \n",
    "        crArr[::ratio,::ratio] = cr\n",
    "        crArr[1::ratio,1::ratio] = cr\n",
    "        \n",
    "    else:\n",
    "        cb_ratio = int(upsample_ratio[0]/upsample_ratio[1])\n",
    "        cr_ratio = int(upsample_ratio[0]/upsample_ratio[2])\n",
    "        \n",
    "        cbArr[:,::cb_ratio] = cb\n",
    "        cbArr[:,1::cb_ratio] = cb\n",
    "        \n",
    "        crArr[:,::cr_ratio] = cr\n",
    "        crArr[:,1::cr_ratio] = cr\n",
    "        \n",
    "    return y,cbArr,crArr"
   ]
  },
  {
   "cell_type": "code",
   "execution_count": null,
   "metadata": {},
   "outputs": [],
   "source": [
    "\"\"\"\n",
    "funciona em -- (4,2,0) e (4,2,2) --\n",
    "Parametros:\n",
    "            1. y --------------> matriz com os valores da luminancia Y\n",
    "            2. cb -------------> matriz downsampled de cb\n",
    "            3. cr -------------> matriz downsample de cr\n",
    "            4. upsample_ratio -> tuplo com 3 inteiros correspondentes ao ratio de downsample (Y:Cr:Cb)\n",
    "\"\"\"\n",
    "def linear_up_sample(y, cb, cr, upsample_ratio):\n",
    "    y = y.copy()\n",
    "    cb = cb.copy()\n",
    "    cr = cr.copy()\n",
    "    \n",
    "    new_cb = np.zeros(shape = y.shape)\n",
    "    new_cr = np.zeros(shape = y.shape)\n",
    "    \n",
    "    if upsample_ratio[2] == 0:\n",
    "        ratio = int(upsample_ratio[0]/upsample_ratio[1])\n",
    "        #--------------------Cb interpolation----\n",
    "        cb_cols_mean = (cb[:,:-1] + np.roll(cb, -1, 1)[:,:-1])//2\n",
    "        cb_cols_mean = np.concatenate((cb_cols_mean, cb[:,-1:]), axis = 1)\n",
    "\n",
    "        new_cb[::2,::2] = cb\n",
    "        new_cb[::2,1::2] = cb_cols_mean\n",
    "\n",
    "        cb = new_cb[::2]\n",
    "        \n",
    "        cb_lines_mean = (cb[:-1] + np.roll(cb, -1, 0)[:-1])//2\n",
    "        cb_lines_mean = np.concatenate((cb_lines_mean, cb[-1:]), axis = 0)\n",
    "\n",
    "        new_cb[1::2,:] = cb_lines_mean\n",
    "        \n",
    "        #------------------------Cr interpolation----\n",
    "        cr_cols_mean = (cr[:,:-1] + np.roll(cr, -1, 1)[:,:-1])//2\n",
    "        cr_cols_mean = np.concatenate((cr_cols_mean, cr[:,-1:]), axis = 1)\n",
    "\n",
    "        new_cr[::2,::2] = cr\n",
    "        new_cr[::2,1::2] = cr_cols_mean\n",
    "\n",
    "        cr = new_cr[::2]\n",
    "        \n",
    "        cr_lines_mean = (cr[:-1] + np.roll(cr, -1, 0)[:-1])//2\n",
    "        cr_lines_mean = np.concatenate((cr_lines_mean, cr[-1:]), axis = 0)\n",
    "\n",
    "        new_cr[1::2,:] = cr_lines_mean\n",
    "        \n",
    "    else:\n",
    "        cb_ratio = int(upsample_ratio[0]/upsample_ratio[1])\n",
    "        cr_ratio = int(upsample_ratio[0]/upsample_ratio[2])\n",
    "        \n",
    "        cb_mean = (cb[:,:-1] + np.roll(cb, -1, 1)[:,:-1])/2\n",
    "        cb_mean = np.concatenate((cb_mean, cb[:,-1:]), axis = 1)\n",
    "        new_cb[:,::cb_ratio] = cb\n",
    "        new_cb[:,1::cb_ratio] = cb_mean\n",
    "        \n",
    "        cr_mean = (cr[:,:-1] + np.roll(cr, -1, 1)[:,:-1])/2\n",
    "        cr_mean = np.concatenate((cr_mean, cr[:,-1:]), axis = 1)\n",
    "        new_cr[:,::cr_ratio] = cr\n",
    "        new_cr[:,1::cr_ratio] = cr_mean\n",
    "    \n",
    "    return y,new_cb, new_cr"
   ]
  },
  {
   "cell_type": "code",
   "execution_count": null,
   "metadata": {},
   "outputs": [],
   "source": [
    "#ratio = (4, 2, 2)\n",
    "ratio = (4, 2, 0)\n",
    "y_d, cb_d, cr_d = sub_sample(y, cb, cr, ratio)"
   ]
  },
  {
   "cell_type": "code",
   "execution_count": null,
   "metadata": {},
   "outputs": [],
   "source": [
    "def dct_(a):\n",
    "    return dct(dct(a, norm=\"ortho\").T, norm = \"ortho\").T"
   ]
  },
  {
   "cell_type": "code",
   "execution_count": null,
   "metadata": {},
   "outputs": [],
   "source": [
    "def idct_(a_dct):\n",
    "    return idct(idct(a_dct, norm='ortho').T, norm='ortho').T"
   ]
  },
  {
   "cell_type": "code",
   "execution_count": null,
   "metadata": {},
   "outputs": [],
   "source": [
    "#DCT\n",
    "\n",
    "y_dct = dct_(y_d)\n",
    "cb_dct = dct_(cb_d)\n",
    "cr_dct = dct_(cr_d)\n",
    "\n",
    "show_image(np.log(np.abs(y_dct) + 0.0001), cm_gray)\n",
    "show_image(np.log(np.abs(cb_dct) + 0.0001), cm_gray)\n",
    "show_image(np.log(np.abs(cr_dct) + 0.0001), cm_gray)"
   ]
  },
  {
   "cell_type": "code",
   "execution_count": null,
   "metadata": {},
   "outputs": [],
   "source": [
    "# Inverso da DCT\n",
    "\n",
    "y_idct = idct_(y_dct)\n",
    "cb_idct = idct_(cb_dct)\n",
    "cr_idct = idct_(cr_dct)\n",
    "\n",
    "show_image(y_idct, cm_gray)\n",
    "show_image(cb_idct, cm_cb)\n",
    "show_image(cr_idct, cm_cr)"
   ]
  },
  {
   "cell_type": "code",
   "execution_count": null,
   "metadata": {},
   "outputs": [],
   "source": [
    "# Reconstrução com copia da coluna da esquerda\n",
    "\n",
    "y, cb, cr = const_up_sample(y_idct, cb_idct, cr_idct, ratio)\n",
    "\n",
    "show_image(y, cm_gray)\n",
    "show_image(cb, cm_cb)\n",
    "show_image(cr, cm_cr)"
   ]
  },
  {
   "cell_type": "code",
   "execution_count": null,
   "metadata": {},
   "outputs": [],
   "source": [
    "#Recontrução com interpolação linear (média) da coluna anterior e seguinte\n",
    "\n",
    "y, cb, cr = linear_up_sample(y_idct, cb_idct, cr_idct, ratio)\n",
    "\n",
    "show_image(y, cm_gray)\n",
    "show_image(cb, cm_cb)\n",
    "show_image(cr, cm_cr)"
   ]
  },
  {
   "cell_type": "code",
   "execution_count": null,
   "metadata": {},
   "outputs": [],
   "source": [
    "def dct_n_blocks(y, cb, cr, step):\n",
    "    dct_y = np.zeros(y.shape)\n",
    "    dct_cb = np.zeros(cb.shape)\n",
    "    dct_cr = np.zeros(cr.shape)\n",
    "    \n",
    "    for i in range(0, y.shape[0], step):\n",
    "        for j in range(0, y.shape[1], step):\n",
    "            dct_y[i:i+step, j:j+step] = dct_(y[i:i+step, j:j+step])\n",
    "    \n",
    "    for i in range(0, cb.shape[0], step):\n",
    "        for j in range(0, cb.shape[1], step):\n",
    "            dct_cb[i:i+step, j:j+step] = dct_(cb[i:i+step, j:j+step])\n",
    "            dct_cr[i:i+step, j:j+step] = dct_(cr[i:i+step, j:j+step])\n",
    "            \n",
    "    return dct_y, dct_cb, dct_cr"
   ]
  },
  {
   "cell_type": "code",
   "execution_count": null,
   "metadata": {},
   "outputs": [],
   "source": [
    "def idct_n_blocks(y, cb, cr, step):\n",
    "    idct_y = np.zeros(y.shape)\n",
    "    idct_cb = np.zeros(cb.shape)\n",
    "    idct_cr = np.zeros(cr.shape)\n",
    "    \n",
    "    for i in range(0, y.shape[0], step):\n",
    "        for j in range(0, y.shape[1], step):\n",
    "            idct_y[i:i+step, j:j+step] = idct_(y[i:i+step, j:j+step])\n",
    "    \n",
    "    for i in range(0, cb.shape[0], step):\n",
    "        for j in range(0, cb.shape[1], step):\n",
    "            idct_cb[i:i+step, j:j+step] = idct_(cb[i:i+step, j:j+step])\n",
    "            idct_cr[i:i+step, j:j+step] = idct_(cr[i:i+step, j:j+step])\n",
    "            \n",
    "    return idct_y, idct_cb, idct_cr"
   ]
  },
  {
   "cell_type": "code",
   "execution_count": null,
   "metadata": {},
   "outputs": [],
   "source": [
    "n = 8\n",
    "y_dctn, cb_dctn, cr_dctn = dct_n_blocks(y, cb, cr, n)\n",
    "\n",
    "show_image(np.log(np.abs(y_dctn) + 0.0001), cm_gray)\n",
    "show_image(np.log(np.abs(cb_dctn) + 0.0001), cm_cb)\n",
    "show_image(np.log(np.abs(cr_dctn) + 0.0001), cm_cr)"
   ]
  },
  {
   "cell_type": "code",
   "execution_count": null,
   "metadata": {},
   "outputs": [],
   "source": [
    "y_d, cb_d, cr_d = idct_n_blocks(y_dctn, cb_dctn, cr_dctn, n)\n",
    "\n",
    "show_image(y_d, cm_gray)\n",
    "show_image(cb_d, cm_cb)\n",
    "show_image(cr_d, cm_cr)"
   ]
  },
  {
   "cell_type": "code",
   "execution_count": null,
   "metadata": {},
   "outputs": [],
   "source": [
    "def encoder(filename, ratio, n):\n",
    "    img = read_image(filename)\n",
    "    \n",
    "    shape, pad_img = padding(img)\n",
    "    \n",
    "    ycbcr = rgb_to_ycbcr(pad_img)\n",
    "    \n",
    "    y, cb, cr = separate_components(ycbcr)\n",
    "    \n",
    "    y_d, cb_d, cr_d = sub_sample(y, cb, cr, ratio)\n",
    "    \n",
    "    #y_dct, cb_dct, cr_dct = dct_(y_d), dct_(cb_d), dct_(cr_d)\n",
    "    y_dct, cb_dct, cr_dct = dct_n_blocks(y_d, cb_d, cr_d, n)\n",
    "    \n",
    "    return y_dct, cb_dct, cr_dct, shape"
   ]
  },
  {
   "cell_type": "code",
   "execution_count": null,
   "metadata": {},
   "outputs": [],
   "source": [
    "def decoder(y_dct, cb_dct, cr_dct, ratio, shape, n):\n",
    "    \n",
    "    #y_idct, cb_idct, cr_idct = idct_(y_d), idct_(cb_d), idct_(cr_d) # DCT na imagem toda\n",
    "    y_idct, cb_idct, cr_idct = idct_n_blocks(y_dct, cb_dct, cr_dct, n) # DCT em blocos n x n\n",
    "\n",
    "    #y, cb, cr = const_up_sample(y_idct, cb_idct, cr_idct, ratio) # Upsample: cópia da coluna á esquerda\n",
    "    y, cb, cr = linear_up_sample(y_idct, cb_idct, cr_idct, ratio) # Upsample: média entre o anterior e o seguinte\n",
    "    \n",
    "    ycbcr = join_components(y, cb, cr)\n",
    "    \n",
    "    img_rgb = ycbcr_to_rgb(ycbcr)\n",
    "    \n",
    "    img = unpad(img_rgb, shape)\n",
    "    \n",
    "    return img"
   ]
  },
  {
   "cell_type": "code",
   "execution_count": null,
   "metadata": {},
   "outputs": [],
   "source": [
    "# Encode\n",
    "ratio = (4, 2, 2)\n",
    "n = 8\n",
    "y_dct, cb_dct, cr_dct, shape = encoder('imagens/barn_mountains.bmp', ratio, n)\n",
    "\n",
    "# Decode\n",
    "img = decoder(y_dct, cb_dct, cr_dct, ratio, shape, n)\n",
    "show_image(img)\n",
    "print(img.shape)"
   ]
  },
  {
   "cell_type": "code",
   "execution_count": null,
   "metadata": {},
   "outputs": [],
   "source": []
  },
  {
   "cell_type": "code",
   "execution_count": null,
   "metadata": {},
   "outputs": [],
   "source": []
  }
 ],
 "metadata": {
  "interpreter": {
   "hash": "31f2aee4e71d21fbe5cf8b01ff0e069b9275f58929596ceb00d14d90e3e16cd6"
  },
  "kernelspec": {
   "display_name": "Python 3 (ipykernel)",
   "language": "python",
   "name": "python3"
  },
  "language_info": {
   "codemirror_mode": {
    "name": "ipython",
    "version": 3
   },
   "file_extension": ".py",
   "mimetype": "text/x-python",
   "name": "python",
   "nbconvert_exporter": "python",
   "pygments_lexer": "ipython3",
   "version": "3.9.7"
  }
 },
 "nbformat": 4,
 "nbformat_minor": 2
}
