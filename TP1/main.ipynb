{
 "cells": [
  {
   "cell_type": "code",
   "execution_count": null,
   "metadata": {},
   "outputs": [],
   "source": [
    "import numpy as np\n",
    "from matplotlib import image\n",
    "import matplotlib.pyplot as plt\n",
    "import matplotlib.colors as clr"
   ]
  },
  {
   "cell_type": "code",
   "execution_count": null,
   "metadata": {},
   "outputs": [],
   "source": [
    "\"\"\"\n",
    "Returns an array of type:\n",
    " - [x, y] for grayscale images\n",
    " - [x, y, [R, G, B]] for RGB images\n",
    " - [x, y, [R, G, B, A]] for RGBA images\n",
    "\"\"\"\n",
    "def read_image(filename):\n",
    "    img = image.imread(filename)\n",
    "    return img"
   ]
  },
  {
   "cell_type": "code",
   "execution_count": null,
   "metadata": {},
   "outputs": [],
   "source": [
    "\"\"\"\n",
    "Função para mostrar uma imagem. Aceita um colormap definido pelo utilizador ou os do matplotlib\n",
    "\n",
    "\"\"\"\n",
    "    \n",
    "def show_image(img, colormap = None):    \n",
    "    plt.figure(figsize=(8,8))\n",
    "    \n",
    "    # Imagens com apenas uma coponenete: R, G, B ou Grayscale\n",
    "    if len(img.shape) == 2:\n",
    "        plt.imshow(img, cmap = colormap)\n",
    "    else:\n",
    "        if colormap != None:\n",
    "            new_img = img[:, :, 0]\n",
    "            plt.imshow(new_img, cmap = colormap)\n",
    "        else:\n",
    "            plt.imshow(img)\n",
    "\n",
    "    plt.axis('off')\n",
    "    plt.show()"
   ]
  },
  {
   "cell_type": "markdown",
   "metadata": {},
   "source": [
    "> # Semana 1\n",
    "Na diretória imagens estão presentes as imagens jpeg com baixa, média e alta qualidade, consoante os nomes das pastas;\n"
   ]
  },
  {
   "cell_type": "code",
   "execution_count": null,
   "metadata": {},
   "outputs": [],
   "source": [
    "img = read_image('imagens/peppers.bmp')\n",
    "#img = read_image('imagens/barn_mountains.bmp')\n",
    "#img = read_image('imagens/logo.bmp')\n",
    "\n",
    "show_image(img)"
   ]
  },
  {
   "cell_type": "markdown",
   "metadata": {},
   "source": [
    "\n",
    "Tamanho dos ficheiros .bmp\n",
    "\n",
    "|        | Barn | Peppers | Logo |\n",
    "|:------:|:----:|:-------:|:----:|\n",
    "|  size  |   356.5KB  |    589.9KB   |   421.6KB  |\n",
    "\n",
    "\n",
    "<br>\n",
    "Tamanho dos ficheiros após compressão para JPEG\n",
    "\n",
    "|        | Barn | Peppers | Logo |\n",
    "|:------:|:----:|:-------:|:----:|\n",
    "|   Low  |   43.4KB  |    35.2KB    |   21.9KB  |\n",
    "| Medium |   51.5KB  |    41.3KB    |   23.1KB  |\n",
    "|  High  |   67.5KB  |    57.7KB    |   27.3KB  |\n",
    "\n",
    "<br>\n",
    "Rácio de compressão\n",
    "\n",
    "|        | Barn | Peppers | Logo |\n",
    "|:------:|:----:|:-------:|:----:|\n",
    "|   Low  |   8.2:1  |    16.7:1    |   19.3:1  |\n",
    "| Medium |   6.9:1  |    14.3:1    |   18.3:1  |\n",
    "|  High  |   5.2:1  |    10.2:1    |   15.4:1  |"
   ]
  },
  {
   "cell_type": "code",
   "execution_count": null,
   "metadata": {},
   "outputs": [],
   "source": [
    "low = image.imread('imagens/Low/peppers.jpg')\n",
    "low.shape"
   ]
  },
  {
   "cell_type": "code",
   "execution_count": null,
   "metadata": {},
   "outputs": [],
   "source": [
    "medium = image.imread('imagens/Medium/peppers.jpg')\n",
    "medium.shape"
   ]
  },
  {
   "cell_type": "code",
   "execution_count": null,
   "metadata": {},
   "outputs": [],
   "source": []
  },
  {
   "cell_type": "code",
   "execution_count": null,
   "metadata": {},
   "outputs": [],
   "source": [
    "#TODO: Make plot better\n",
    "\n",
    "# ColorMaps\n",
    "cm_gray = clr.LinearSegmentedColormap.from_list('gray', [(0,0,0), (1, 1, 1)], N = 256)\n",
    "cm_red = clr.LinearSegmentedColormap.from_list('red', [(0,0,0), (1, 0, 0)], N = 256)\n",
    "cm_green = clr.LinearSegmentedColormap.from_list('green', [(0,0,0), (0, 1, 0)], N = 256)\n",
    "cm_blue = clr.LinearSegmentedColormap.from_list('blue', [(0,0,0), (0, 0, 1)], N = 256)\n",
    "\n",
    "\n",
    "f, ax = plt.subplots(4)\n",
    "\n",
    "cmap = plt.cm.get_cmap(cm_gray)\n",
    "colors = cmap(np.arange(cmap.N))\n",
    "ax[0].set_title('Gray')\n",
    "ax[0].imshow([colors], extent=[0, 10, 0, 1])\n",
    "\n",
    "cmap = plt.cm.get_cmap(cm_red)\n",
    "colors = cmap(np.arange(cmap.N))\n",
    "ax[1].set_title('Red')\n",
    "ax[1].imshow([colors], extent=[0, 10, 0, 1])\n",
    "\n",
    "cmap = plt.cm.get_cmap(cm_green)\n",
    "colors = cmap(np.arange(cmap.N))\n",
    "ax[2].set_title('Green')\n",
    "ax[2].imshow([colors], extent=[0, 10, 0, 1])\n",
    "\n",
    "cmap = plt.cm.get_cmap(cm_blue)\n",
    "colors = cmap(np.arange(cmap.N))\n",
    "ax[3].set_title('Blue')\n",
    "ax[3].imshow([colors], extent=[0, 10, 0, 1])\n",
    "\n",
    "f.show()\n"
   ]
  },
  {
   "cell_type": "code",
   "execution_count": null,
   "metadata": {},
   "outputs": [],
   "source": [
    "def separate_rgb(img):\n",
    "    r = img[:, :, 0]\n",
    "    g = img[:, :, 1]\n",
    "    b = img[:, :, 2]\n",
    "    \n",
    "    return r, g, b"
   ]
  },
  {
   "cell_type": "code",
   "execution_count": null,
   "metadata": {},
   "outputs": [],
   "source": [
    "r, g, b = separate_rgb(img)\n",
    "show_image(r, cm_red)\n",
    "show_image(g, cm_green)\n",
    "show_image(b, cm_blue)"
   ]
  },
  {
   "cell_type": "code",
   "execution_count": null,
   "metadata": {},
   "outputs": [],
   "source": [
    "def join_rgb(r, g, b):\n",
    "    return np.dstack((r, g, b))"
   ]
  },
  {
   "cell_type": "code",
   "execution_count": null,
   "metadata": {},
   "outputs": [],
   "source": [
    "img = join_rgb(r, g, b)\n",
    "show_image(img)"
   ]
  },
  {
   "cell_type": "code",
   "execution_count": null,
   "metadata": {},
   "outputs": [],
   "source": []
  }
 ],
 "metadata": {
  "interpreter": {
   "hash": "31f2aee4e71d21fbe5cf8b01ff0e069b9275f58929596ceb00d14d90e3e16cd6"
  },
  "kernelspec": {
   "display_name": "Python 3 (ipykernel)",
   "language": "python",
   "name": "python3"
  },
  "language_info": {
   "codemirror_mode": {
    "name": "ipython",
    "version": 3
   },
   "file_extension": ".py",
   "mimetype": "text/x-python",
   "name": "python",
   "nbconvert_exporter": "python",
   "pygments_lexer": "ipython3",
   "version": "3.9.7"
  }
 },
 "nbformat": 4,
 "nbformat_minor": 2
}
